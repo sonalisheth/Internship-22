{
 "cells": [
  {
   "cell_type": "markdown",
   "id": "0af71102",
   "metadata": {},
   "source": [
    "# Web Scraping Assignment-2"
   ]
  },
  {
   "cell_type": "markdown",
   "id": "3ff75557",
   "metadata": {},
   "source": [
    "## Instructions \n",
    "   ### 1. All the questions must be done in a single Jupyter notebook. \n",
    "   ### 2. There should be proper comments in code."
   ]
  },
  {
   "cell_type": "code",
   "execution_count": 129,
   "id": "36eb53a0",
   "metadata": {
    "scrolled": false
   },
   "outputs": [
    {
     "name": "stdout",
     "output_type": "stream",
     "text": [
      "Requirement already satisfied: selenium in c:\\programdata\\anaconda3\\lib\\site-packages (4.1.0)\n",
      "Requirement already satisfied: trio~=0.17 in c:\\programdata\\anaconda3\\lib\\site-packages (from selenium) (0.19.0)\n",
      "Requirement already satisfied: urllib3[secure]~=1.26 in c:\\programdata\\anaconda3\\lib\\site-packages (from selenium) (1.26.4)\n",
      "Requirement already satisfied: trio-websocket~=0.9 in c:\\programdata\\anaconda3\\lib\\site-packages (from selenium) (0.9.2)\n",
      "Requirement already satisfied: sniffio in c:\\programdata\\anaconda3\\lib\\site-packages (from trio~=0.17->selenium) (1.2.0)\n",
      "Requirement already satisfied: async-generator>=1.9 in c:\\programdata\\anaconda3\\lib\\site-packages (from trio~=0.17->selenium) (1.10)\n",
      "Requirement already satisfied: outcome in c:\\programdata\\anaconda3\\lib\\site-packages (from trio~=0.17->selenium) (1.1.0)\n",
      "Requirement already satisfied: cffi>=1.14 in c:\\programdata\\anaconda3\\lib\\site-packages (from trio~=0.17->selenium) (1.14.5)\n",
      "Requirement already satisfied: attrs>=19.2.0 in c:\\programdata\\anaconda3\\lib\\site-packages (from trio~=0.17->selenium) (20.3.0)\n",
      "Requirement already satisfied: sortedcontainers in c:\\programdata\\anaconda3\\lib\\site-packages (from trio~=0.17->selenium) (2.3.0)\n",
      "Requirement already satisfied: idna in c:\\programdata\\anaconda3\\lib\\site-packages (from trio~=0.17->selenium) (2.10)\n",
      "Requirement already satisfied: pycparser in c:\\programdata\\anaconda3\\lib\\site-packages (from cffi>=1.14->trio~=0.17->selenium) (2.20)\n",
      "Requirement already satisfied: wsproto>=0.14 in c:\\programdata\\anaconda3\\lib\\site-packages (from trio-websocket~=0.9->selenium) (1.0.0)\n",
      "Requirement already satisfied: pyOpenSSL>=0.14 in c:\\programdata\\anaconda3\\lib\\site-packages (from urllib3[secure]~=1.26->selenium) (20.0.1)\n",
      "Requirement already satisfied: certifi in c:\\programdata\\anaconda3\\lib\\site-packages (from urllib3[secure]~=1.26->selenium) (2020.12.5)\n",
      "Requirement already satisfied: cryptography>=1.3.4 in c:\\programdata\\anaconda3\\lib\\site-packages (from urllib3[secure]~=1.26->selenium) (3.4.7)\n",
      "Requirement already satisfied: six>=1.5.2 in c:\\programdata\\anaconda3\\lib\\site-packages (from pyOpenSSL>=0.14->urllib3[secure]~=1.26->selenium) (1.15.0)\n",
      "Requirement already satisfied: h11<1,>=0.9.0 in c:\\programdata\\anaconda3\\lib\\site-packages (from wsproto>=0.14->trio-websocket~=0.9->selenium) (0.12.0)\n"
     ]
    }
   ],
   "source": [
    "# install the selenium library\n",
    "\n",
    "!pip install selenium"
   ]
  },
  {
   "cell_type": "code",
   "execution_count": 130,
   "id": "9e6c57ad",
   "metadata": {},
   "outputs": [],
   "source": [
    "# import necessary libraries\n",
    "\n",
    "import pandas as pd\n",
    "import selenium\n",
    "from selenium import webdriver"
   ]
  },
  {
   "cell_type": "markdown",
   "id": "3e8bc684",
   "metadata": {},
   "source": [
    "### Q1: Write a python program to scrape data for “Data Analyst” Job position in “Bangalore” location. You have to scrape the job-title, job-location, company_name, experience_required. You have to scrape first 10 jobs data. \n",
    "#### This task will be done in following steps: \n",
    "#### 1. First get the webpage ![https://www.naukri.com/](https://cdn-images-1.medium.com/max/1200/1*YZM8sGY7ld-GrlQ5Tmy1qw.png)\n",
    "#### 2. Enter “Data Analyst” in “Skill, Designations, Companies” field and enter “Bangalore” in “enter the location” field. \n",
    "#### 3. Then click the search button. \n",
    "#### 4. Then scrape the data for the first 10 jobs results you get. \n",
    "#### 5. Finally create a dataframe of the scraped data. \n",
    "#### Note: All of the above steps have to be done in code. No step is to be done manually. "
   ]
  },
  {
   "cell_type": "code",
   "execution_count": 131,
   "id": "c9d6af52",
   "metadata": {},
   "outputs": [
    {
     "name": "stderr",
     "output_type": "stream",
     "text": [
      "<ipython-input-131-0e43fb486e48>:2: DeprecationWarning: executable_path has been deprecated, please pass in a Service object\n",
      "  driver = webdriver.Chrome(r\"C:/Users/DELL/Downloads/chromedriver_win32/chromedriver.exe\")\n"
     ]
    }
   ],
   "source": [
    "# connect to webdriver\n",
    "driver = webdriver.Chrome(r\"C:/Users/DELL/Downloads/chromedriver_win32/chromedriver.exe\")\n"
   ]
  },
  {
   "cell_type": "code",
   "execution_count": 132,
   "id": "63ef0fc3",
   "metadata": {},
   "outputs": [],
   "source": [
    "# get webpage\n",
    "driver.get(\"https://www.naukri.com/\")"
   ]
  },
  {
   "cell_type": "code",
   "execution_count": 133,
   "id": "0e71c19b",
   "metadata": {
    "scrolled": true
   },
   "outputs": [
    {
     "name": "stderr",
     "output_type": "stream",
     "text": [
      "<ipython-input-133-29f97827f25a>:2: DeprecationWarning: find_element_by_* commands are deprecated. Please use find_element() instead\n",
      "  search_job = driver.find_element_by_id(\"qsb-keyword-sugg\")\n",
      "<ipython-input-133-29f97827f25a>:5: DeprecationWarning: find_element_by_* commands are deprecated. Please use find_element() instead\n",
      "  search_loc = driver.find_element_by_xpath(\"//input[@id='qsb-location-sugg']\")\n"
     ]
    }
   ],
   "source": [
    "# enter “Data Analyst” in “Skill, Designations, Companies” field.\n",
    "search_job = driver.find_element_by_id(\"qsb-keyword-sugg\")\n",
    "search_job.send_keys(\"Data Analyst\")\n",
    "# enter “Bangalore” in “enter the location” field.\n",
    "search_loc = driver.find_element_by_xpath(\"//input[@id='qsb-location-sugg']\")\n",
    "search_loc.send_keys(\"Bangalore\")"
   ]
  },
  {
   "cell_type": "code",
   "execution_count": 134,
   "id": "284cb437",
   "metadata": {
    "scrolled": false
   },
   "outputs": [
    {
     "name": "stderr",
     "output_type": "stream",
     "text": [
      "<ipython-input-134-a0ff133df9fe>:2: DeprecationWarning: find_element_by_* commands are deprecated. Please use find_element() instead\n",
      "  search_btn = driver.find_element_by_xpath(\"//div[@class='search-btn']/button\")\n"
     ]
    }
   ],
   "source": [
    "# click the search button\n",
    "search_btn = driver.find_element_by_xpath(\"//div[@class='search-btn']/button\")\n",
    "search_btn.click()"
   ]
  },
  {
   "cell_type": "markdown",
   "id": "b0f7a06b",
   "metadata": {},
   "source": [
    "###  Scraping the data for the first 10 jobs results"
   ]
  },
  {
   "cell_type": "code",
   "execution_count": 154,
   "id": "a0f39293",
   "metadata": {},
   "outputs": [],
   "source": [
    "# specifying the url of the webpage to be scraped\n",
    "url = \"https://www.naukri.com/data-analyst-data-analyst-jobs-in-bangalore?k=data%20analyst%2C%20data%20analyst&l=bangalore\""
   ]
  },
  {
   "cell_type": "code",
   "execution_count": 155,
   "id": "14c310e2",
   "metadata": {},
   "outputs": [],
   "source": [
    "# open the webpage through our web driver\n",
    "\n",
    "driver.get(url)"
   ]
  },
  {
   "cell_type": "code",
   "execution_count": 156,
   "id": "adf2e1db",
   "metadata": {},
   "outputs": [],
   "source": [
    "# creating empty list to scraping data into them\n",
    "\n",
    "job_title=[]\n",
    "company_name=[]\n",
    "experience_required=[]\n",
    "job_location=[]"
   ]
  },
  {
   "cell_type": "code",
   "execution_count": 157,
   "id": "d4ab9a96",
   "metadata": {
    "scrolled": true
   },
   "outputs": [
    {
     "name": "stderr",
     "output_type": "stream",
     "text": [
      "<ipython-input-157-2252e1506609>:3: DeprecationWarning: find_elements_by_* commands are deprecated. Please use find_elements() instead\n",
      "  title_tag = driver.find_elements_by_xpath(\"//a[@class='title fw500 ellipsis']\")\n"
     ]
    },
    {
     "data": {
      "text/plain": [
       "[<selenium.webdriver.remote.webelement.WebElement (session=\"1f75ebb2871a661c740ae271eff89d04\", element=\"47f8c60f-8403-4fda-9652-894826f4db5b\")>,\n",
       " <selenium.webdriver.remote.webelement.WebElement (session=\"1f75ebb2871a661c740ae271eff89d04\", element=\"624d60f5-2586-40a6-a1bc-1a33877a62a2\")>,\n",
       " <selenium.webdriver.remote.webelement.WebElement (session=\"1f75ebb2871a661c740ae271eff89d04\", element=\"5fbbe0f9-1e80-4514-93aa-a4a07004286f\")>,\n",
       " <selenium.webdriver.remote.webelement.WebElement (session=\"1f75ebb2871a661c740ae271eff89d04\", element=\"0dd61a20-8c41-4735-b7db-f5b382f25311\")>,\n",
       " <selenium.webdriver.remote.webelement.WebElement (session=\"1f75ebb2871a661c740ae271eff89d04\", element=\"55c791d8-3058-4485-89d2-3146b23ab93c\")>,\n",
       " <selenium.webdriver.remote.webelement.WebElement (session=\"1f75ebb2871a661c740ae271eff89d04\", element=\"433ff607-5085-47e7-bf8a-9630f4b34a53\")>,\n",
       " <selenium.webdriver.remote.webelement.WebElement (session=\"1f75ebb2871a661c740ae271eff89d04\", element=\"cd1a1374-b4c9-40cf-af58-471b99cc4a9a\")>,\n",
       " <selenium.webdriver.remote.webelement.WebElement (session=\"1f75ebb2871a661c740ae271eff89d04\", element=\"63c892d4-0258-4735-9217-a0b6059008d4\")>,\n",
       " <selenium.webdriver.remote.webelement.WebElement (session=\"1f75ebb2871a661c740ae271eff89d04\", element=\"5303a37e-3075-4e13-bd62-df84f3cacf51\")>,\n",
       " <selenium.webdriver.remote.webelement.WebElement (session=\"1f75ebb2871a661c740ae271eff89d04\", element=\"44387eee-3041-4a21-950e-218106917311\")>]"
      ]
     },
     "execution_count": 157,
     "metadata": {},
     "output_type": "execute_result"
    }
   ],
   "source": [
    "# extracting all the tags having job-titles\n",
    "\n",
    "title_tag = driver.find_elements_by_xpath(\"//a[@class='title fw500 ellipsis']\")\n",
    "title_tag[0:10]"
   ]
  },
  {
   "cell_type": "code",
   "execution_count": 158,
   "id": "aa921b3c",
   "metadata": {
    "scrolled": false
   },
   "outputs": [
    {
     "name": "stdout",
     "output_type": "stream",
     "text": [
      "Below are the top 10 job data's job title: \n",
      " ['Data Analyst / Engineer', 'Business Analyst - Data Science & Advanced Analytics', 'Assistant/deputy Manager - Geo-spatial Data Analyst', 'Supervisor Role, Data Analyst, six sigma, Analytical skills, Database', 'Senior Data Analyst', 'Manager - Data Analyst', 'Data Analyst', 'Data Analyst', 'Data Analyst', 'Data Analyst']\n"
     ]
    }
   ],
   "source": [
    "# extract the job title text iteratively from these tags one by one\n",
    "\n",
    "for i in title_tag:\n",
    "    title = i.text\n",
    "    job_title.append(title)\n",
    "job_title = job_title[0:10]\n",
    "\n",
    "print(\"Below are the top 10 job data's job title: \\n\", job_title)"
   ]
  },
  {
   "cell_type": "code",
   "execution_count": 178,
   "id": "73d12fb1",
   "metadata": {
    "scrolled": true
   },
   "outputs": [
    {
     "name": "stderr",
     "output_type": "stream",
     "text": [
      "<ipython-input-178-513637e53001>:3: DeprecationWarning: find_elements_by_* commands are deprecated. Please use find_elements() instead\n",
      "  company_tag = driver.find_elements_by_xpath(\"//a[@class='subTitle ellipsis fleft']\")\n"
     ]
    },
    {
     "data": {
      "text/plain": [
       "[<selenium.webdriver.remote.webelement.WebElement (session=\"1f75ebb2871a661c740ae271eff89d04\", element=\"f211e184-2666-405b-924d-2d870de88a86\")>,\n",
       " <selenium.webdriver.remote.webelement.WebElement (session=\"1f75ebb2871a661c740ae271eff89d04\", element=\"b4fb0279-c406-47f9-a70f-77f837610e60\")>,\n",
       " <selenium.webdriver.remote.webelement.WebElement (session=\"1f75ebb2871a661c740ae271eff89d04\", element=\"8d2fce01-4e32-459d-ae94-f1753aeb6208\")>,\n",
       " <selenium.webdriver.remote.webelement.WebElement (session=\"1f75ebb2871a661c740ae271eff89d04\", element=\"e462f06b-f97c-42b7-8b5e-935aa6a5f5a3\")>,\n",
       " <selenium.webdriver.remote.webelement.WebElement (session=\"1f75ebb2871a661c740ae271eff89d04\", element=\"b7b56f0d-f4bd-4041-8403-2f868000e2bc\")>,\n",
       " <selenium.webdriver.remote.webelement.WebElement (session=\"1f75ebb2871a661c740ae271eff89d04\", element=\"f73f65a0-91a6-43e3-93ec-854b0c035207\")>,\n",
       " <selenium.webdriver.remote.webelement.WebElement (session=\"1f75ebb2871a661c740ae271eff89d04\", element=\"b89ee007-ed12-453c-bb87-22e55c76c89b\")>,\n",
       " <selenium.webdriver.remote.webelement.WebElement (session=\"1f75ebb2871a661c740ae271eff89d04\", element=\"21459c0c-6859-4165-af39-96bf3ebc589a\")>,\n",
       " <selenium.webdriver.remote.webelement.WebElement (session=\"1f75ebb2871a661c740ae271eff89d04\", element=\"82ee8005-5cfb-408a-9641-fa209f46a61d\")>,\n",
       " <selenium.webdriver.remote.webelement.WebElement (session=\"1f75ebb2871a661c740ae271eff89d04\", element=\"4f575af8-9be0-479c-a341-a36fe4e5bfce\")>]"
      ]
     },
     "execution_count": 178,
     "metadata": {},
     "output_type": "execute_result"
    }
   ],
   "source": [
    "# extracting all the tags having company name\n",
    "\n",
    "company_tag = driver.find_elements_by_xpath(\"//a[@class='subTitle ellipsis fleft']\")\n",
    "company_tag[0:10]"
   ]
  },
  {
   "cell_type": "code",
   "execution_count": 179,
   "id": "aea1ca10",
   "metadata": {
    "scrolled": false
   },
   "outputs": [
    {
     "name": "stdout",
     "output_type": "stream",
     "text": [
      "Below are the top 10 job data's : \n",
      " ['Animaker India Private Limited', 'Vmware', 'Maruti Suzuki India', 'Concentrix Daksh Services', 'SYREN TECHNOLOGIES PRIVATE LIMITED', 'Genpact', 'Ola Cabs', 'Groww', 'GlaxoSmithKline Pharmaceuticals Limited', 'Infineon Technologies Pvt Ltd']\n"
     ]
    }
   ],
   "source": [
    "# extract the job title text iteratively from these tags one by one\n",
    "\n",
    "for i in company_tag:\n",
    "    company = i.text\n",
    "    company_name.append(company)\n",
    "company_name = company_name[10:20]\n",
    "print(\"Below are the top 10 job data's : \\n\", company_name)"
   ]
  },
  {
   "cell_type": "code",
   "execution_count": 180,
   "id": "3b821014",
   "metadata": {
    "scrolled": true
   },
   "outputs": [
    {
     "name": "stderr",
     "output_type": "stream",
     "text": [
      "<ipython-input-180-f44eed06f8a7>:3: DeprecationWarning: find_elements_by_* commands are deprecated. Please use find_elements() instead\n",
      "  exp_tag = driver.find_elements_by_xpath(\"//li[@class='fleft grey-text br2 placeHolderLi experience']\")\n"
     ]
    },
    {
     "data": {
      "text/plain": [
       "[<selenium.webdriver.remote.webelement.WebElement (session=\"1f75ebb2871a661c740ae271eff89d04\", element=\"c5994436-1e13-4c2c-9062-a80b9467151b\")>,\n",
       " <selenium.webdriver.remote.webelement.WebElement (session=\"1f75ebb2871a661c740ae271eff89d04\", element=\"5eb0f6e1-9a1b-45a3-871f-14eadee68c3d\")>,\n",
       " <selenium.webdriver.remote.webelement.WebElement (session=\"1f75ebb2871a661c740ae271eff89d04\", element=\"5c08e165-8779-4c02-b605-d5ea443f0423\")>,\n",
       " <selenium.webdriver.remote.webelement.WebElement (session=\"1f75ebb2871a661c740ae271eff89d04\", element=\"e40793c4-2c75-4c56-b157-805bae4741f2\")>,\n",
       " <selenium.webdriver.remote.webelement.WebElement (session=\"1f75ebb2871a661c740ae271eff89d04\", element=\"41b91615-6198-453f-8424-892ab9be742e\")>,\n",
       " <selenium.webdriver.remote.webelement.WebElement (session=\"1f75ebb2871a661c740ae271eff89d04\", element=\"04132611-63bb-4581-9c70-6e1ad2cc4282\")>,\n",
       " <selenium.webdriver.remote.webelement.WebElement (session=\"1f75ebb2871a661c740ae271eff89d04\", element=\"11ea35ce-ed93-4173-9329-1358c5336a53\")>,\n",
       " <selenium.webdriver.remote.webelement.WebElement (session=\"1f75ebb2871a661c740ae271eff89d04\", element=\"2ac0c96a-fa8e-480b-8af6-39d3a3d9300f\")>,\n",
       " <selenium.webdriver.remote.webelement.WebElement (session=\"1f75ebb2871a661c740ae271eff89d04\", element=\"a0ccc9e0-9e66-4ff0-981a-3c7c586bd790\")>,\n",
       " <selenium.webdriver.remote.webelement.WebElement (session=\"1f75ebb2871a661c740ae271eff89d04\", element=\"4e1415e3-ac72-4996-8ba7-f611c75a9021\")>]"
      ]
     },
     "execution_count": 180,
     "metadata": {},
     "output_type": "execute_result"
    }
   ],
   "source": [
    "# extracting all the tags having job-experience\n",
    "\n",
    "exp_tag = driver.find_elements_by_xpath(\"//li[@class='fleft grey-text br2 placeHolderLi experience']\")\n",
    "exp_tag[0:10]"
   ]
  },
  {
   "cell_type": "code",
   "execution_count": 181,
   "id": "b35405ea",
   "metadata": {},
   "outputs": [
    {
     "data": {
      "text/plain": [
       "['4-9 Yrs',\n",
       " '2-5 Yrs',\n",
       " '3-5 Yrs',\n",
       " '3-6 Yrs',\n",
       " '5-10 Yrs',\n",
       " '5-10 Yrs',\n",
       " '1-3 Yrs',\n",
       " '1-3 Yrs',\n",
       " '2-5 Yrs',\n",
       " '1-3 Yrs']"
      ]
     },
     "execution_count": 181,
     "metadata": {},
     "output_type": "execute_result"
    }
   ],
   "source": [
    "# extract the job experience text iteratively from these tags one by one\n",
    "\n",
    "for i in exp_tag: \n",
    "    experience_required.append(i.text.split(\" \")[0])\n",
    "experience_required= experience_required[0:10]\n",
    "print(\"Below are the top 10 job data's job title: \\n\", experience_required)"
   ]
  },
  {
   "cell_type": "code",
   "execution_count": 182,
   "id": "12fdff23",
   "metadata": {
    "scrolled": true
   },
   "outputs": [
    {
     "name": "stderr",
     "output_type": "stream",
     "text": [
      "<ipython-input-182-1cb08f22d18a>:3: DeprecationWarning: find_elements_by_* commands are deprecated. Please use find_elements() instead\n",
      "  location_tag = driver.find_elements_by_xpath(\"//li[@class='fleft grey-text br2 placeHolderLi location']\")\n"
     ]
    },
    {
     "data": {
      "text/plain": [
       "[<selenium.webdriver.remote.webelement.WebElement (session=\"1f75ebb2871a661c740ae271eff89d04\", element=\"f2a2f570-d66b-411f-8b6c-569e5a88cab7\")>,\n",
       " <selenium.webdriver.remote.webelement.WebElement (session=\"1f75ebb2871a661c740ae271eff89d04\", element=\"e6c6ce5a-9484-4d42-922b-bb51714a33b4\")>,\n",
       " <selenium.webdriver.remote.webelement.WebElement (session=\"1f75ebb2871a661c740ae271eff89d04\", element=\"5d5821e7-de65-4f87-bf3f-115c46eebe65\")>,\n",
       " <selenium.webdriver.remote.webelement.WebElement (session=\"1f75ebb2871a661c740ae271eff89d04\", element=\"6b981768-d513-44f0-ac2d-6f4d8a2ed1fb\")>,\n",
       " <selenium.webdriver.remote.webelement.WebElement (session=\"1f75ebb2871a661c740ae271eff89d04\", element=\"07e160b2-7ca4-4da0-b866-696c5cd95ab4\")>,\n",
       " <selenium.webdriver.remote.webelement.WebElement (session=\"1f75ebb2871a661c740ae271eff89d04\", element=\"ce07ff34-fca5-4ac4-82fb-de8f9032282c\")>,\n",
       " <selenium.webdriver.remote.webelement.WebElement (session=\"1f75ebb2871a661c740ae271eff89d04\", element=\"9c43dbef-2246-4e24-a596-78c0ee9fe2c6\")>,\n",
       " <selenium.webdriver.remote.webelement.WebElement (session=\"1f75ebb2871a661c740ae271eff89d04\", element=\"476035eb-b8a3-48df-b616-5a188f99473c\")>,\n",
       " <selenium.webdriver.remote.webelement.WebElement (session=\"1f75ebb2871a661c740ae271eff89d04\", element=\"7b3826e4-5a39-43c2-a3a8-ee8e8e1d85ea\")>,\n",
       " <selenium.webdriver.remote.webelement.WebElement (session=\"1f75ebb2871a661c740ae271eff89d04\", element=\"82d35832-0b78-45af-b66e-95385f58da59\")>]"
      ]
     },
     "execution_count": 182,
     "metadata": {},
     "output_type": "execute_result"
    }
   ],
   "source": [
    "# extracting all the tags having job-location \n",
    "\n",
    "location_tag = driver.find_elements_by_xpath(\"//li[@class='fleft grey-text br2 placeHolderLi location']\")\n",
    "location_tag[0:10]"
   ]
  },
  {
   "cell_type": "code",
   "execution_count": 183,
   "id": "a0cc22cf",
   "metadata": {},
   "outputs": [
    {
     "name": "stdout",
     "output_type": "stream",
     "text": [
      "Below are the top 10 job data's company location \n",
      " ['Chennai, Bangalore/Bengaluru', 'Bangalore/Bengaluru', 'Gurgaon/Gurugram, bangalore', 'Bangalore/Bengaluru', 'Kolkata, Hyderabad/Secunderabad, Pune, Ahmedabad, Chennai, Bangalore/Bengaluru, Delhi / NCR, Mumbai (All Areas)\\n(WFH during Covid)', 'Bangalore/Bengaluru', 'Bangalore/Bengaluru', 'Palani, Bangalore/Bengaluru', 'Bangalore/Bengaluru', 'Bangalore/Bengaluru']\n"
     ]
    }
   ],
   "source": [
    "# extract the job location text iteratively from these tags one by one\n",
    "\n",
    "for i in location_tag:\n",
    "    location = i.text\n",
    "    job_location.append(location)\n",
    "job_location = job_location[0:10]\n",
    "print(\"Below are the top 10 job data's company location \\n\", job_location)"
   ]
  },
  {
   "cell_type": "code",
   "execution_count": 184,
   "id": "72d2bdcf",
   "metadata": {
    "scrolled": true
   },
   "outputs": [
    {
     "data": {
      "text/html": [
       "<div>\n",
       "<style scoped>\n",
       "    .dataframe tbody tr th:only-of-type {\n",
       "        vertical-align: middle;\n",
       "    }\n",
       "\n",
       "    .dataframe tbody tr th {\n",
       "        vertical-align: top;\n",
       "    }\n",
       "\n",
       "    .dataframe thead th {\n",
       "        text-align: right;\n",
       "    }\n",
       "</style>\n",
       "<table border=\"1\" class=\"dataframe\">\n",
       "  <thead>\n",
       "    <tr style=\"text-align: right;\">\n",
       "      <th></th>\n",
       "      <th>Title</th>\n",
       "      <th>Location</th>\n",
       "      <th>Company_Name</th>\n",
       "      <th>Experience</th>\n",
       "    </tr>\n",
       "  </thead>\n",
       "  <tbody>\n",
       "    <tr>\n",
       "      <th>0</th>\n",
       "      <td>Data Analyst / Engineer</td>\n",
       "      <td>Chennai, Bangalore/Bengaluru</td>\n",
       "      <td>Animaker India Private Limited</td>\n",
       "      <td>4-9 Yrs</td>\n",
       "    </tr>\n",
       "    <tr>\n",
       "      <th>1</th>\n",
       "      <td>Business Analyst - Data Science &amp; Advanced Ana...</td>\n",
       "      <td>Bangalore/Bengaluru</td>\n",
       "      <td>Vmware</td>\n",
       "      <td>2-5 Yrs</td>\n",
       "    </tr>\n",
       "    <tr>\n",
       "      <th>2</th>\n",
       "      <td>Assistant/deputy Manager - Geo-spatial Data An...</td>\n",
       "      <td>Gurgaon/Gurugram, bangalore</td>\n",
       "      <td>Maruti Suzuki India</td>\n",
       "      <td>3-5 Yrs</td>\n",
       "    </tr>\n",
       "    <tr>\n",
       "      <th>3</th>\n",
       "      <td>Supervisor Role, Data Analyst, six sigma, Anal...</td>\n",
       "      <td>Bangalore/Bengaluru</td>\n",
       "      <td>Concentrix Daksh Services</td>\n",
       "      <td>3-6 Yrs</td>\n",
       "    </tr>\n",
       "    <tr>\n",
       "      <th>4</th>\n",
       "      <td>Senior Data Analyst</td>\n",
       "      <td>Kolkata, Hyderabad/Secunderabad, Pune, Ahmedab...</td>\n",
       "      <td>SYREN TECHNOLOGIES PRIVATE LIMITED</td>\n",
       "      <td>5-10 Yrs</td>\n",
       "    </tr>\n",
       "    <tr>\n",
       "      <th>5</th>\n",
       "      <td>Manager - Data Analyst</td>\n",
       "      <td>Bangalore/Bengaluru</td>\n",
       "      <td>Genpact</td>\n",
       "      <td>5-10 Yrs</td>\n",
       "    </tr>\n",
       "    <tr>\n",
       "      <th>6</th>\n",
       "      <td>Data Analyst</td>\n",
       "      <td>Bangalore/Bengaluru</td>\n",
       "      <td>Ola Cabs</td>\n",
       "      <td>1-3 Yrs</td>\n",
       "    </tr>\n",
       "    <tr>\n",
       "      <th>7</th>\n",
       "      <td>Data Analyst</td>\n",
       "      <td>Palani, Bangalore/Bengaluru</td>\n",
       "      <td>Groww</td>\n",
       "      <td>1-3 Yrs</td>\n",
       "    </tr>\n",
       "    <tr>\n",
       "      <th>8</th>\n",
       "      <td>Data Analyst</td>\n",
       "      <td>Bangalore/Bengaluru</td>\n",
       "      <td>GlaxoSmithKline Pharmaceuticals Limited</td>\n",
       "      <td>2-5 Yrs</td>\n",
       "    </tr>\n",
       "    <tr>\n",
       "      <th>9</th>\n",
       "      <td>Data Analyst</td>\n",
       "      <td>Bangalore/Bengaluru</td>\n",
       "      <td>Infineon Technologies Pvt Ltd</td>\n",
       "      <td>1-3 Yrs</td>\n",
       "    </tr>\n",
       "  </tbody>\n",
       "</table>\n",
       "</div>"
      ],
      "text/plain": [
       "                                               Title  \\\n",
       "0                            Data Analyst / Engineer   \n",
       "1  Business Analyst - Data Science & Advanced Ana...   \n",
       "2  Assistant/deputy Manager - Geo-spatial Data An...   \n",
       "3  Supervisor Role, Data Analyst, six sigma, Anal...   \n",
       "4                                Senior Data Analyst   \n",
       "5                             Manager - Data Analyst   \n",
       "6                                       Data Analyst   \n",
       "7                                       Data Analyst   \n",
       "8                                       Data Analyst   \n",
       "9                                       Data Analyst   \n",
       "\n",
       "                                            Location  \\\n",
       "0                       Chennai, Bangalore/Bengaluru   \n",
       "1                                Bangalore/Bengaluru   \n",
       "2                        Gurgaon/Gurugram, bangalore   \n",
       "3                                Bangalore/Bengaluru   \n",
       "4  Kolkata, Hyderabad/Secunderabad, Pune, Ahmedab...   \n",
       "5                                Bangalore/Bengaluru   \n",
       "6                                Bangalore/Bengaluru   \n",
       "7                        Palani, Bangalore/Bengaluru   \n",
       "8                                Bangalore/Bengaluru   \n",
       "9                                Bangalore/Bengaluru   \n",
       "\n",
       "                              Company_Name Experience  \n",
       "0           Animaker India Private Limited    4-9 Yrs  \n",
       "1                                   Vmware    2-5 Yrs  \n",
       "2                      Maruti Suzuki India    3-5 Yrs  \n",
       "3                Concentrix Daksh Services    3-6 Yrs  \n",
       "4       SYREN TECHNOLOGIES PRIVATE LIMITED   5-10 Yrs  \n",
       "5                                  Genpact   5-10 Yrs  \n",
       "6                                 Ola Cabs    1-3 Yrs  \n",
       "7                                    Groww    1-3 Yrs  \n",
       "8  GlaxoSmithKline Pharmaceuticals Limited    2-5 Yrs  \n",
       "9            Infineon Technologies Pvt Ltd    1-3 Yrs  "
      ]
     },
     "execution_count": 184,
     "metadata": {},
     "output_type": "execute_result"
    }
   ],
   "source": [
    "# making DataFrame of the top 10 job details from the \"wwww.naukri.com\"\n",
    "\n",
    "naukri_analytics = pd.DataFrame({'Title':job_title, \n",
    "                       'Location': job_location,\n",
    "                       'Company_Name':company_name, \n",
    "                       'Experience':experience_required,                        \n",
    "                       })\n",
    "naukri_analytics"
   ]
  },
  {
   "cell_type": "code",
   "execution_count": 185,
   "id": "f4d1e3d3",
   "metadata": {},
   "outputs": [],
   "source": [
    "driver.close()"
   ]
  },
  {
   "cell_type": "markdown",
   "id": "b2405a7b",
   "metadata": {},
   "source": [
    "## Q2: Write a python program to scrape data for “Data Scientist” Job position in “Bangalore” location. You have to scrape the job-title, job-location, company_name. You have to scrape first 10 jobs data. \n",
    "### This task will be done in following steps: \n",
    "### 1. First get the webpage ![https://www.naukri.com/](https://cdn-images-1.medium.com/max/1200/1*YZM8sGY7ld-GrlQ5Tmy1qw.png)\n",
    "### 2. Enter “Data Scientist” in “Skill, Designations, Companies” field and enter “Bangalore” in “enter the location” field. \n",
    "### 3. Then click the search button. \n",
    "### 4. Then scrape the data for the first 10 jobs results you get. \n",
    "### 5. Finally create a dataframe of the scraped data. \n",
    "#### Note: All of the above steps have to be done in code. No step is to be done manually."
   ]
  },
  {
   "cell_type": "code",
   "execution_count": 197,
   "id": "4489ed70",
   "metadata": {},
   "outputs": [
    {
     "name": "stderr",
     "output_type": "stream",
     "text": [
      "<ipython-input-197-1c19880c4f20>:2: DeprecationWarning: executable_path has been deprecated, please pass in a Service object\n",
      "  driver = webdriver.Chrome(r\"C:/Users/DELL/Downloads/chromedriver_win32/chromedriver.exe\")\n"
     ]
    }
   ],
   "source": [
    "# connect to webdriver\n",
    "driver = webdriver.Chrome(r\"C:/Users/DELL/Downloads/chromedriver_win32/chromedriver.exe\")\n",
    "# get webpage\n",
    "driver.get(\"https://www.naukri.com/\")"
   ]
  },
  {
   "cell_type": "code",
   "execution_count": 198,
   "id": "a61cc1e4",
   "metadata": {
    "scrolled": true
   },
   "outputs": [
    {
     "name": "stderr",
     "output_type": "stream",
     "text": [
      "<ipython-input-198-9c1f93df4f61>:2: DeprecationWarning: find_element_by_* commands are deprecated. Please use find_element() instead\n",
      "  search_job = driver.find_element_by_id(\"qsb-keyword-sugg\")\n",
      "<ipython-input-198-9c1f93df4f61>:5: DeprecationWarning: find_element_by_* commands are deprecated. Please use find_element() instead\n",
      "  search_loc = driver.find_element_by_xpath(\"//input[@id='qsb-location-sugg']\")\n",
      "<ipython-input-198-9c1f93df4f61>:8: DeprecationWarning: find_element_by_* commands are deprecated. Please use find_element() instead\n",
      "  search_btn = driver.find_element_by_xpath(\"//div[@class='search-btn']/button\")\n"
     ]
    }
   ],
   "source": [
    "# enter “Data Scientist” in “Skill, Designations, Companies” field.\n",
    "search_job = driver.find_element_by_id(\"qsb-keyword-sugg\")\n",
    "search_job.send_keys(\"Data Scientist\")\n",
    "# enter “Bangalore” in “enter the location” field.\n",
    "search_loc = driver.find_element_by_xpath(\"//input[@id='qsb-location-sugg']\")\n",
    "search_loc.send_keys(\"Bangalore\")\n",
    "# click the search button\n",
    "search_btn = driver.find_element_by_xpath(\"//div[@class='search-btn']/button\")\n",
    "search_btn.click()"
   ]
  },
  {
   "cell_type": "markdown",
   "id": "cc8b83ae",
   "metadata": {},
   "source": [
    "### Scraping the data for the first 10 jobs results"
   ]
  },
  {
   "cell_type": "code",
   "execution_count": 199,
   "id": "fb1e3bd9",
   "metadata": {},
   "outputs": [],
   "source": [
    "# specifying the url of the webpage to be scraped\n",
    "url = \"https://www.naukri.com/data-scientist-data-scientist-jobs-in-bangalore?k=data%20scientist%2C%20data%20scientist&l=bangalore%2C%20bangalore\"\n",
    "\n",
    "# open the webpage through our web driver\n",
    "driver.get(url)"
   ]
  },
  {
   "cell_type": "code",
   "execution_count": 200,
   "id": "e0fd1951",
   "metadata": {},
   "outputs": [],
   "source": [
    "# creating empty list to scraping data into them\n",
    "\n",
    "job_title=[]\n",
    "job_location=[]\n",
    "company_name=[]"
   ]
  },
  {
   "cell_type": "code",
   "execution_count": 201,
   "id": "ac2178ac",
   "metadata": {},
   "outputs": [
    {
     "name": "stderr",
     "output_type": "stream",
     "text": [
      "<ipython-input-201-2252e1506609>:3: DeprecationWarning: find_elements_by_* commands are deprecated. Please use find_elements() instead\n",
      "  title_tag = driver.find_elements_by_xpath(\"//a[@class='title fw500 ellipsis']\")\n"
     ]
    },
    {
     "data": {
      "text/plain": [
       "[<selenium.webdriver.remote.webelement.WebElement (session=\"adc0cdb0d506b216b8f7c7b37f1b0fc9\", element=\"8d507ecd-31c8-4d54-931e-fb6dff5b98f1\")>,\n",
       " <selenium.webdriver.remote.webelement.WebElement (session=\"adc0cdb0d506b216b8f7c7b37f1b0fc9\", element=\"8b8bc26b-de08-4856-b983-f0196da31b2a\")>,\n",
       " <selenium.webdriver.remote.webelement.WebElement (session=\"adc0cdb0d506b216b8f7c7b37f1b0fc9\", element=\"17aeb319-d4e1-4d09-ad08-590f9d269e74\")>,\n",
       " <selenium.webdriver.remote.webelement.WebElement (session=\"adc0cdb0d506b216b8f7c7b37f1b0fc9\", element=\"1a48272e-47c5-4a82-9854-d594b4e2b163\")>,\n",
       " <selenium.webdriver.remote.webelement.WebElement (session=\"adc0cdb0d506b216b8f7c7b37f1b0fc9\", element=\"19622f98-aaf0-45ba-b4e2-1cbc91e4dcf2\")>,\n",
       " <selenium.webdriver.remote.webelement.WebElement (session=\"adc0cdb0d506b216b8f7c7b37f1b0fc9\", element=\"4f5608f6-0440-48d5-a1ca-a62ca6eb39c8\")>,\n",
       " <selenium.webdriver.remote.webelement.WebElement (session=\"adc0cdb0d506b216b8f7c7b37f1b0fc9\", element=\"4a5bfbd8-5461-4ac8-96c7-a300f2cea5e3\")>,\n",
       " <selenium.webdriver.remote.webelement.WebElement (session=\"adc0cdb0d506b216b8f7c7b37f1b0fc9\", element=\"980785d9-e0b5-4cf4-b39d-9c04b987f3f8\")>,\n",
       " <selenium.webdriver.remote.webelement.WebElement (session=\"adc0cdb0d506b216b8f7c7b37f1b0fc9\", element=\"858477ac-7e40-4793-9e14-d2b5b7a6778a\")>,\n",
       " <selenium.webdriver.remote.webelement.WebElement (session=\"adc0cdb0d506b216b8f7c7b37f1b0fc9\", element=\"edce7f09-71d0-49bd-97ce-42c69ced04f4\")>]"
      ]
     },
     "execution_count": 201,
     "metadata": {},
     "output_type": "execute_result"
    }
   ],
   "source": [
    "# extracting all the tags having job-titles\n",
    "\n",
    "title_tag = driver.find_elements_by_xpath(\"//a[@class='title fw500 ellipsis']\")\n",
    "title_tag[0:10]"
   ]
  },
  {
   "cell_type": "code",
   "execution_count": 202,
   "id": "c9f17c15",
   "metadata": {},
   "outputs": [
    {
     "name": "stdout",
     "output_type": "stream",
     "text": [
      "Below are the top 10 job data's job title: \n",
      " ['Senior Data Scientist / Data Scientist', 'Data Scientist: Advanced Analytics', 'Cognitive Data Scientist', 'Lead Data Scientist', 'Data Scientist - Machine Learning', 'Sr. Data Scientist / Data Scientist For Bangalore Location', 'Jr. Data Analyst/ Jr. Data Scientist', 'Sr. Data Scientist - Medical /Marketing Analytics', 'Senior Data Scientist', 'Senior Data Scientist']\n"
     ]
    }
   ],
   "source": [
    "# extract the job title text iteratively from these tags one by one\n",
    "\n",
    "for i in title_tag:\n",
    "    title = i.text\n",
    "    job_title.append(title)\n",
    "job_title = job_title[0:10]\n",
    "\n",
    "print(\"Below are the top 10 job data's job title: \\n\", job_title)"
   ]
  },
  {
   "cell_type": "code",
   "execution_count": 203,
   "id": "c676a216",
   "metadata": {},
   "outputs": [
    {
     "name": "stderr",
     "output_type": "stream",
     "text": [
      "<ipython-input-203-1cb08f22d18a>:3: DeprecationWarning: find_elements_by_* commands are deprecated. Please use find_elements() instead\n",
      "  location_tag = driver.find_elements_by_xpath(\"//li[@class='fleft grey-text br2 placeHolderLi location']\")\n"
     ]
    },
    {
     "data": {
      "text/plain": [
       "[<selenium.webdriver.remote.webelement.WebElement (session=\"adc0cdb0d506b216b8f7c7b37f1b0fc9\", element=\"b57a29d8-d0d2-451a-aab5-d99dc21953d0\")>,\n",
       " <selenium.webdriver.remote.webelement.WebElement (session=\"adc0cdb0d506b216b8f7c7b37f1b0fc9\", element=\"9c6f51b4-ae4e-4c2b-bea8-527be60f7b65\")>,\n",
       " <selenium.webdriver.remote.webelement.WebElement (session=\"adc0cdb0d506b216b8f7c7b37f1b0fc9\", element=\"e6231ee0-926f-4700-ae90-b21209289c2a\")>,\n",
       " <selenium.webdriver.remote.webelement.WebElement (session=\"adc0cdb0d506b216b8f7c7b37f1b0fc9\", element=\"9618ff7b-e976-4a01-878f-50b56a64b6dd\")>,\n",
       " <selenium.webdriver.remote.webelement.WebElement (session=\"adc0cdb0d506b216b8f7c7b37f1b0fc9\", element=\"0d3868d8-1f29-48b6-8c43-1236cabf8e63\")>,\n",
       " <selenium.webdriver.remote.webelement.WebElement (session=\"adc0cdb0d506b216b8f7c7b37f1b0fc9\", element=\"7324d36d-08c7-4b8f-a422-5c6b6cf02704\")>,\n",
       " <selenium.webdriver.remote.webelement.WebElement (session=\"adc0cdb0d506b216b8f7c7b37f1b0fc9\", element=\"cc5fc667-69a1-490c-98e0-f6a1a1712d9f\")>,\n",
       " <selenium.webdriver.remote.webelement.WebElement (session=\"adc0cdb0d506b216b8f7c7b37f1b0fc9\", element=\"e1dca038-0de2-480d-b2bb-103b80e71c2f\")>,\n",
       " <selenium.webdriver.remote.webelement.WebElement (session=\"adc0cdb0d506b216b8f7c7b37f1b0fc9\", element=\"9d583eb8-219e-4d92-be64-4fa06a467e2e\")>,\n",
       " <selenium.webdriver.remote.webelement.WebElement (session=\"adc0cdb0d506b216b8f7c7b37f1b0fc9\", element=\"c778ab18-1750-49bc-ba99-1a050c70b638\")>]"
      ]
     },
     "execution_count": 203,
     "metadata": {},
     "output_type": "execute_result"
    }
   ],
   "source": [
    "# extracting all the tags having job-location \n",
    "\n",
    "location_tag = driver.find_elements_by_xpath(\"//li[@class='fleft grey-text br2 placeHolderLi location']\")\n",
    "location_tag[0:10]"
   ]
  },
  {
   "cell_type": "code",
   "execution_count": 204,
   "id": "9a518cbc",
   "metadata": {},
   "outputs": [
    {
     "name": "stdout",
     "output_type": "stream",
     "text": [
      "Below are the top 10 job data's company location \n",
      " ['Bangalore/Bengaluru', 'Bangalore/Bengaluru', 'Bangalore/Bengaluru', 'Palani, Bangalore/Bengaluru', 'Bangalore/Bengaluru\\n(WFH during Covid)', 'Kolkata, Bangalore/Bengaluru', 'Hyderabad/Secunderabad, Bangalore/Bengaluru, Mumbai (All Areas)', 'Bangalore/Bengaluru', 'Bangalore/Bengaluru', 'Bangalore/Bengaluru']\n"
     ]
    }
   ],
   "source": [
    "# extract the job location text iteratively from these tags one by one\n",
    "\n",
    "for i in location_tag:\n",
    "    location = i.text\n",
    "    job_location.append(location)\n",
    "job_location = job_location[0:10]\n",
    "print(\"Below are the top 10 job data's company location \\n\", job_location)"
   ]
  },
  {
   "cell_type": "code",
   "execution_count": 205,
   "id": "c1d76b92",
   "metadata": {},
   "outputs": [
    {
     "name": "stderr",
     "output_type": "stream",
     "text": [
      "<ipython-input-205-513637e53001>:3: DeprecationWarning: find_elements_by_* commands are deprecated. Please use find_elements() instead\n",
      "  company_tag = driver.find_elements_by_xpath(\"//a[@class='subTitle ellipsis fleft']\")\n"
     ]
    },
    {
     "data": {
      "text/plain": [
       "[<selenium.webdriver.remote.webelement.WebElement (session=\"adc0cdb0d506b216b8f7c7b37f1b0fc9\", element=\"29789477-7a01-4d5f-a295-680ad306e779\")>,\n",
       " <selenium.webdriver.remote.webelement.WebElement (session=\"adc0cdb0d506b216b8f7c7b37f1b0fc9\", element=\"ffbea340-af38-4e02-b572-6889a18af451\")>,\n",
       " <selenium.webdriver.remote.webelement.WebElement (session=\"adc0cdb0d506b216b8f7c7b37f1b0fc9\", element=\"61753a2e-7ef9-4afe-a328-4e6032af1351\")>,\n",
       " <selenium.webdriver.remote.webelement.WebElement (session=\"adc0cdb0d506b216b8f7c7b37f1b0fc9\", element=\"df5d5723-bc58-473f-807b-1738c69d45ab\")>,\n",
       " <selenium.webdriver.remote.webelement.WebElement (session=\"adc0cdb0d506b216b8f7c7b37f1b0fc9\", element=\"92f40b67-bd9b-4b8f-a07e-c523978cf252\")>,\n",
       " <selenium.webdriver.remote.webelement.WebElement (session=\"adc0cdb0d506b216b8f7c7b37f1b0fc9\", element=\"cf8de0d1-515f-4a69-a882-86fa737ccfee\")>,\n",
       " <selenium.webdriver.remote.webelement.WebElement (session=\"adc0cdb0d506b216b8f7c7b37f1b0fc9\", element=\"837a1d9c-d9d8-4795-89ac-1e2918fc9248\")>,\n",
       " <selenium.webdriver.remote.webelement.WebElement (session=\"adc0cdb0d506b216b8f7c7b37f1b0fc9\", element=\"1ccfd930-60a9-4daf-ac78-fe0b9426732a\")>,\n",
       " <selenium.webdriver.remote.webelement.WebElement (session=\"adc0cdb0d506b216b8f7c7b37f1b0fc9\", element=\"db5b0d15-4388-4fbc-89ad-cd30d69ad379\")>,\n",
       " <selenium.webdriver.remote.webelement.WebElement (session=\"adc0cdb0d506b216b8f7c7b37f1b0fc9\", element=\"57105966-6768-4cac-9bca-3abf232d1d19\")>]"
      ]
     },
     "execution_count": 205,
     "metadata": {},
     "output_type": "execute_result"
    }
   ],
   "source": [
    "# extracting all the tags having company name\n",
    "\n",
    "company_tag = driver.find_elements_by_xpath(\"//a[@class='subTitle ellipsis fleft']\")\n",
    "company_tag[0:10]\n"
   ]
  },
  {
   "cell_type": "code",
   "execution_count": 206,
   "id": "bf8ba013",
   "metadata": {
    "scrolled": true
   },
   "outputs": [
    {
     "name": "stdout",
     "output_type": "stream",
     "text": [
      "Below are the top 10 job data's : \n",
      " ['Superior Group', 'IBM India Pvt. Limited', 'IBM India Pvt. Limited', 'Groww', 'GormalOne LLP', 'mPokket', 'Sejal Consulting Hub', 'Valuable Consulting', 'Idexcel Technologies Private Limited', 'Idexcel Technologies Private Limited']\n"
     ]
    }
   ],
   "source": [
    "# extract the company name text iteratively from these tags one by one\n",
    "\n",
    "for i in company_tag:\n",
    "    company = i.text\n",
    "    company_name.append(company)\n",
    "company_name = company_name[0:10]\n",
    "print(\"Below are the top 10 job data's : \\n\", company_name)"
   ]
  },
  {
   "cell_type": "code",
   "execution_count": 207,
   "id": "94c50dd8",
   "metadata": {
    "scrolled": true
   },
   "outputs": [
    {
     "data": {
      "text/html": [
       "<div>\n",
       "<style scoped>\n",
       "    .dataframe tbody tr th:only-of-type {\n",
       "        vertical-align: middle;\n",
       "    }\n",
       "\n",
       "    .dataframe tbody tr th {\n",
       "        vertical-align: top;\n",
       "    }\n",
       "\n",
       "    .dataframe thead th {\n",
       "        text-align: right;\n",
       "    }\n",
       "</style>\n",
       "<table border=\"1\" class=\"dataframe\">\n",
       "  <thead>\n",
       "    <tr style=\"text-align: right;\">\n",
       "      <th></th>\n",
       "      <th>Title</th>\n",
       "      <th>Location</th>\n",
       "      <th>Company_Name</th>\n",
       "    </tr>\n",
       "  </thead>\n",
       "  <tbody>\n",
       "    <tr>\n",
       "      <th>0</th>\n",
       "      <td>Senior Data Scientist / Data Scientist</td>\n",
       "      <td>Bangalore/Bengaluru</td>\n",
       "      <td>Superior Group</td>\n",
       "    </tr>\n",
       "    <tr>\n",
       "      <th>1</th>\n",
       "      <td>Data Scientist: Advanced Analytics</td>\n",
       "      <td>Bangalore/Bengaluru</td>\n",
       "      <td>IBM India Pvt. Limited</td>\n",
       "    </tr>\n",
       "    <tr>\n",
       "      <th>2</th>\n",
       "      <td>Cognitive Data Scientist</td>\n",
       "      <td>Bangalore/Bengaluru</td>\n",
       "      <td>IBM India Pvt. Limited</td>\n",
       "    </tr>\n",
       "    <tr>\n",
       "      <th>3</th>\n",
       "      <td>Lead Data Scientist</td>\n",
       "      <td>Palani, Bangalore/Bengaluru</td>\n",
       "      <td>Groww</td>\n",
       "    </tr>\n",
       "    <tr>\n",
       "      <th>4</th>\n",
       "      <td>Data Scientist - Machine Learning</td>\n",
       "      <td>Bangalore/Bengaluru\\n(WFH during Covid)</td>\n",
       "      <td>GormalOne LLP</td>\n",
       "    </tr>\n",
       "    <tr>\n",
       "      <th>5</th>\n",
       "      <td>Sr. Data Scientist / Data Scientist For Bangal...</td>\n",
       "      <td>Kolkata, Bangalore/Bengaluru</td>\n",
       "      <td>mPokket</td>\n",
       "    </tr>\n",
       "    <tr>\n",
       "      <th>6</th>\n",
       "      <td>Jr. Data Analyst/ Jr. Data Scientist</td>\n",
       "      <td>Hyderabad/Secunderabad, Bangalore/Bengaluru, M...</td>\n",
       "      <td>Sejal Consulting Hub</td>\n",
       "    </tr>\n",
       "    <tr>\n",
       "      <th>7</th>\n",
       "      <td>Sr. Data Scientist - Medical /Marketing Analytics</td>\n",
       "      <td>Bangalore/Bengaluru</td>\n",
       "      <td>Valuable Consulting</td>\n",
       "    </tr>\n",
       "    <tr>\n",
       "      <th>8</th>\n",
       "      <td>Senior Data Scientist</td>\n",
       "      <td>Bangalore/Bengaluru</td>\n",
       "      <td>Idexcel Technologies Private Limited</td>\n",
       "    </tr>\n",
       "    <tr>\n",
       "      <th>9</th>\n",
       "      <td>Senior Data Scientist</td>\n",
       "      <td>Bangalore/Bengaluru</td>\n",
       "      <td>Idexcel Technologies Private Limited</td>\n",
       "    </tr>\n",
       "  </tbody>\n",
       "</table>\n",
       "</div>"
      ],
      "text/plain": [
       "                                               Title  \\\n",
       "0             Senior Data Scientist / Data Scientist   \n",
       "1                 Data Scientist: Advanced Analytics   \n",
       "2                           Cognitive Data Scientist   \n",
       "3                                Lead Data Scientist   \n",
       "4                  Data Scientist - Machine Learning   \n",
       "5  Sr. Data Scientist / Data Scientist For Bangal...   \n",
       "6               Jr. Data Analyst/ Jr. Data Scientist   \n",
       "7  Sr. Data Scientist - Medical /Marketing Analytics   \n",
       "8                              Senior Data Scientist   \n",
       "9                              Senior Data Scientist   \n",
       "\n",
       "                                            Location  \\\n",
       "0                                Bangalore/Bengaluru   \n",
       "1                                Bangalore/Bengaluru   \n",
       "2                                Bangalore/Bengaluru   \n",
       "3                        Palani, Bangalore/Bengaluru   \n",
       "4            Bangalore/Bengaluru\\n(WFH during Covid)   \n",
       "5                       Kolkata, Bangalore/Bengaluru   \n",
       "6  Hyderabad/Secunderabad, Bangalore/Bengaluru, M...   \n",
       "7                                Bangalore/Bengaluru   \n",
       "8                                Bangalore/Bengaluru   \n",
       "9                                Bangalore/Bengaluru   \n",
       "\n",
       "                           Company_Name  \n",
       "0                        Superior Group  \n",
       "1                IBM India Pvt. Limited  \n",
       "2                IBM India Pvt. Limited  \n",
       "3                                 Groww  \n",
       "4                         GormalOne LLP  \n",
       "5                               mPokket  \n",
       "6                  Sejal Consulting Hub  \n",
       "7                   Valuable Consulting  \n",
       "8  Idexcel Technologies Private Limited  \n",
       "9  Idexcel Technologies Private Limited  "
      ]
     },
     "execution_count": 207,
     "metadata": {},
     "output_type": "execute_result"
    }
   ],
   "source": [
    "# making DataFrame of the top 10 job details from the \"wwww.naukri.com\"\n",
    "\n",
    "naukri_scientist = pd.DataFrame({'Title':job_title, \n",
    "                       'Location': job_location,\n",
    "                       'Company_Name':company_name,                                   \n",
    "                       })\n",
    "naukri_scientist"
   ]
  },
  {
   "cell_type": "code",
   "execution_count": 208,
   "id": "c86354bc",
   "metadata": {},
   "outputs": [],
   "source": [
    "driver.close()"
   ]
  },
  {
   "cell_type": "markdown",
   "id": "57c24f02",
   "metadata": {},
   "source": [
    "## Q3: In this question you have to scrape data using the filters available on the webpage as shown below: \n",
    "\n",
    "#### You have to use the location and salary filter. \n",
    "#### You have to scrape data for “Data Scientist” designation for first 10 job results. \n",
    "#### You have to scrape the job-title, job-location, company name, experience required. \n",
    "#### The location filter to be used is “Delhi/NCR” The salary filter to be used is “3-6” lakhs \n",
    "#### The task will be done as shown in the below steps: \n",
    "#### 1. first get the webpage ![https://www.naukri.com/](https://cdn-images-1.medium.com/max/1200/1*YZM8sGY7ld-GrlQ5Tmy1qw.png)\n",
    "#### 2. Enter “Data Scientist” in “Skill, Designations, and Companies” field. \n",
    "#### 3. Then click the search button. \n",
    "#### 4. Then apply the location filter and salary filter by checking the respective boxes \n",
    "#### 5. Then scrape the data for the first 10 jobs results you get. \n",
    "#### 6. Finally create a dataframe of the scraped data. \n",
    "#### Note: All of the above steps have to be done in code. No step is to be done manually"
   ]
  },
  {
   "cell_type": "code",
   "execution_count": 209,
   "id": "d087b8a6",
   "metadata": {
    "scrolled": true
   },
   "outputs": [
    {
     "name": "stderr",
     "output_type": "stream",
     "text": [
      "<ipython-input-209-1c19880c4f20>:2: DeprecationWarning: executable_path has been deprecated, please pass in a Service object\n",
      "  driver = webdriver.Chrome(r\"C:/Users/DELL/Downloads/chromedriver_win32/chromedriver.exe\")\n"
     ]
    }
   ],
   "source": [
    "# connect to webdriver\n",
    "driver = webdriver.Chrome(r\"C:/Users/DELL/Downloads/chromedriver_win32/chromedriver.exe\")\n",
    "# get webpage\n",
    "driver.get(\"https://www.naukri.com/\")"
   ]
  },
  {
   "cell_type": "code",
   "execution_count": 210,
   "id": "1c733477",
   "metadata": {
    "scrolled": true
   },
   "outputs": [
    {
     "name": "stderr",
     "output_type": "stream",
     "text": [
      "<ipython-input-210-7fd1e6a4691e>:2: DeprecationWarning: find_element_by_* commands are deprecated. Please use find_element() instead\n",
      "  search_job = driver.find_element_by_id(\"qsb-keyword-sugg\")\n",
      "<ipython-input-210-7fd1e6a4691e>:6: DeprecationWarning: find_element_by_* commands are deprecated. Please use find_element() instead\n",
      "  search_btn = driver.find_element_by_xpath(\"//div[@class='search-btn']/button\")\n"
     ]
    }
   ],
   "source": [
    "# enter “Data Scientist” in “Skill, Designations, Companies” field.\n",
    "search_job = driver.find_element_by_id(\"qsb-keyword-sugg\")\n",
    "search_job.send_keys(\"Data Scientist\")\n",
    "\n",
    "# click the search button\n",
    "search_btn = driver.find_element_by_xpath(\"//div[@class='search-btn']/button\")\n",
    "search_btn.click()"
   ]
  },
  {
   "cell_type": "code",
   "execution_count": 211,
   "id": "348c77d9",
   "metadata": {},
   "outputs": [
    {
     "name": "stderr",
     "output_type": "stream",
     "text": [
      "<ipython-input-211-29e7ca756a64>:3: DeprecationWarning: find_elements_by_* commands are deprecated. Please use find_elements() instead\n",
      "  loc_clk=driver.find_elements_by_xpath(\"//span[@class='ellipsis fleft']\")\n"
     ]
    }
   ],
   "source": [
    "# apply the location filter \"Delhi-NCR\" and salary \"3-6 lakh\" filter by checking the respective boxes\n",
    "\n",
    "loc_clk=driver.find_elements_by_xpath(\"//span[@class='ellipsis fleft']\")\n",
    "for i in loc_clk:\n",
    "    if i.text == 'Delhi / NCR':   \n",
    "        i.click() # Checking the checkbox to apply filter on the location\n",
    "        break "
   ]
  },
  {
   "cell_type": "code",
   "execution_count": 212,
   "id": "415b22d5",
   "metadata": {
    "scrolled": true
   },
   "outputs": [
    {
     "name": "stderr",
     "output_type": "stream",
     "text": [
      "<ipython-input-212-8d881a0bc8b3>:2: DeprecationWarning: find_elements_by_* commands are deprecated. Please use find_elements() instead\n",
      "  sal_clk=driver.find_elements_by_xpath(\"//span[@class='ellipsis fleft']\")\n"
     ]
    }
   ],
   "source": [
    "# applying salary filter\n",
    "sal_clk=driver.find_elements_by_xpath(\"//span[@class='ellipsis fleft']\")\n",
    "for i in sal_clk:\n",
    "    if i.text == '3-6 Lakhs':   \n",
    "        i.click() # Checking the checkbox to apply filter on the salary\n",
    "        break  "
   ]
  },
  {
   "cell_type": "markdown",
   "id": "7828d71b",
   "metadata": {},
   "source": [
    "### Scraping the data for the first 10 jobs results"
   ]
  },
  {
   "cell_type": "code",
   "execution_count": 213,
   "id": "b773ea14",
   "metadata": {},
   "outputs": [],
   "source": [
    "# specifying the url of the webpage to be scraped\n",
    "url = \"https://www.naukri.com/data-scientist-jobs?k=data%20scientist&cityTypeGid=9508&ctcFilter=3to6\"\n",
    "\n",
    "# open the webpage through our web driver\n",
    "driver.get(url)"
   ]
  },
  {
   "cell_type": "code",
   "execution_count": 214,
   "id": "135d019e",
   "metadata": {},
   "outputs": [],
   "source": [
    "# creating empty list to scraping data into them\n",
    "\n",
    "job_title=[]\n",
    "company_name=[]\n",
    "job_location=[]\n",
    "experience_required=[]"
   ]
  },
  {
   "cell_type": "code",
   "execution_count": 215,
   "id": "43e9bcbb",
   "metadata": {
    "scrolled": true
   },
   "outputs": [
    {
     "name": "stderr",
     "output_type": "stream",
     "text": [
      "<ipython-input-215-2252e1506609>:3: DeprecationWarning: find_elements_by_* commands are deprecated. Please use find_elements() instead\n",
      "  title_tag = driver.find_elements_by_xpath(\"//a[@class='title fw500 ellipsis']\")\n"
     ]
    },
    {
     "data": {
      "text/plain": [
       "[<selenium.webdriver.remote.webelement.WebElement (session=\"0dce79edb342644031b4c8d64cc75686\", element=\"aa668ee9-7575-475d-b5d4-1e4c527359ef\")>,\n",
       " <selenium.webdriver.remote.webelement.WebElement (session=\"0dce79edb342644031b4c8d64cc75686\", element=\"43c3bf93-8880-4082-b20e-688c4e51b8b1\")>,\n",
       " <selenium.webdriver.remote.webelement.WebElement (session=\"0dce79edb342644031b4c8d64cc75686\", element=\"65aeb7eb-b629-4530-bd76-45b4c8a64268\")>,\n",
       " <selenium.webdriver.remote.webelement.WebElement (session=\"0dce79edb342644031b4c8d64cc75686\", element=\"b58fbb28-73e5-4dfd-b0c6-86abf9eceb48\")>,\n",
       " <selenium.webdriver.remote.webelement.WebElement (session=\"0dce79edb342644031b4c8d64cc75686\", element=\"cfa42545-cec9-461d-aca3-108240520425\")>,\n",
       " <selenium.webdriver.remote.webelement.WebElement (session=\"0dce79edb342644031b4c8d64cc75686\", element=\"a8ecfd6e-6eaa-4811-be2c-c7e826a9dde6\")>,\n",
       " <selenium.webdriver.remote.webelement.WebElement (session=\"0dce79edb342644031b4c8d64cc75686\", element=\"3adb5e8a-aec1-4dc7-bccf-c8a4a9be93a2\")>,\n",
       " <selenium.webdriver.remote.webelement.WebElement (session=\"0dce79edb342644031b4c8d64cc75686\", element=\"75ff70b5-f5c8-4d36-abf9-e46cc1317b09\")>,\n",
       " <selenium.webdriver.remote.webelement.WebElement (session=\"0dce79edb342644031b4c8d64cc75686\", element=\"fe1ee66e-8057-41c8-8116-e7febed2834a\")>,\n",
       " <selenium.webdriver.remote.webelement.WebElement (session=\"0dce79edb342644031b4c8d64cc75686\", element=\"c28b1348-7a13-4077-a336-29b87f36f5a4\")>]"
      ]
     },
     "execution_count": 215,
     "metadata": {},
     "output_type": "execute_result"
    }
   ],
   "source": [
    "# extracting all the tags having job-titles\n",
    "\n",
    "title_tag = driver.find_elements_by_xpath(\"//a[@class='title fw500 ellipsis']\")\n",
    "title_tag[0:10]"
   ]
  },
  {
   "cell_type": "code",
   "execution_count": 216,
   "id": "97c49d6a",
   "metadata": {
    "scrolled": true
   },
   "outputs": [
    {
     "name": "stdout",
     "output_type": "stream",
     "text": [
      "Below are the top 10 job data's job title: \n",
      " ['Data Scientist', 'NTT DATA_ Hiring For BIG DATA ,DATA Scientist, Devops', 'Hiring For Data Scientist', 'Project Manager | Team Leader | Senior Data Scientist', 'Data Scientist', 'Hiring For Data Analyst / Data Scientist', 'Data Scientist Internship', 'Data Scientist', 'Data Scientist', 'Data Scientist/ Senior Data Scientist']\n"
     ]
    }
   ],
   "source": [
    "# extract the job title text iteratively from these tags one by one\n",
    "\n",
    "for i in title_tag:\n",
    "    title = i.text\n",
    "    job_title.append(title)\n",
    "job_title = job_title[0:10]\n",
    "\n",
    "print(\"Below are the top 10 job data's job title: \\n\", job_title)"
   ]
  },
  {
   "cell_type": "code",
   "execution_count": 217,
   "id": "86cefd02",
   "metadata": {
    "scrolled": true
   },
   "outputs": [
    {
     "name": "stderr",
     "output_type": "stream",
     "text": [
      "<ipython-input-217-1cb08f22d18a>:3: DeprecationWarning: find_elements_by_* commands are deprecated. Please use find_elements() instead\n",
      "  location_tag = driver.find_elements_by_xpath(\"//li[@class='fleft grey-text br2 placeHolderLi location']\")\n"
     ]
    },
    {
     "data": {
      "text/plain": [
       "[<selenium.webdriver.remote.webelement.WebElement (session=\"0dce79edb342644031b4c8d64cc75686\", element=\"944bb529-e6e0-4678-9bc5-b8feb3194d32\")>,\n",
       " <selenium.webdriver.remote.webelement.WebElement (session=\"0dce79edb342644031b4c8d64cc75686\", element=\"6a00572e-71ec-4c19-be80-16197bc45a5a\")>,\n",
       " <selenium.webdriver.remote.webelement.WebElement (session=\"0dce79edb342644031b4c8d64cc75686\", element=\"6b7f087f-4b30-4ef5-b67a-f89594910d5b\")>,\n",
       " <selenium.webdriver.remote.webelement.WebElement (session=\"0dce79edb342644031b4c8d64cc75686\", element=\"62261cfc-13ba-4e28-a945-0e7a5dbec2f9\")>,\n",
       " <selenium.webdriver.remote.webelement.WebElement (session=\"0dce79edb342644031b4c8d64cc75686\", element=\"ce539588-e5e1-4b84-be8c-b0f0a3fc47bb\")>,\n",
       " <selenium.webdriver.remote.webelement.WebElement (session=\"0dce79edb342644031b4c8d64cc75686\", element=\"efd42ed5-18d2-4649-9d6a-9ff81d682a60\")>,\n",
       " <selenium.webdriver.remote.webelement.WebElement (session=\"0dce79edb342644031b4c8d64cc75686\", element=\"3f0da80d-747e-4568-8650-f504b785d8b7\")>,\n",
       " <selenium.webdriver.remote.webelement.WebElement (session=\"0dce79edb342644031b4c8d64cc75686\", element=\"7c83f448-910e-49c7-9b36-3f8bf983ef25\")>,\n",
       " <selenium.webdriver.remote.webelement.WebElement (session=\"0dce79edb342644031b4c8d64cc75686\", element=\"c8247ee3-b21b-41c9-ab09-01a7785e3505\")>,\n",
       " <selenium.webdriver.remote.webelement.WebElement (session=\"0dce79edb342644031b4c8d64cc75686\", element=\"35a883e1-84f1-4cd4-b67f-9c1636d0b8a4\")>]"
      ]
     },
     "execution_count": 217,
     "metadata": {},
     "output_type": "execute_result"
    }
   ],
   "source": [
    "# extracting all the tags having job-location \n",
    "\n",
    "location_tag = driver.find_elements_by_xpath(\"//li[@class='fleft grey-text br2 placeHolderLi location']\")\n",
    "location_tag[0:10]"
   ]
  },
  {
   "cell_type": "code",
   "execution_count": 218,
   "id": "fc893eca",
   "metadata": {},
   "outputs": [
    {
     "name": "stdout",
     "output_type": "stream",
     "text": [
      "Below are the top 10 job data's company location \n",
      " ['Noida, New Delhi, Faridabad, Gurgaon/Gurugram, Delhi / NCR', 'Noida, Kolkata, Hyderabad/Secunderabad, Ahmedabad, Chennai, Coimbatore, Bangalore/Bengaluru, Delhi / NCR, Mumbai (All Areas)\\n(WFH during Covid)', 'Hyderabad/Secunderabad, Pune, Chennai, Bangalore/Bengaluru, Delhi / NCR, Mumbai (All Areas)\\n(WFH during Covid)', 'Remote', 'Gurgaon/Gurugram, Chennai', 'Noida(Sector-59 Noida)', 'New Delhi', 'Gurgaon/Gurugram', 'Gurgaon/Gurugram', 'Noida']\n"
     ]
    }
   ],
   "source": [
    "# extract the job location text iteratively from these tags one by one\n",
    "\n",
    "for i in location_tag:\n",
    "    location = i.text\n",
    "    job_location.append(location)\n",
    "job_location = job_location[0:10]\n",
    "print(\"Below are the top 10 job data's company location \\n\", job_location)"
   ]
  },
  {
   "cell_type": "code",
   "execution_count": 219,
   "id": "be11f45b",
   "metadata": {},
   "outputs": [
    {
     "name": "stderr",
     "output_type": "stream",
     "text": [
      "<ipython-input-219-513637e53001>:3: DeprecationWarning: find_elements_by_* commands are deprecated. Please use find_elements() instead\n",
      "  company_tag = driver.find_elements_by_xpath(\"//a[@class='subTitle ellipsis fleft']\")\n"
     ]
    },
    {
     "data": {
      "text/plain": [
       "[<selenium.webdriver.remote.webelement.WebElement (session=\"0dce79edb342644031b4c8d64cc75686\", element=\"8cb6051f-caf9-49c2-8391-b54b1e93d225\")>,\n",
       " <selenium.webdriver.remote.webelement.WebElement (session=\"0dce79edb342644031b4c8d64cc75686\", element=\"a6d1399b-6f50-4606-94c7-0d24596cf4c0\")>,\n",
       " <selenium.webdriver.remote.webelement.WebElement (session=\"0dce79edb342644031b4c8d64cc75686\", element=\"7b23aaed-834d-466a-916c-c56229401cae\")>,\n",
       " <selenium.webdriver.remote.webelement.WebElement (session=\"0dce79edb342644031b4c8d64cc75686\", element=\"1c1e835d-ece0-4c38-9bd0-666cf3862e6d\")>,\n",
       " <selenium.webdriver.remote.webelement.WebElement (session=\"0dce79edb342644031b4c8d64cc75686\", element=\"e0303e40-5b2c-4643-a5f0-e85fd1f7361e\")>,\n",
       " <selenium.webdriver.remote.webelement.WebElement (session=\"0dce79edb342644031b4c8d64cc75686\", element=\"ff48e299-9bd6-4c46-ac49-a9d93c48fae7\")>,\n",
       " <selenium.webdriver.remote.webelement.WebElement (session=\"0dce79edb342644031b4c8d64cc75686\", element=\"beb37fe6-e13f-41f9-aade-f5907e6df1a5\")>,\n",
       " <selenium.webdriver.remote.webelement.WebElement (session=\"0dce79edb342644031b4c8d64cc75686\", element=\"802dec10-4d8e-48bb-8d38-591a53d83f9f\")>,\n",
       " <selenium.webdriver.remote.webelement.WebElement (session=\"0dce79edb342644031b4c8d64cc75686\", element=\"4064a1a9-3e5b-4f9c-bbb7-078f98cfeb35\")>,\n",
       " <selenium.webdriver.remote.webelement.WebElement (session=\"0dce79edb342644031b4c8d64cc75686\", element=\"5ddf536e-82a4-4db2-86a3-24297a4cdcef\")>]"
      ]
     },
     "execution_count": 219,
     "metadata": {},
     "output_type": "execute_result"
    }
   ],
   "source": [
    "# extracting all the tags having company name\n",
    "\n",
    "company_tag = driver.find_elements_by_xpath(\"//a[@class='subTitle ellipsis fleft']\")\n",
    "company_tag[0:10]\n"
   ]
  },
  {
   "cell_type": "code",
   "execution_count": 220,
   "id": "ef19737b",
   "metadata": {
    "scrolled": true
   },
   "outputs": [
    {
     "name": "stdout",
     "output_type": "stream",
     "text": [
      "Below are the top 10 job data's : \n",
      " ['LG Electronics India Pvt. Ltd.', 'NTT Data Business Solutions Pvt Ltd', 'Tata Consultancy Services Ltd.', 'Tidyquant (OPC) Private Limited', 'Teleperformance', 'Careerera', 'iHackers Inc', 'Whizhack Technologies pvt ltd', 'One Mobikwik Systems Private Limited', 'Newgen Software Technologies']\n"
     ]
    }
   ],
   "source": [
    "# extract the company name text iteratively from these tags one by one\n",
    "\n",
    "for i in company_tag:\n",
    "    company = i.text\n",
    "    company_name.append(company)\n",
    "company_name = company_name[0:10]\n",
    "print(\"Below are the top 10 job data's : \\n\", company_name)"
   ]
  },
  {
   "cell_type": "code",
   "execution_count": 221,
   "id": "0503c7b9",
   "metadata": {},
   "outputs": [
    {
     "name": "stderr",
     "output_type": "stream",
     "text": [
      "<ipython-input-221-f44eed06f8a7>:3: DeprecationWarning: find_elements_by_* commands are deprecated. Please use find_elements() instead\n",
      "  exp_tag = driver.find_elements_by_xpath(\"//li[@class='fleft grey-text br2 placeHolderLi experience']\")\n"
     ]
    },
    {
     "data": {
      "text/plain": [
       "[<selenium.webdriver.remote.webelement.WebElement (session=\"0dce79edb342644031b4c8d64cc75686\", element=\"986baafd-a7eb-4932-bbef-920690ca5a63\")>,\n",
       " <selenium.webdriver.remote.webelement.WebElement (session=\"0dce79edb342644031b4c8d64cc75686\", element=\"683deea2-a805-44fb-a963-38e8f74b187b\")>,\n",
       " <selenium.webdriver.remote.webelement.WebElement (session=\"0dce79edb342644031b4c8d64cc75686\", element=\"764f7e54-ea53-4c1d-ba7a-c65d3b5bfefa\")>,\n",
       " <selenium.webdriver.remote.webelement.WebElement (session=\"0dce79edb342644031b4c8d64cc75686\", element=\"f810a38e-ba3f-41b8-aac2-c7576451e506\")>,\n",
       " <selenium.webdriver.remote.webelement.WebElement (session=\"0dce79edb342644031b4c8d64cc75686\", element=\"fd967340-952b-44b8-b64b-25c7e1fddb5b\")>,\n",
       " <selenium.webdriver.remote.webelement.WebElement (session=\"0dce79edb342644031b4c8d64cc75686\", element=\"dd8b868a-425b-46fd-96f9-8ec2aa29d589\")>,\n",
       " <selenium.webdriver.remote.webelement.WebElement (session=\"0dce79edb342644031b4c8d64cc75686\", element=\"0d86feef-238c-4fda-b14a-15deff7b8d43\")>,\n",
       " <selenium.webdriver.remote.webelement.WebElement (session=\"0dce79edb342644031b4c8d64cc75686\", element=\"97b2c0b7-720b-462e-bcbd-f7959e420054\")>,\n",
       " <selenium.webdriver.remote.webelement.WebElement (session=\"0dce79edb342644031b4c8d64cc75686\", element=\"ff65520c-090a-458f-af42-7322f0680edc\")>,\n",
       " <selenium.webdriver.remote.webelement.WebElement (session=\"0dce79edb342644031b4c8d64cc75686\", element=\"93737a65-4f5a-4b56-8639-59b43d3cd108\")>]"
      ]
     },
     "execution_count": 221,
     "metadata": {},
     "output_type": "execute_result"
    }
   ],
   "source": [
    "# extracting all the tags having job-experience\n",
    "\n",
    "exp_tag = driver.find_elements_by_xpath(\"//li[@class='fleft grey-text br2 placeHolderLi experience']\")\n",
    "exp_tag[0:10]"
   ]
  },
  {
   "cell_type": "code",
   "execution_count": 222,
   "id": "07f74e97",
   "metadata": {},
   "outputs": [
    {
     "name": "stdout",
     "output_type": "stream",
     "text": [
      "Below are the top 10 job data's job title: \n",
      " ['0-2 ', '3-8 ', '4-9 ', '1-5 ', '4-9 ', '1-3 ', '0-1 ', '2-5 ', '2-5 ', '2-5 ']\n"
     ]
    }
   ],
   "source": [
    "# extract the job experience text iteratively from these tags one by one\n",
    "\n",
    "for i in exp_tag:\n",
    "    experience_required.append(i.text.replace(\"Yrs\",\"\"))\n",
    "experience_required= experience_required[0:10]\n",
    "print(\"Below are the top 10 job data's job title: \\n\", experience_required)"
   ]
  },
  {
   "cell_type": "code",
   "execution_count": 223,
   "id": "948329d2",
   "metadata": {},
   "outputs": [
    {
     "data": {
      "text/html": [
       "<div>\n",
       "<style scoped>\n",
       "    .dataframe tbody tr th:only-of-type {\n",
       "        vertical-align: middle;\n",
       "    }\n",
       "\n",
       "    .dataframe tbody tr th {\n",
       "        vertical-align: top;\n",
       "    }\n",
       "\n",
       "    .dataframe thead th {\n",
       "        text-align: right;\n",
       "    }\n",
       "</style>\n",
       "<table border=\"1\" class=\"dataframe\">\n",
       "  <thead>\n",
       "    <tr style=\"text-align: right;\">\n",
       "      <th></th>\n",
       "      <th>Title</th>\n",
       "      <th>Location</th>\n",
       "      <th>Company_Name</th>\n",
       "      <th>Experience</th>\n",
       "    </tr>\n",
       "  </thead>\n",
       "  <tbody>\n",
       "    <tr>\n",
       "      <th>0</th>\n",
       "      <td>Data Scientist</td>\n",
       "      <td>Noida, New Delhi, Faridabad, Gurgaon/Gurugram,...</td>\n",
       "      <td>LG Electronics India Pvt. Ltd.</td>\n",
       "      <td>0-2</td>\n",
       "    </tr>\n",
       "    <tr>\n",
       "      <th>1</th>\n",
       "      <td>NTT DATA_ Hiring For BIG DATA ,DATA Scientist,...</td>\n",
       "      <td>Noida, Kolkata, Hyderabad/Secunderabad, Ahmeda...</td>\n",
       "      <td>NTT Data Business Solutions Pvt Ltd</td>\n",
       "      <td>3-8</td>\n",
       "    </tr>\n",
       "    <tr>\n",
       "      <th>2</th>\n",
       "      <td>Hiring For Data Scientist</td>\n",
       "      <td>Hyderabad/Secunderabad, Pune, Chennai, Bangalo...</td>\n",
       "      <td>Tata Consultancy Services Ltd.</td>\n",
       "      <td>4-9</td>\n",
       "    </tr>\n",
       "    <tr>\n",
       "      <th>3</th>\n",
       "      <td>Project Manager | Team Leader | Senior Data Sc...</td>\n",
       "      <td>Remote</td>\n",
       "      <td>Tidyquant (OPC) Private Limited</td>\n",
       "      <td>1-5</td>\n",
       "    </tr>\n",
       "    <tr>\n",
       "      <th>4</th>\n",
       "      <td>Data Scientist</td>\n",
       "      <td>Gurgaon/Gurugram, Chennai</td>\n",
       "      <td>Teleperformance</td>\n",
       "      <td>4-9</td>\n",
       "    </tr>\n",
       "    <tr>\n",
       "      <th>5</th>\n",
       "      <td>Hiring For Data Analyst / Data Scientist</td>\n",
       "      <td>Noida(Sector-59 Noida)</td>\n",
       "      <td>Careerera</td>\n",
       "      <td>1-3</td>\n",
       "    </tr>\n",
       "    <tr>\n",
       "      <th>6</th>\n",
       "      <td>Data Scientist Internship</td>\n",
       "      <td>New Delhi</td>\n",
       "      <td>iHackers Inc</td>\n",
       "      <td>0-1</td>\n",
       "    </tr>\n",
       "    <tr>\n",
       "      <th>7</th>\n",
       "      <td>Data Scientist</td>\n",
       "      <td>Gurgaon/Gurugram</td>\n",
       "      <td>Whizhack Technologies pvt ltd</td>\n",
       "      <td>2-5</td>\n",
       "    </tr>\n",
       "    <tr>\n",
       "      <th>8</th>\n",
       "      <td>Data Scientist</td>\n",
       "      <td>Gurgaon/Gurugram</td>\n",
       "      <td>One Mobikwik Systems Private Limited</td>\n",
       "      <td>2-5</td>\n",
       "    </tr>\n",
       "    <tr>\n",
       "      <th>9</th>\n",
       "      <td>Data Scientist/ Senior Data Scientist</td>\n",
       "      <td>Noida</td>\n",
       "      <td>Newgen Software Technologies</td>\n",
       "      <td>2-5</td>\n",
       "    </tr>\n",
       "  </tbody>\n",
       "</table>\n",
       "</div>"
      ],
      "text/plain": [
       "                                               Title  \\\n",
       "0                                     Data Scientist   \n",
       "1  NTT DATA_ Hiring For BIG DATA ,DATA Scientist,...   \n",
       "2                          Hiring For Data Scientist   \n",
       "3  Project Manager | Team Leader | Senior Data Sc...   \n",
       "4                                     Data Scientist   \n",
       "5           Hiring For Data Analyst / Data Scientist   \n",
       "6                          Data Scientist Internship   \n",
       "7                                     Data Scientist   \n",
       "8                                     Data Scientist   \n",
       "9              Data Scientist/ Senior Data Scientist   \n",
       "\n",
       "                                            Location  \\\n",
       "0  Noida, New Delhi, Faridabad, Gurgaon/Gurugram,...   \n",
       "1  Noida, Kolkata, Hyderabad/Secunderabad, Ahmeda...   \n",
       "2  Hyderabad/Secunderabad, Pune, Chennai, Bangalo...   \n",
       "3                                             Remote   \n",
       "4                          Gurgaon/Gurugram, Chennai   \n",
       "5                             Noida(Sector-59 Noida)   \n",
       "6                                          New Delhi   \n",
       "7                                   Gurgaon/Gurugram   \n",
       "8                                   Gurgaon/Gurugram   \n",
       "9                                              Noida   \n",
       "\n",
       "                           Company_Name Experience  \n",
       "0        LG Electronics India Pvt. Ltd.       0-2   \n",
       "1   NTT Data Business Solutions Pvt Ltd       3-8   \n",
       "2        Tata Consultancy Services Ltd.       4-9   \n",
       "3       Tidyquant (OPC) Private Limited       1-5   \n",
       "4                       Teleperformance       4-9   \n",
       "5                             Careerera       1-3   \n",
       "6                          iHackers Inc       0-1   \n",
       "7         Whizhack Technologies pvt ltd       2-5   \n",
       "8  One Mobikwik Systems Private Limited       2-5   \n",
       "9          Newgen Software Technologies       2-5   "
      ]
     },
     "execution_count": 223,
     "metadata": {},
     "output_type": "execute_result"
    }
   ],
   "source": [
    "# making DataFrame of the top 10 job details from the \"wwww.naukri.com\"\n",
    "\n",
    "naukri_filter = pd.DataFrame({'Title':job_title, \n",
    "                       'Location': job_location,\n",
    "                       'Company_Name':company_name, \n",
    "                       'Experience':experience_required,                        \n",
    "                       })\n",
    "naukri_filter"
   ]
  },
  {
   "cell_type": "code",
   "execution_count": 224,
   "id": "373dae87",
   "metadata": {},
   "outputs": [],
   "source": [
    "#close the driver\n",
    "\n",
    "driver.close()"
   ]
  },
  {
   "cell_type": "markdown",
   "id": "f7c35594",
   "metadata": {},
   "source": [
    "## Q4: Scrape data of first 100 sunglasses listings on flipkart.com. You have to scrape four attributes: \n",
    "#### 1. Brand \n",
    "#### 2. Product Description \n",
    "#### 3. Price \n",
    "#### The attributes which you have to scrape is ticked marked in the below image. \n",
    "#### To scrape the data you have to go through following steps: \n",
    "#### 1. Go to Flipkart webpage by url : ![https://www.flipkart.com](https://cdn.iconscout.com/icon/free/png-256/flipkart-2709174-2249163.png)\n",
    "#### 2. Enter “sunglasses” in the search field where “search for products, brands and more” is written and click the search icon \n",
    "#### 3. After that you will reach to the page having a lot of sunglasses. From this page you can scrap the required data as usual. \n",
    "#### 4. After scraping data from the first page, go to the “Next” Button at the bottom of the page , then click on it. \n",
    "#### 5. Now scrape data from this page as usual \n",
    "#### 6. Repeat this until you get data for 100 sunglasses. \n",
    "##### Note: That all of the above steps have to be done by coding only and not manually. "
   ]
  },
  {
   "cell_type": "code",
   "execution_count": 227,
   "id": "2230ad47",
   "metadata": {
    "scrolled": true
   },
   "outputs": [
    {
     "name": "stderr",
     "output_type": "stream",
     "text": [
      "<ipython-input-227-9940761397f7>:2: DeprecationWarning: executable_path has been deprecated, please pass in a Service object\n",
      "  driver = webdriver.Chrome(r\"C:/Users/DELL/Downloads/chromedriver_win32/chromedriver.exe\")\n"
     ]
    }
   ],
   "source": [
    "# connect to webdriver\n",
    "driver = webdriver.Chrome(r\"C:/Users/DELL/Downloads/chromedriver_win32/chromedriver.exe\")\n",
    "# get webpage\n",
    "driver.get(\"https://www.flipkart.com/\")"
   ]
  },
  {
   "cell_type": "code",
   "execution_count": 228,
   "id": "986104c3",
   "metadata": {
    "scrolled": true
   },
   "outputs": [
    {
     "name": "stderr",
     "output_type": "stream",
     "text": [
      "<ipython-input-228-adab00355ba4>:2: DeprecationWarning: find_element_by_* commands are deprecated. Please use find_element() instead\n",
      "  search_product = driver.find_element_by_xpath(\"//div[@class='_3OO5Xc']/input\")\n",
      "<ipython-input-228-adab00355ba4>:6: DeprecationWarning: find_element_by_* commands are deprecated. Please use find_element() instead\n",
      "  search_btn = driver.find_element_by_xpath(\"//button[@class='L0Z3Pu']\")\n"
     ]
    }
   ],
   "source": [
    "# enter “sunglasses” in “search for products, brands and more” field.\n",
    "search_product = driver.find_element_by_xpath(\"//div[@class='_3OO5Xc']/input\")\n",
    "search_product.send_keys(\"sunglasses\")\n",
    "\n",
    "# click the search button\n",
    "search_btn = driver.find_element_by_xpath(\"//button[@class='L0Z3Pu']\")\n",
    "search_btn.click()"
   ]
  },
  {
   "cell_type": "code",
   "execution_count": 229,
   "id": "eb4b3d15",
   "metadata": {},
   "outputs": [],
   "source": [
    "# specifying the url of the webpage to be scraped\n",
    "url = \"https://www.flipkart.com/search?q=sunglasses&otracker=search&otracker1=search&marketplace=FLIPKART&as-show=on&as=off\"\n",
    "\n",
    "# open the webpage through our web driver\n",
    "driver.get(url)"
   ]
  },
  {
   "cell_type": "markdown",
   "id": "79fd8501",
   "metadata": {},
   "source": [
    "### Scraping the data for the first 100 sunglasses listings on flipkart.com"
   ]
  },
  {
   "cell_type": "code",
   "execution_count": 230,
   "id": "3ddef4e0",
   "metadata": {},
   "outputs": [
    {
     "name": "stderr",
     "output_type": "stream",
     "text": [
      "<ipython-input-230-338eb93c4676>:5: DeprecationWarning: find_elements_by_* commands are deprecated. Please use find_elements() instead\n",
      "  url=driver.find_elements_by_xpath(\"//nav[@class='yFHi8N']//a\")\n"
     ]
    }
   ],
   "source": [
    "# iterating first 3 website pages to scrape the data\n",
    "\n",
    "page_url=[]\n",
    "\n",
    "url=driver.find_elements_by_xpath(\"//nav[@class='yFHi8N']//a\")\n",
    "for i in url:\n",
    "    page_url.append(i.get_attribute('href'))\n",
    "page_url=page_url[0:3]"
   ]
  },
  {
   "cell_type": "code",
   "execution_count": 232,
   "id": "e4958425",
   "metadata": {},
   "outputs": [
    {
     "name": "stderr",
     "output_type": "stream",
     "text": [
      "<ipython-input-232-265bd805494c>:12: DeprecationWarning: find_elements_by_* commands are deprecated. Please use find_elements() instead\n",
      "  titles_brand=driver.find_elements_by_xpath(\"//div[@class='_2WkVRV']\")\n",
      "<ipython-input-232-265bd805494c>:16: DeprecationWarning: find_elements_by_* commands are deprecated. Please use find_elements() instead\n",
      "  titles_Description=driver.find_elements_by_xpath(\"//a[@class='IRpwTa']\")\n",
      "<ipython-input-232-265bd805494c>:20: DeprecationWarning: find_elements_by_* commands are deprecated. Please use find_elements() instead\n",
      "  titles_Price=driver.find_elements_by_xpath(\"//div[@class='_30jeq3']\")\n",
      "<ipython-input-232-265bd805494c>:24: DeprecationWarning: find_elements_by_* commands are deprecated. Please use find_elements() instead\n",
      "  titles_Discount=driver.find_elements_by_xpath(\"//div[@class='_3Ay6Sb']/span\")\n"
     ]
    }
   ],
   "source": [
    "# creating empty list to scraping data into them\n",
    "\n",
    "brand=[]\n",
    "Description=[]\n",
    "Price=[]\n",
    "Discount=[] \n",
    "\n",
    "# extracting all the tags\n",
    "\n",
    "for i in page_url:\n",
    "    driver.get(i)\n",
    "    titles_brand=driver.find_elements_by_xpath(\"//div[@class='_2WkVRV']\")\n",
    "    for i in titles_brand:\n",
    "        brand.append(i.text)\n",
    "        \n",
    "    titles_Description=driver.find_elements_by_xpath(\"//a[@class='IRpwTa']\")\n",
    "    for i in titles_Description:\n",
    "        Description.append(i.text)\n",
    "        \n",
    "    titles_Price=driver.find_elements_by_xpath(\"//div[@class='_30jeq3']\")\n",
    "    for i in titles_Price:\n",
    "        Price.append(i.text.replace(\"₹\",\"\"))\n",
    "        \n",
    "    titles_Discount=driver.find_elements_by_xpath(\"//div[@class='_3Ay6Sb']/span\")\n",
    "    for i in titles_Discount:\n",
    "        Discount.append(i.text.replace(\"% off\",\"\"))"
   ]
  },
  {
   "cell_type": "code",
   "execution_count": 233,
   "id": "cacc4076",
   "metadata": {
    "scrolled": true
   },
   "outputs": [
    {
     "name": "stdout",
     "output_type": "stream",
     "text": [
      "The data for the first 100 sunglasses listings on flipkart.com:\n",
      "\n"
     ]
    },
    {
     "data": {
      "text/html": [
       "<div>\n",
       "<style scoped>\n",
       "    .dataframe tbody tr th:only-of-type {\n",
       "        vertical-align: middle;\n",
       "    }\n",
       "\n",
       "    .dataframe tbody tr th {\n",
       "        vertical-align: top;\n",
       "    }\n",
       "\n",
       "    .dataframe thead th {\n",
       "        text-align: right;\n",
       "    }\n",
       "</style>\n",
       "<table border=\"1\" class=\"dataframe\">\n",
       "  <thead>\n",
       "    <tr style=\"text-align: right;\">\n",
       "      <th></th>\n",
       "      <th>Brand</th>\n",
       "      <th>Product Description</th>\n",
       "      <th>Price</th>\n",
       "      <th>Discount %</th>\n",
       "    </tr>\n",
       "  </thead>\n",
       "  <tbody>\n",
       "    <tr>\n",
       "      <th>0</th>\n",
       "      <td>hipe</td>\n",
       "      <td>Mirrored, UV Protection, Gradient Round Sungla...</td>\n",
       "      <td>189</td>\n",
       "      <td>87</td>\n",
       "    </tr>\n",
       "    <tr>\n",
       "      <th>1</th>\n",
       "      <td>Fravy</td>\n",
       "      <td>UV Protection Retro Square Sunglasses (Free Size)</td>\n",
       "      <td>244</td>\n",
       "      <td>83</td>\n",
       "    </tr>\n",
       "    <tr>\n",
       "      <th>2</th>\n",
       "      <td>SRPM</td>\n",
       "      <td>UV Protection Wayfarer Sunglasses (56)</td>\n",
       "      <td>188</td>\n",
       "      <td>85</td>\n",
       "    </tr>\n",
       "    <tr>\n",
       "      <th>3</th>\n",
       "      <td>Elligator</td>\n",
       "      <td>UV Protection Round Sunglasses (54)</td>\n",
       "      <td>248</td>\n",
       "      <td>90</td>\n",
       "    </tr>\n",
       "    <tr>\n",
       "      <th>4</th>\n",
       "      <td>PIRASO</td>\n",
       "      <td>UV Protection Aviator Sunglasses (54)</td>\n",
       "      <td>200</td>\n",
       "      <td>87</td>\n",
       "    </tr>\n",
       "    <tr>\n",
       "      <th>...</th>\n",
       "      <td>...</td>\n",
       "      <td>...</td>\n",
       "      <td>...</td>\n",
       "      <td>...</td>\n",
       "    </tr>\n",
       "    <tr>\n",
       "      <th>95</th>\n",
       "      <td>Elligator</td>\n",
       "      <td>UV Protection Retro Square, Round Sunglasses (54)</td>\n",
       "      <td>291</td>\n",
       "      <td>85</td>\n",
       "    </tr>\n",
       "    <tr>\n",
       "      <th>96</th>\n",
       "      <td>ROYAL SON</td>\n",
       "      <td>UV Protection Retro Square Sunglasses (58)</td>\n",
       "      <td>449</td>\n",
       "      <td>70</td>\n",
       "    </tr>\n",
       "    <tr>\n",
       "      <th>97</th>\n",
       "      <td>ROZZETTA CRAFT</td>\n",
       "      <td>UV Protection Retro Square Sunglasses (Free Size)</td>\n",
       "      <td>499</td>\n",
       "      <td>77</td>\n",
       "    </tr>\n",
       "    <tr>\n",
       "      <th>98</th>\n",
       "      <td>kingsunglasses</td>\n",
       "      <td>UV Protection, Night Vision Wayfarer Sunglasse...</td>\n",
       "      <td>279</td>\n",
       "      <td>83</td>\n",
       "    </tr>\n",
       "    <tr>\n",
       "      <th>99</th>\n",
       "      <td>ROYAL SON</td>\n",
       "      <td>UV Protection, Gradient Butterfly Sunglasses (60)</td>\n",
       "      <td>694</td>\n",
       "      <td>65</td>\n",
       "    </tr>\n",
       "  </tbody>\n",
       "</table>\n",
       "<p>100 rows × 4 columns</p>\n",
       "</div>"
      ],
      "text/plain": [
       "             Brand                                Product Description Price  \\\n",
       "0             hipe  Mirrored, UV Protection, Gradient Round Sungla...   189   \n",
       "1            Fravy  UV Protection Retro Square Sunglasses (Free Size)   244   \n",
       "2             SRPM             UV Protection Wayfarer Sunglasses (56)   188   \n",
       "3        Elligator                UV Protection Round Sunglasses (54)   248   \n",
       "4           PIRASO              UV Protection Aviator Sunglasses (54)   200   \n",
       "..             ...                                                ...   ...   \n",
       "95       Elligator  UV Protection Retro Square, Round Sunglasses (54)   291   \n",
       "96       ROYAL SON         UV Protection Retro Square Sunglasses (58)   449   \n",
       "97  ROZZETTA CRAFT  UV Protection Retro Square Sunglasses (Free Size)   499   \n",
       "98  kingsunglasses  UV Protection, Night Vision Wayfarer Sunglasse...   279   \n",
       "99       ROYAL SON  UV Protection, Gradient Butterfly Sunglasses (60)   694   \n",
       "\n",
       "   Discount %  \n",
       "0          87  \n",
       "1          83  \n",
       "2          85  \n",
       "3          90  \n",
       "4          87  \n",
       "..        ...  \n",
       "95         85  \n",
       "96         70  \n",
       "97         77  \n",
       "98         83  \n",
       "99         65  \n",
       "\n",
       "[100 rows x 4 columns]"
      ]
     },
     "execution_count": 233,
     "metadata": {},
     "output_type": "execute_result"
    }
   ],
   "source": [
    "# creating dataframe for the first 100 sunglasses listings on flipkart.com:\n",
    "\n",
    "flipkart=pd.DataFrame({})\n",
    "flipkart['Brand']=brand[0:100]\n",
    "flipkart['Product Description']=Description[0:100]\n",
    "flipkart['Price']=Price[0:100]\n",
    "flipkart['Discount %']=Discount[0:100]\n",
    "\n",
    "print(\"The data for the first 100 sunglasses listings on flipkart.com:\\n\")\n",
    "flipkart"
   ]
  },
  {
   "cell_type": "code",
   "execution_count": 234,
   "id": "0186cd19",
   "metadata": {},
   "outputs": [],
   "source": [
    "#close the driver\n",
    "\n",
    "driver.close()"
   ]
  },
  {
   "cell_type": "markdown",
   "id": "83d1b47a",
   "metadata": {},
   "source": [
    "## Q5: Scrape 100 reviews data from flipkart.com for iphone11 phone. You have to go the link: \n",
    "### https://www.flipkart.com/apple-iphone-11-black-64-gb-includes-earpods-power\u0002adapter/p/itm0f37c2240b217?pid=MOBFKCTSVZAXUHGR&lid=LSTMOBFKCTSVZAXUHGREPBFGI&marketplace. \n",
    "\n",
    "### As shown in the above page you have to scrape the tick marked attributes. These are: \n",
    "### 1. Rating \n",
    "### 2. Review_summary \n",
    "### 3. Full review \n",
    "### 4. You have to scrape this data for first 100 reviews. \n",
    "### Note: All the steps required during scraping should be done through code only and not manually. "
   ]
  },
  {
   "cell_type": "code",
   "execution_count": 247,
   "id": "553e29a8",
   "metadata": {
    "scrolled": true
   },
   "outputs": [
    {
     "name": "stderr",
     "output_type": "stream",
     "text": [
      "<ipython-input-247-b4ae44e77989>:2: DeprecationWarning: executable_path has been deprecated, please pass in a Service object\n",
      "  driver = webdriver.Chrome(r\"C:/Users/DELL/Downloads/chromedriver_win32/chromedriver.exe\")\n",
      "<ipython-input-247-b4ae44e77989>:11: DeprecationWarning: find_element_by_* commands are deprecated. Please use find_element() instead\n",
      "  driver.find_element_by_xpath(\"//div[@class='_3UAT2v _16PBlm']/span\").click()\n"
     ]
    }
   ],
   "source": [
    "# connect to webdriver\n",
    "driver = webdriver.Chrome(r\"C:/Users/DELL/Downloads/chromedriver_win32/chromedriver.exe\")\n",
    "\n",
    "# specifying the url of the webpage to be scraped\n",
    "url = \"https://www.flipkart.com/apple-iphone-11-black-64-gb-includes-earpods-power%02adapter/p/itm0f37c2240b217?pid=MOBFKCTSVZAXUHGR&lid=LSTMOBFKCTSVZAXUHGREPBFGI&marketplace\"\n",
    "\n",
    "# open the webpage through our web driver\n",
    "driver.get(url)\n",
    "\n",
    "# clicking for all reviews\n",
    "driver.find_element_by_xpath(\"//div[@class='_3UAT2v _16PBlm']/span\").click()\n",
    "\n"
   ]
  },
  {
   "cell_type": "code",
   "execution_count": 236,
   "id": "516d8714",
   "metadata": {},
   "outputs": [
    {
     "name": "stderr",
     "output_type": "stream",
     "text": [
      "<ipython-input-236-c99d3655114c>:4: DeprecationWarning: find_elements_by_* commands are deprecated. Please use find_elements() instead\n",
      "  url=driver.find_elements_by_xpath(\"//nav[@class='yFHi8N']//a\")\n"
     ]
    }
   ],
   "source": [
    "# get webpage\n",
    "page_url=[]\n",
    "\n",
    "url=driver.find_elements_by_xpath(\"//nav[@class='yFHi8N']//a\")\n",
    "for i in url:\n",
    "    page_url.append(i.get_attribute('href'))\n",
    "page_url=page_url[0:13]"
   ]
  },
  {
   "cell_type": "code",
   "execution_count": 248,
   "id": "214ef2e5",
   "metadata": {},
   "outputs": [
    {
     "name": "stderr",
     "output_type": "stream",
     "text": [
      "<ipython-input-248-add04d3a0b02>:12: DeprecationWarning: find_elements_by_* commands are deprecated. Please use find_elements() instead\n",
      "  rat=driver.find_elements_by_xpath(\"//div[@class='_3LWZlK _1BLPMq']\")\n",
      "<ipython-input-248-add04d3a0b02>:16: DeprecationWarning: find_elements_by_* commands are deprecated. Please use find_elements() instead\n",
      "  summary=driver.find_elements_by_xpath(\"//p[@class='_2-N8zT']\")\n",
      "<ipython-input-248-add04d3a0b02>:20: DeprecationWarning: find_elements_by_* commands are deprecated. Please use find_elements() instead\n",
      "  review=driver.find_elements_by_xpath(\"//div[@class='t-ZTKy']\")\n"
     ]
    }
   ],
   "source": [
    "# creating empty list to scraping data into them \n",
    "\n",
    "Rating=[]\n",
    "Review_summary=[]\n",
    "Full_review=[]\n",
    "\n",
    "# extracting all the tags\n",
    "\n",
    "for i in page_url:\n",
    "    driver.get(i)\n",
    "\n",
    "    rat=driver.find_elements_by_xpath(\"//div[@class='_3LWZlK _1BLPMq']\")\n",
    "    for i in rat:\n",
    "        Rating.append(i.text)\n",
    "\n",
    "    summary=driver.find_elements_by_xpath(\"//p[@class='_2-N8zT']\")\n",
    "    for i in summary:\n",
    "        Review_summary.append(i.text)\n",
    "\n",
    "    review=driver.find_elements_by_xpath(\"//div[@class='t-ZTKy']\")\n",
    "    for i in review:\n",
    "        Full_review.append(i.text)"
   ]
  },
  {
   "cell_type": "code",
   "execution_count": 249,
   "id": "d57ecbc8",
   "metadata": {
    "scrolled": true
   },
   "outputs": [
    {
     "name": "stdout",
     "output_type": "stream",
     "text": [
      "The data for the first 100 reviews data from flipkart.com for iphone11 phone:\n",
      "\n"
     ]
    },
    {
     "data": {
      "text/html": [
       "<div>\n",
       "<style scoped>\n",
       "    .dataframe tbody tr th:only-of-type {\n",
       "        vertical-align: middle;\n",
       "    }\n",
       "\n",
       "    .dataframe tbody tr th {\n",
       "        vertical-align: top;\n",
       "    }\n",
       "\n",
       "    .dataframe thead th {\n",
       "        text-align: right;\n",
       "    }\n",
       "</style>\n",
       "<table border=\"1\" class=\"dataframe\">\n",
       "  <thead>\n",
       "    <tr style=\"text-align: right;\">\n",
       "      <th></th>\n",
       "      <th>Rating</th>\n",
       "      <th>Review Summary</th>\n",
       "      <th>Full Review</th>\n",
       "    </tr>\n",
       "  </thead>\n",
       "  <tbody>\n",
       "    <tr>\n",
       "      <th>0</th>\n",
       "      <td>5</td>\n",
       "      <td>Brilliant</td>\n",
       "      <td>The Best Phone for the Money\\n\\nThe iPhone 11 ...</td>\n",
       "    </tr>\n",
       "    <tr>\n",
       "      <th>1</th>\n",
       "      <td>5</td>\n",
       "      <td>Simply awesome</td>\n",
       "      <td>Really satisfied with the Product I received.....</td>\n",
       "    </tr>\n",
       "    <tr>\n",
       "      <th>2</th>\n",
       "      <td>5</td>\n",
       "      <td>Best in the market!</td>\n",
       "      <td>Great iPhone very snappy experience as apple k...</td>\n",
       "    </tr>\n",
       "    <tr>\n",
       "      <th>3</th>\n",
       "      <td>5</td>\n",
       "      <td>Perfect product!</td>\n",
       "      <td>Amazing phone with great cameras and better ba...</td>\n",
       "    </tr>\n",
       "    <tr>\n",
       "      <th>4</th>\n",
       "      <td>5</td>\n",
       "      <td>Worth every penny</td>\n",
       "      <td>Previously I was using one plus 3t it was a gr...</td>\n",
       "    </tr>\n",
       "    <tr>\n",
       "      <th>...</th>\n",
       "      <td>...</td>\n",
       "      <td>...</td>\n",
       "      <td>...</td>\n",
       "    </tr>\n",
       "    <tr>\n",
       "      <th>95</th>\n",
       "      <td>5</td>\n",
       "      <td>Awesome</td>\n",
       "      <td>The phone is completely good\\nAs far as camera...</td>\n",
       "    </tr>\n",
       "    <tr>\n",
       "      <th>96</th>\n",
       "      <td>3</td>\n",
       "      <td>Decent product</td>\n",
       "      <td>Everything u ll like it when u use this iPhone...</td>\n",
       "    </tr>\n",
       "    <tr>\n",
       "      <th>97</th>\n",
       "      <td>5</td>\n",
       "      <td>Brilliant</td>\n",
       "      <td>A wort full value for money decision it’s . Si...</td>\n",
       "    </tr>\n",
       "    <tr>\n",
       "      <th>98</th>\n",
       "      <td>5</td>\n",
       "      <td>Awesome</td>\n",
       "      <td>Can’t beat the software and hardware integrati...</td>\n",
       "    </tr>\n",
       "    <tr>\n",
       "      <th>99</th>\n",
       "      <td>5</td>\n",
       "      <td>Does the job</td>\n",
       "      <td>phone is good but in display is 720p lcd in th...</td>\n",
       "    </tr>\n",
       "  </tbody>\n",
       "</table>\n",
       "<p>100 rows × 3 columns</p>\n",
       "</div>"
      ],
      "text/plain": [
       "   Rating       Review Summary  \\\n",
       "0       5            Brilliant   \n",
       "1       5       Simply awesome   \n",
       "2       5  Best in the market!   \n",
       "3       5     Perfect product!   \n",
       "4       5    Worth every penny   \n",
       "..    ...                  ...   \n",
       "95      5              Awesome   \n",
       "96      3       Decent product   \n",
       "97      5            Brilliant   \n",
       "98      5              Awesome   \n",
       "99      5         Does the job   \n",
       "\n",
       "                                          Full Review  \n",
       "0   The Best Phone for the Money\\n\\nThe iPhone 11 ...  \n",
       "1   Really satisfied with the Product I received.....  \n",
       "2   Great iPhone very snappy experience as apple k...  \n",
       "3   Amazing phone with great cameras and better ba...  \n",
       "4   Previously I was using one plus 3t it was a gr...  \n",
       "..                                                ...  \n",
       "95  The phone is completely good\\nAs far as camera...  \n",
       "96  Everything u ll like it when u use this iPhone...  \n",
       "97  A wort full value for money decision it’s . Si...  \n",
       "98  Can’t beat the software and hardware integrati...  \n",
       "99  phone is good but in display is 720p lcd in th...  \n",
       "\n",
       "[100 rows x 3 columns]"
      ]
     },
     "execution_count": 249,
     "metadata": {},
     "output_type": "execute_result"
    }
   ],
   "source": [
    "# creating dataframe for the first 100 reviews data from flipkart.com for iphone11 phone:\n",
    "\n",
    "flipkart=pd.DataFrame({})\n",
    "flipkart['Rating']=Rating[0:100]\n",
    "flipkart['Review Summary']=Review_summary[0:100]\n",
    "flipkart['Full Review']=Full_review[0:100]\n",
    "\n",
    "\n",
    "print(\"The data for the first 100 reviews data from flipkart.com for iphone11 phone:\\n\")\n",
    "flipkart"
   ]
  },
  {
   "cell_type": "code",
   "execution_count": 250,
   "id": "974b78b1",
   "metadata": {},
   "outputs": [],
   "source": [
    "#close the driver\n",
    "\n",
    "driver.close()"
   ]
  },
  {
   "cell_type": "markdown",
   "id": "174a70d4",
   "metadata": {},
   "source": [
    "## Q6: Scrape data for first 100 sneakers you find when you visit ![https://www.flipkart.com](https://cdn.iconscout.com/icon/free/png-256/flipkart-2709174-2249163.png) and search for “sneakers” in the search field. \n",
    "#### You have to scrape 4 attributes of each sneaker: \n",
    "#### 1. Brand \n",
    "#### 2. Product Description \n",
    "#### 3. Price\n",
    "#### 4. Discount\n",
    "#### Note: All the steps required during scraping should be done through code only and not manually. "
   ]
  },
  {
   "cell_type": "code",
   "execution_count": 251,
   "id": "7d2ae73e",
   "metadata": {},
   "outputs": [
    {
     "name": "stderr",
     "output_type": "stream",
     "text": [
      "<ipython-input-251-bebe6a392e31>:2: DeprecationWarning: executable_path has been deprecated, please pass in a Service object\n",
      "  driver = webdriver.Chrome(r\"C:/Users/DELL/Downloads/chromedriver_win32/chromedriver.exe\")\n"
     ]
    }
   ],
   "source": [
    "# connect to webdriver\n",
    "driver = webdriver.Chrome(r\"C:/Users/DELL/Downloads/chromedriver_win32/chromedriver.exe\")\n",
    "\n",
    "# get webpage\n",
    "driver.get(\"https://www.flipkart.com/\")"
   ]
  },
  {
   "cell_type": "code",
   "execution_count": 253,
   "id": "69e55d3d",
   "metadata": {
    "scrolled": true
   },
   "outputs": [
    {
     "name": "stderr",
     "output_type": "stream",
     "text": [
      "<ipython-input-253-b692d5e730aa>:2: DeprecationWarning: find_element_by_* commands are deprecated. Please use find_element() instead\n",
      "  search_product = driver.find_element_by_xpath(\"//div[@class='_3OO5Xc']/input\")\n",
      "<ipython-input-253-b692d5e730aa>:6: DeprecationWarning: find_element_by_* commands are deprecated. Please use find_element() instead\n",
      "  search_btn = driver.find_element_by_xpath(\"//button[@class='L0Z3Pu']\")\n"
     ]
    }
   ],
   "source": [
    "# enter “sneakers” in “search for products, brands and more” field.\n",
    "search_product = driver.find_element_by_xpath(\"//div[@class='_3OO5Xc']/input\")\n",
    "search_product.send_keys(\"sneakers\")\n",
    "\n",
    "# click the search button\n",
    "search_btn = driver.find_element_by_xpath(\"//button[@class='L0Z3Pu']\")\n",
    "search_btn.click()"
   ]
  },
  {
   "cell_type": "markdown",
   "id": "da3c1a87",
   "metadata": {},
   "source": [
    "### Scraping the data for the first 100 sneakers listings on flipkart.com"
   ]
  },
  {
   "cell_type": "code",
   "execution_count": 254,
   "id": "15a3c7a9",
   "metadata": {},
   "outputs": [],
   "source": [
    "# specifying the url of the webpage to be scraped\n",
    "url = \"https://www.flipkart.com/search?q=sneakers&otracker=search&otracker1=search&marketplace=FLIPKART&as-show=on&as=off\"\n",
    "\n",
    "# open the webpage through our web driver\n",
    "driver.get(url)"
   ]
  },
  {
   "cell_type": "code",
   "execution_count": 255,
   "id": "5f8f91d6",
   "metadata": {
    "scrolled": true
   },
   "outputs": [
    {
     "name": "stderr",
     "output_type": "stream",
     "text": [
      "<ipython-input-255-4aaac7fce47a>:5: DeprecationWarning: find_elements_by_* commands are deprecated. Please use find_elements() instead\n",
      "  url=driver.find_elements_by_xpath(\"//nav[@class='yFHi8N']//a\")\n"
     ]
    }
   ],
   "source": [
    "# iterating first 3 website pages to scrape the data\n",
    "\n",
    "page_url=[]\n",
    "\n",
    "url=driver.find_elements_by_xpath(\"//nav[@class='yFHi8N']//a\")\n",
    "for i in url:\n",
    "    page_url.append(i.get_attribute('href'))\n",
    "page_url=page_url[0:5]"
   ]
  },
  {
   "cell_type": "code",
   "execution_count": 256,
   "id": "976816f8",
   "metadata": {
    "scrolled": true
   },
   "outputs": [
    {
     "name": "stderr",
     "output_type": "stream",
     "text": [
      "<ipython-input-256-265bd805494c>:12: DeprecationWarning: find_elements_by_* commands are deprecated. Please use find_elements() instead\n",
      "  titles_brand=driver.find_elements_by_xpath(\"//div[@class='_2WkVRV']\")\n",
      "<ipython-input-256-265bd805494c>:16: DeprecationWarning: find_elements_by_* commands are deprecated. Please use find_elements() instead\n",
      "  titles_Description=driver.find_elements_by_xpath(\"//a[@class='IRpwTa']\")\n",
      "<ipython-input-256-265bd805494c>:20: DeprecationWarning: find_elements_by_* commands are deprecated. Please use find_elements() instead\n",
      "  titles_Price=driver.find_elements_by_xpath(\"//div[@class='_30jeq3']\")\n",
      "<ipython-input-256-265bd805494c>:24: DeprecationWarning: find_elements_by_* commands are deprecated. Please use find_elements() instead\n",
      "  titles_Discount=driver.find_elements_by_xpath(\"//div[@class='_3Ay6Sb']/span\")\n"
     ]
    }
   ],
   "source": [
    "# creating empty list to scraping data into them\n",
    "\n",
    "brand=[]\n",
    "Description=[]\n",
    "Price=[]\n",
    "Discount=[] \n",
    "\n",
    "# extracting all the tags\n",
    "\n",
    "for i in page_url:\n",
    "    driver.get(i)\n",
    "    titles_brand=driver.find_elements_by_xpath(\"//div[@class='_2WkVRV']\")\n",
    "    for i in titles_brand:\n",
    "        brand.append(i.text)\n",
    "        \n",
    "    titles_Description=driver.find_elements_by_xpath(\"//a[@class='IRpwTa']\")\n",
    "    for i in titles_Description:\n",
    "        Description.append(i.text)\n",
    "        \n",
    "    titles_Price=driver.find_elements_by_xpath(\"//div[@class='_30jeq3']\")\n",
    "    for i in titles_Price:\n",
    "        Price.append(i.text.replace(\"₹\",\"\"))\n",
    "        \n",
    "    titles_Discount=driver.find_elements_by_xpath(\"//div[@class='_3Ay6Sb']/span\")\n",
    "    for i in titles_Discount:\n",
    "        Discount.append(i.text.replace(\"% off\",\"\"))"
   ]
  },
  {
   "cell_type": "code",
   "execution_count": 258,
   "id": "6f7ca3ec",
   "metadata": {
    "scrolled": false
   },
   "outputs": [
    {
     "name": "stdout",
     "output_type": "stream",
     "text": [
      "The data for the first 100 sneakers listings on flipkart.com:\n",
      "\n"
     ]
    },
    {
     "data": {
      "text/html": [
       "<div>\n",
       "<style scoped>\n",
       "    .dataframe tbody tr th:only-of-type {\n",
       "        vertical-align: middle;\n",
       "    }\n",
       "\n",
       "    .dataframe tbody tr th {\n",
       "        vertical-align: top;\n",
       "    }\n",
       "\n",
       "    .dataframe thead th {\n",
       "        text-align: right;\n",
       "    }\n",
       "</style>\n",
       "<table border=\"1\" class=\"dataframe\">\n",
       "  <thead>\n",
       "    <tr style=\"text-align: right;\">\n",
       "      <th></th>\n",
       "      <th>Brand</th>\n",
       "      <th>Product Description</th>\n",
       "      <th>Price₹</th>\n",
       "      <th>Discount %</th>\n",
       "    </tr>\n",
       "  </thead>\n",
       "  <tbody>\n",
       "    <tr>\n",
       "      <th>0</th>\n",
       "      <td>NIKE</td>\n",
       "      <td>Tanjun Sneakers For Men</td>\n",
       "      <td>1,968</td>\n",
       "      <td>58</td>\n",
       "    </tr>\n",
       "    <tr>\n",
       "      <th>1</th>\n",
       "      <td>NIKE</td>\n",
       "      <td>Court Vapor Lite Hard Court Sneakers For Men</td>\n",
       "      <td>6,685</td>\n",
       "      <td>1</td>\n",
       "    </tr>\n",
       "    <tr>\n",
       "      <th>2</th>\n",
       "      <td>Chevit</td>\n",
       "      <td>Super Stylish &amp; Trendy Combo Pack of 02 Pairs ...</td>\n",
       "      <td>699</td>\n",
       "      <td>56</td>\n",
       "    </tr>\n",
       "    <tr>\n",
       "      <th>3</th>\n",
       "      <td>RapidBox</td>\n",
       "      <td>Modern Trendy Shoes Sneakers For Men</td>\n",
       "      <td>680</td>\n",
       "      <td>31</td>\n",
       "    </tr>\n",
       "    <tr>\n",
       "      <th>4</th>\n",
       "      <td>BRUTON</td>\n",
       "      <td>White Sneaker For Men's/Boy's Sneakers For Men</td>\n",
       "      <td>379</td>\n",
       "      <td>70</td>\n",
       "    </tr>\n",
       "    <tr>\n",
       "      <th>...</th>\n",
       "      <td>...</td>\n",
       "      <td>...</td>\n",
       "      <td>...</td>\n",
       "      <td>...</td>\n",
       "    </tr>\n",
       "    <tr>\n",
       "      <th>95</th>\n",
       "      <td>NIKE</td>\n",
       "      <td>Men's Canvas Low Top Sneakers Lace-up Classic ...</td>\n",
       "      <td>6,685</td>\n",
       "      <td>50</td>\n",
       "    </tr>\n",
       "    <tr>\n",
       "      <th>96</th>\n",
       "      <td>FEWROK</td>\n",
       "      <td>Tanjun Sneakers For Men</td>\n",
       "      <td>420</td>\n",
       "      <td>47</td>\n",
       "    </tr>\n",
       "    <tr>\n",
       "      <th>97</th>\n",
       "      <td>bluemaker</td>\n",
       "      <td>Sneakers For Men</td>\n",
       "      <td>499</td>\n",
       "      <td>50</td>\n",
       "    </tr>\n",
       "    <tr>\n",
       "      <th>98</th>\n",
       "      <td>BIRDE</td>\n",
       "      <td>Casual Sneakers Green Shoes For Men And Boys S...</td>\n",
       "      <td>525</td>\n",
       "      <td>40</td>\n",
       "    </tr>\n",
       "    <tr>\n",
       "      <th>99</th>\n",
       "      <td>WROGN</td>\n",
       "      <td>LYTECOURT Sneakers For Men</td>\n",
       "      <td>1,199</td>\n",
       "      <td>40</td>\n",
       "    </tr>\n",
       "  </tbody>\n",
       "</table>\n",
       "<p>100 rows × 4 columns</p>\n",
       "</div>"
      ],
      "text/plain": [
       "        Brand                                Product Description Price₹  \\\n",
       "0        NIKE                            Tanjun Sneakers For Men  1,968   \n",
       "1        NIKE       Court Vapor Lite Hard Court Sneakers For Men  6,685   \n",
       "2      Chevit  Super Stylish & Trendy Combo Pack of 02 Pairs ...    699   \n",
       "3    RapidBox               Modern Trendy Shoes Sneakers For Men    680   \n",
       "4      BRUTON     White Sneaker For Men's/Boy's Sneakers For Men    379   \n",
       "..        ...                                                ...    ...   \n",
       "95       NIKE  Men's Canvas Low Top Sneakers Lace-up Classic ...  6,685   \n",
       "96     FEWROK                            Tanjun Sneakers For Men    420   \n",
       "97  bluemaker                                   Sneakers For Men    499   \n",
       "98      BIRDE  Casual Sneakers Green Shoes For Men And Boys S...    525   \n",
       "99      WROGN                         LYTECOURT Sneakers For Men  1,199   \n",
       "\n",
       "   Discount %  \n",
       "0          58  \n",
       "1           1  \n",
       "2          56  \n",
       "3          31  \n",
       "4          70  \n",
       "..        ...  \n",
       "95         50  \n",
       "96         47  \n",
       "97         50  \n",
       "98         40  \n",
       "99         40  \n",
       "\n",
       "[100 rows x 4 columns]"
      ]
     },
     "execution_count": 258,
     "metadata": {},
     "output_type": "execute_result"
    }
   ],
   "source": [
    "# creating dataframe for the first 100 sunglasses listings on flipkart.com:\n",
    "\n",
    "flipkart=pd.DataFrame({})\n",
    "flipkart['Brand']=brand[0:100]\n",
    "flipkart['Product Description']=Description[0:100]\n",
    "flipkart['Price₹']=Price[0:100]\n",
    "flipkart['Discount %']=Discount[0:100]\n",
    "\n",
    "print(\"The data for the first 100 sneakers listings on flipkart.com:\\n\")\n",
    "flipkart"
   ]
  },
  {
   "cell_type": "code",
   "execution_count": 259,
   "id": "989237e7",
   "metadata": {},
   "outputs": [],
   "source": [
    "#close the driver\n",
    "\n",
    "driver.close()"
   ]
  },
  {
   "cell_type": "markdown",
   "id": "966808b4",
   "metadata": {},
   "source": [
    "## Q7: Go to the link - https://www.myntra.com/shoes ![https://www.myntra.com/shoes](https://d1yjjnpx0p53s8.cloudfront.net/square_logo-myntra.jpg) Set Price filter to “Rs. 6649 to Rs. 13099” , Color filter to “Black” And then scrape First 100 shoes data you get. The data should include “Brand” of the shoes , Short Shoe description, price of the shoe .\n",
    "### Note: Applying the filter and scraping the data, everything should be done through code only and there should not be any manual step."
   ]
  },
  {
   "cell_type": "code",
   "execution_count": 260,
   "id": "4e183108",
   "metadata": {
    "scrolled": true
   },
   "outputs": [
    {
     "name": "stderr",
     "output_type": "stream",
     "text": [
      "<ipython-input-260-1f58a4bdb4b9>:2: DeprecationWarning: executable_path has been deprecated, please pass in a Service object\n",
      "  driver = webdriver.Chrome(r\"C:/Users/DELL/Downloads/chromedriver_win32/chromedriver.exe\")\n"
     ]
    }
   ],
   "source": [
    "# connect to webdriver\n",
    "driver = webdriver.Chrome(r\"C:/Users/DELL/Downloads/chromedriver_win32/chromedriver.exe\")\n",
    "\n",
    "# get webpage\n",
    "driver.get(\"https://www.myntra.com/shoes\")"
   ]
  },
  {
   "cell_type": "code",
   "execution_count": 261,
   "id": "527d8b26",
   "metadata": {
    "scrolled": true
   },
   "outputs": [
    {
     "name": "stderr",
     "output_type": "stream",
     "text": [
      "<ipython-input-261-3ec5e4da065b>:3: DeprecationWarning: find_elements_by_* commands are deprecated. Please use find_elements() instead\n",
      "  price = driver.find_elements_by_xpath(\"//ul[@class ='price-list']//label[@class ='common-customCheckbox vertical-filters-label']/div[@class = 'common-checkboxIndicator']\")\n"
     ]
    }
   ],
   "source": [
    "# apply the Price filter to “Rs. 6649 to Rs. 13099” by checking the respective boxe\n",
    "\n",
    "price = driver.find_elements_by_xpath(\"//ul[@class ='price-list']//label[@class ='common-customCheckbox vertical-filters-label']/div[@class = 'common-checkboxIndicator']\") \n",
    "price[1].click()"
   ]
  },
  {
   "cell_type": "code",
   "execution_count": 262,
   "id": "79542b70",
   "metadata": {
    "scrolled": false
   },
   "outputs": [
    {
     "name": "stderr",
     "output_type": "stream",
     "text": [
      "<ipython-input-262-eee1501b7135>:3: DeprecationWarning: find_elements_by_* commands are deprecated. Please use find_elements() instead\n",
      "  color = driver.find_elements_by_xpath(\"//li[@class ='colour-listItem']//label[@class ='common-customCheckbox']/div[@class = 'common-checkboxIndicator']\")\n"
     ]
    }
   ],
   "source": [
    "# apply the Color filter to “Black”  by checking the box\n",
    "\n",
    "color = driver.find_elements_by_xpath(\"//li[@class ='colour-listItem']//label[@class ='common-customCheckbox']/div[@class = 'common-checkboxIndicator']\") \n",
    "color[0].click()\n",
    "\n"
   ]
  },
  {
   "cell_type": "code",
   "execution_count": 263,
   "id": "722bd4b6",
   "metadata": {},
   "outputs": [],
   "source": [
    "# specifying the url of the webpage to be scraped\n",
    "url = \"https://www.myntra.com/shoes?f=Color%3ABlack_36454f&rf=Price%3A7149.0_14099.0_7149.0%20TO%2014099.0\"\n",
    "\n",
    "# open the webpage through our web driver\n",
    "driver.get(url)"
   ]
  },
  {
   "cell_type": "code",
   "execution_count": 264,
   "id": "6826d4a6",
   "metadata": {
    "scrolled": true
   },
   "outputs": [
    {
     "name": "stderr",
     "output_type": "stream",
     "text": [
      "<ipython-input-264-f8f982e4818b>:5: DeprecationWarning: find_elements_by_* commands are deprecated. Please use find_elements() instead\n",
      "  url=driver.find_elements_by_xpath(\"//li[@class='pagination-number']//a\")\n"
     ]
    }
   ],
   "source": [
    "# iterating first 3 website pages to scrape the data\n",
    "\n",
    "page_url=[]\n",
    "\n",
    "url=driver.find_elements_by_xpath(\"//li[@class='pagination-number']//a\")\n",
    "for i in url:\n",
    "    page_url.append(i.get_attribute('href'))\n",
    "page_url=page_url[0:2]"
   ]
  },
  {
   "cell_type": "code",
   "execution_count": 265,
   "id": "140cc65a",
   "metadata": {},
   "outputs": [
    {
     "name": "stderr",
     "output_type": "stream",
     "text": [
      "<ipython-input-265-fbc79941ba3e>:11: DeprecationWarning: find_elements_by_* commands are deprecated. Please use find_elements() instead\n",
      "  titles_brand=driver.find_elements_by_xpath(\"//h3[@class='product-brand']\")\n",
      "<ipython-input-265-fbc79941ba3e>:15: DeprecationWarning: find_elements_by_* commands are deprecated. Please use find_elements() instead\n",
      "  titles_Description=driver.find_elements_by_xpath(\"//h4[@class='product-product']\")\n",
      "<ipython-input-265-fbc79941ba3e>:19: DeprecationWarning: find_elements_by_* commands are deprecated. Please use find_elements() instead\n",
      "  titles_Price=driver.find_elements_by_xpath(\"//div[@class='product-price']\")\n"
     ]
    }
   ],
   "source": [
    "# creating empty list to scraping data into them\n",
    "\n",
    "brand=[]\n",
    "Description=[]\n",
    "Price=[]\n",
    "\n",
    "# extracting all the tags\n",
    "\n",
    "for i in page_url:\n",
    "    driver.get(i)\n",
    "    titles_brand=driver.find_elements_by_xpath(\"//h3[@class='product-brand']\")\n",
    "    for i in titles_brand:\n",
    "        brand.append(i.text)\n",
    "    \n",
    "    titles_Description=driver.find_elements_by_xpath(\"//h4[@class='product-product']\")\n",
    "    for i in titles_Description:\n",
    "        Description.append(i.text)\n",
    "        \n",
    "    titles_Price=driver.find_elements_by_xpath(\"//div[@class='product-price']\")\n",
    "    for i in titles_Price:\n",
    "        Price.append(i.text)"
   ]
  },
  {
   "cell_type": "code",
   "execution_count": 266,
   "id": "4bfff2b1",
   "metadata": {
    "scrolled": true
   },
   "outputs": [
    {
     "name": "stdout",
     "output_type": "stream",
     "text": [
      "The data for the first 100 sneakers listings on myntra.com:\n",
      "\n"
     ]
    },
    {
     "data": {
      "text/html": [
       "<div>\n",
       "<style scoped>\n",
       "    .dataframe tbody tr th:only-of-type {\n",
       "        vertical-align: middle;\n",
       "    }\n",
       "\n",
       "    .dataframe tbody tr th {\n",
       "        vertical-align: top;\n",
       "    }\n",
       "\n",
       "    .dataframe thead th {\n",
       "        text-align: right;\n",
       "    }\n",
       "</style>\n",
       "<table border=\"1\" class=\"dataframe\">\n",
       "  <thead>\n",
       "    <tr style=\"text-align: right;\">\n",
       "      <th></th>\n",
       "      <th>Brand</th>\n",
       "      <th>Shoe Description</th>\n",
       "      <th>Price</th>\n",
       "    </tr>\n",
       "  </thead>\n",
       "  <tbody>\n",
       "    <tr>\n",
       "      <th>0</th>\n",
       "      <td>Saint G</td>\n",
       "      <td>Women Leather Heeled Boots</td>\n",
       "      <td>Rs. 12510Rs. 13900(Rs. 1390 OFF)</td>\n",
       "    </tr>\n",
       "    <tr>\n",
       "      <th>1</th>\n",
       "      <td>Tommy Hilfiger</td>\n",
       "      <td>Women Leather Sneakers</td>\n",
       "      <td>Rs. 7219Rs. 7599(5% OFF)</td>\n",
       "    </tr>\n",
       "    <tr>\n",
       "      <th>2</th>\n",
       "      <td>ROSSO BRUNELLO</td>\n",
       "      <td>Leather High-Top Block Heeled Boots</td>\n",
       "      <td>Rs. 13999</td>\n",
       "    </tr>\n",
       "    <tr>\n",
       "      <th>3</th>\n",
       "      <td>Saint G</td>\n",
       "      <td>Textured Leather Block Heeled Boots</td>\n",
       "      <td>Rs. 10500Rs. 10900(Rs. 400 OFF)</td>\n",
       "    </tr>\n",
       "    <tr>\n",
       "      <th>4</th>\n",
       "      <td>ASICS</td>\n",
       "      <td>Women Running Shoes</td>\n",
       "      <td>Rs. 8999</td>\n",
       "    </tr>\n",
       "    <tr>\n",
       "      <th>...</th>\n",
       "      <td>...</td>\n",
       "      <td>...</td>\n",
       "      <td>...</td>\n",
       "    </tr>\n",
       "    <tr>\n",
       "      <th>95</th>\n",
       "      <td>Regal</td>\n",
       "      <td>Perforated Leather Loafers</td>\n",
       "      <td>Rs. 7641Rs. 8990(15% OFF)</td>\n",
       "    </tr>\n",
       "    <tr>\n",
       "      <th>96</th>\n",
       "      <td>Bugatti</td>\n",
       "      <td>Men Nubuck Sneakers</td>\n",
       "      <td>Rs. 7999</td>\n",
       "    </tr>\n",
       "    <tr>\n",
       "      <th>97</th>\n",
       "      <td>ASICS</td>\n",
       "      <td>Women Woven Design PU Sneakers</td>\n",
       "      <td>Rs. 13999</td>\n",
       "    </tr>\n",
       "    <tr>\n",
       "      <th>98</th>\n",
       "      <td>ALDO</td>\n",
       "      <td>Women Sneakers</td>\n",
       "      <td>Rs. 12999</td>\n",
       "    </tr>\n",
       "    <tr>\n",
       "      <th>99</th>\n",
       "      <td>Birkenstock</td>\n",
       "      <td>Men Milton Black Casual Shoes</td>\n",
       "      <td>Rs. 12990</td>\n",
       "    </tr>\n",
       "  </tbody>\n",
       "</table>\n",
       "<p>100 rows × 3 columns</p>\n",
       "</div>"
      ],
      "text/plain": [
       "             Brand                     Shoe Description  \\\n",
       "0          Saint G           Women Leather Heeled Boots   \n",
       "1   Tommy Hilfiger               Women Leather Sneakers   \n",
       "2   ROSSO BRUNELLO  Leather High-Top Block Heeled Boots   \n",
       "3          Saint G  Textured Leather Block Heeled Boots   \n",
       "4            ASICS                  Women Running Shoes   \n",
       "..             ...                                  ...   \n",
       "95           Regal           Perforated Leather Loafers   \n",
       "96         Bugatti                  Men Nubuck Sneakers   \n",
       "97           ASICS       Women Woven Design PU Sneakers   \n",
       "98            ALDO                       Women Sneakers   \n",
       "99     Birkenstock        Men Milton Black Casual Shoes   \n",
       "\n",
       "                               Price  \n",
       "0   Rs. 12510Rs. 13900(Rs. 1390 OFF)  \n",
       "1           Rs. 7219Rs. 7599(5% OFF)  \n",
       "2                          Rs. 13999  \n",
       "3    Rs. 10500Rs. 10900(Rs. 400 OFF)  \n",
       "4                           Rs. 8999  \n",
       "..                               ...  \n",
       "95         Rs. 7641Rs. 8990(15% OFF)  \n",
       "96                          Rs. 7999  \n",
       "97                         Rs. 13999  \n",
       "98                         Rs. 12999  \n",
       "99                         Rs. 12990  \n",
       "\n",
       "[100 rows x 3 columns]"
      ]
     },
     "execution_count": 266,
     "metadata": {},
     "output_type": "execute_result"
    }
   ],
   "source": [
    "# creating dataframe for the first 100 sneakers listings on myntra.com:\n",
    "\n",
    "myntra =pd.DataFrame({})\n",
    "myntra['Brand']=brand[0:100]\n",
    "myntra['Shoe Description']=Description[0:100]\n",
    "myntra['Price']=Price[0:100]\n",
    "\n",
    "print(\"The data for the first 100 sneakers listings on myntra.com:\\n\")\n",
    "myntra"
   ]
  },
  {
   "cell_type": "code",
   "execution_count": 267,
   "id": "4e201dce",
   "metadata": {},
   "outputs": [],
   "source": [
    "#close the driver\n",
    "driver.close()"
   ]
  },
  {
   "cell_type": "markdown",
   "id": "b07fb6c3",
   "metadata": {},
   "source": [
    "## Q8: Go to webpage ![ https://www.amazon.in/](https://cdn.iconscout.com/icon/free/png-256/amazon-29-226581.png)\n",
    "#### Enter “Laptop” in the search field and then click the search icon. \n",
    "#### Then set CPU Type filter to “Intel Core i7” and “Intel Core i9” After setting the filters scrape first 10 laptops data. You have to scrape 3 attributes for each laptop: \n",
    "#### 1. Title \n",
    "#### 2. Ratings \n",
    "#### 3. Price\n",
    "##### Note: All the steps required during scraping should be done through code only and not manuall"
   ]
  },
  {
   "cell_type": "code",
   "execution_count": 268,
   "id": "6edb21de",
   "metadata": {
    "scrolled": false
   },
   "outputs": [
    {
     "name": "stderr",
     "output_type": "stream",
     "text": [
      "<ipython-input-268-c210bd49750c>:2: DeprecationWarning: executable_path has been deprecated, please pass in a Service object\n",
      "  driver = webdriver.Chrome(r\"C:/Users/DELL/Downloads/chromedriver_win32/chromedriver.exe\")\n"
     ]
    }
   ],
   "source": [
    "# connect to webdriver\n",
    "driver = webdriver.Chrome(r\"C:/Users/DELL/Downloads/chromedriver_win32/chromedriver.exe\")\n",
    "\n",
    "# get webpage\n",
    "driver.get(\"https://www.amazon.in/\")"
   ]
  },
  {
   "cell_type": "code",
   "execution_count": 269,
   "id": "b9b8402c",
   "metadata": {},
   "outputs": [
    {
     "name": "stderr",
     "output_type": "stream",
     "text": [
      "<ipython-input-269-ebac3462dbb0>:2: DeprecationWarning: find_element_by_* commands are deprecated. Please use find_element() instead\n",
      "  search_product = driver.find_element_by_xpath(\"//div[@class='nav-search-field ']/input\")\n",
      "<ipython-input-269-ebac3462dbb0>:6: DeprecationWarning: find_element_by_* commands are deprecated. Please use find_element() instead\n",
      "  search_btn = driver.find_element_by_xpath(\"//div[@class='nav-search-submit nav-sprite']\")\n"
     ]
    }
   ],
   "source": [
    "# enter “laptop” in the search field.\n",
    "search_product = driver.find_element_by_xpath(\"//div[@class='nav-search-field ']/input\")\n",
    "search_product.send_keys(\"laptop\")\n",
    "\n",
    "# click the search button\n",
    "search_btn = driver.find_element_by_xpath(\"//div[@class='nav-search-submit nav-sprite']\")\n",
    "search_btn.click()"
   ]
  },
  {
   "cell_type": "code",
   "execution_count": 270,
   "id": "816e8334",
   "metadata": {
    "scrolled": true
   },
   "outputs": [
    {
     "name": "stderr",
     "output_type": "stream",
     "text": [
      "<ipython-input-270-2ebaccd7cae1>:4: DeprecationWarning: find_elements_by_* commands are deprecated. Please use find_elements() instead\n",
      "  i7_clk=driver.find_elements_by_xpath(\"//span[@class='a-size-base a-color-base']\")\n"
     ]
    }
   ],
   "source": [
    "# apply  CPU Type filter to “Intel Core i7” and “Intel Core i9” by checking the respective boxe\n",
    "\n",
    "# applying CPU Type filter to “Intel Core i7” filter by checking the respective box\n",
    "i7_clk=driver.find_elements_by_xpath(\"//span[@class='a-size-base a-color-base']\")\n",
    "for i in i7_clk:\n",
    "    if i.text == 'Intel Core i7':   \n",
    "        i.click() # Checking the checkbox to apply filter on the laptop\n",
    "        break  "
   ]
  },
  {
   "cell_type": "code",
   "execution_count": 271,
   "id": "822efeab",
   "metadata": {
    "scrolled": true
   },
   "outputs": [
    {
     "name": "stderr",
     "output_type": "stream",
     "text": [
      "<ipython-input-271-556701ca5712>:2: DeprecationWarning: find_elements_by_* commands are deprecated. Please use find_elements() instead\n",
      "  i9_clk=driver.find_elements_by_xpath(\"//span[@class='a-size-base a-color-base']\")\n"
     ]
    }
   ],
   "source": [
    "# applying CPU Type filter to “Intel Core i9” filter by checking the respective box\n",
    "i9_clk=driver.find_elements_by_xpath(\"//span[@class='a-size-base a-color-base']\")\n",
    "for i in i9_clk:\n",
    "    if i.text == 'Intel Core i9':   \n",
    "        i.click() # Checking the checkbox to apply filter on the laptop\n",
    "        break  "
   ]
  },
  {
   "cell_type": "code",
   "execution_count": 272,
   "id": "5bdd1317",
   "metadata": {},
   "outputs": [],
   "source": [
    "# specifying the url of the webpage to be scraped\n",
    "url = \"https://www.amazon.in/s?k=laptop&rh=n%3A1375424031%2Cp_n_feature_thirteen_browse-bin%3A12598163031&dc&qid=1639316013&rnid=12598141031&ref=sr_nr_p_n_feature_thirteen_browse-bin_12\"\n",
    "\n",
    "# open the webpage through our web driver\n",
    "driver.get(url)"
   ]
  },
  {
   "cell_type": "code",
   "execution_count": 273,
   "id": "f6e9303c",
   "metadata": {
    "scrolled": true
   },
   "outputs": [
    {
     "name": "stderr",
     "output_type": "stream",
     "text": [
      "<ipython-input-273-b7cea337bc2a>:9: DeprecationWarning: find_elements_by_* commands are deprecated. Please use find_elements() instead\n",
      "  titles=driver.find_elements_by_xpath(\"//h2[@class='a-size-mini a-spacing-none a-color-base s-line-clamp-2']\")\n",
      "<ipython-input-273-b7cea337bc2a>:13: DeprecationWarning: find_elements_by_* commands are deprecated. Please use find_elements() instead\n",
      "  titles_rat=driver.find_elements_by_xpath(\"//div[@class='a-row a-size-small']/span\")\n",
      "<ipython-input-273-b7cea337bc2a>:17: DeprecationWarning: find_elements_by_* commands are deprecated. Please use find_elements() instead\n",
      "  titles_Price=driver.find_elements_by_xpath(\"//span[@class='a-price']\")\n"
     ]
    }
   ],
   "source": [
    "# creating empty list to scraping data into them\n",
    "\n",
    "Title=[]\n",
    "Rating=[]\n",
    "Price=[]\n",
    "\n",
    "# extracting all the tags\n",
    "\n",
    "titles=driver.find_elements_by_xpath(\"//h2[@class='a-size-mini a-spacing-none a-color-base s-line-clamp-2']\")\n",
    "for i in titles:\n",
    "    Title.append(i.text)\n",
    "    \n",
    "titles_rat=driver.find_elements_by_xpath(\"//div[@class='a-row a-size-small']/span\")\n",
    "for i in titles_rat:\n",
    "    Rating.append(i.get_attribute(\"aria-label\"))\n",
    "        \n",
    "titles_Price=driver.find_elements_by_xpath(\"//span[@class='a-price']\")\n",
    "for i in titles_Price:\n",
    "    Price.append(i.text[1:])\n",
    "    "
   ]
  },
  {
   "cell_type": "code",
   "execution_count": 274,
   "id": "bced5c66",
   "metadata": {},
   "outputs": [],
   "source": [
    "# extratcing ratings from the unorganised rating tag\n",
    "\n",
    "rating=[]\n",
    "for i in range(0,len(Rating)):\n",
    "    if i == 0 or  i/2 == i//2:\n",
    "        rating.append(Rating[i][0:3])\n",
    "        "
   ]
  },
  {
   "cell_type": "code",
   "execution_count": 275,
   "id": "9a5fe741",
   "metadata": {
    "scrolled": true
   },
   "outputs": [
    {
     "name": "stdout",
     "output_type": "stream",
     "text": [
      "The data for the first 10 laptops data on amazon.com:\n",
      "\n"
     ]
    },
    {
     "data": {
      "text/html": [
       "<div>\n",
       "<style scoped>\n",
       "    .dataframe tbody tr th:only-of-type {\n",
       "        vertical-align: middle;\n",
       "    }\n",
       "\n",
       "    .dataframe tbody tr th {\n",
       "        vertical-align: top;\n",
       "    }\n",
       "\n",
       "    .dataframe thead th {\n",
       "        text-align: right;\n",
       "    }\n",
       "</style>\n",
       "<table border=\"1\" class=\"dataframe\">\n",
       "  <thead>\n",
       "    <tr style=\"text-align: right;\">\n",
       "      <th></th>\n",
       "      <th>Title</th>\n",
       "      <th>Rating</th>\n",
       "      <th>Price</th>\n",
       "    </tr>\n",
       "  </thead>\n",
       "  <tbody>\n",
       "    <tr>\n",
       "      <th>0</th>\n",
       "      <td>Acer Nitro 5 AN515-57 Gaming Laptop | Intel Co...</td>\n",
       "      <td>4.0</td>\n",
       "      <td>89,999</td>\n",
       "    </tr>\n",
       "    <tr>\n",
       "      <th>1</th>\n",
       "      <td>Lenovo ThinkBook 13s Intel 11th Gen Core i7 13...</td>\n",
       "      <td>4.3</td>\n",
       "      <td>89,990</td>\n",
       "    </tr>\n",
       "    <tr>\n",
       "      <th>2</th>\n",
       "      <td>Mi Notebook Horizon Edition 14 Intel Core i7-1...</td>\n",
       "      <td>4.2</td>\n",
       "      <td>54,990</td>\n",
       "    </tr>\n",
       "    <tr>\n",
       "      <th>3</th>\n",
       "      <td>Lenovo ThinkBook 15 Intel 11th Gen Core i7 15....</td>\n",
       "      <td>4.3</td>\n",
       "      <td>85,990</td>\n",
       "    </tr>\n",
       "    <tr>\n",
       "      <th>4</th>\n",
       "      <td>HP Pavilion (2021) Intel 11th Gen Core i7 14 i...</td>\n",
       "      <td>4.3</td>\n",
       "      <td>84,990</td>\n",
       "    </tr>\n",
       "    <tr>\n",
       "      <th>5</th>\n",
       "      <td>ASUS TUF Dash F15 (2021) 15.6-inch (39.62 cms)...</td>\n",
       "      <td>4.4</td>\n",
       "      <td>1,09,990</td>\n",
       "    </tr>\n",
       "    <tr>\n",
       "      <th>6</th>\n",
       "      <td>Mi Notebook Pro QHD+ IPS Anti Glare Display In...</td>\n",
       "      <td>4.3</td>\n",
       "      <td>72,999</td>\n",
       "    </tr>\n",
       "    <tr>\n",
       "      <th>7</th>\n",
       "      <td>HP Pavilion 13, 11th Gen Intel Core i7, 13.3-i...</td>\n",
       "      <td>4.6</td>\n",
       "      <td>87,990</td>\n",
       "    </tr>\n",
       "    <tr>\n",
       "      <th>8</th>\n",
       "      <td>Dell 15 (2021) i7-10870H Gaming Laptop, 16GB D...</td>\n",
       "      <td>3.6</td>\n",
       "      <td>95,289</td>\n",
       "    </tr>\n",
       "    <tr>\n",
       "      <th>9</th>\n",
       "      <td>LG Gram 17-inches Ultra-Light Intel Evo 11th G...</td>\n",
       "      <td>4.5</td>\n",
       "      <td>98,999</td>\n",
       "    </tr>\n",
       "  </tbody>\n",
       "</table>\n",
       "</div>"
      ],
      "text/plain": [
       "                                               Title Rating     Price\n",
       "0  Acer Nitro 5 AN515-57 Gaming Laptop | Intel Co...    4.0    89,999\n",
       "1  Lenovo ThinkBook 13s Intel 11th Gen Core i7 13...    4.3    89,990\n",
       "2  Mi Notebook Horizon Edition 14 Intel Core i7-1...    4.2    54,990\n",
       "3  Lenovo ThinkBook 15 Intel 11th Gen Core i7 15....    4.3    85,990\n",
       "4  HP Pavilion (2021) Intel 11th Gen Core i7 14 i...    4.3    84,990\n",
       "5  ASUS TUF Dash F15 (2021) 15.6-inch (39.62 cms)...    4.4  1,09,990\n",
       "6  Mi Notebook Pro QHD+ IPS Anti Glare Display In...    4.3    72,999\n",
       "7  HP Pavilion 13, 11th Gen Intel Core i7, 13.3-i...    4.6    87,990\n",
       "8  Dell 15 (2021) i7-10870H Gaming Laptop, 16GB D...    3.6    95,289\n",
       "9  LG Gram 17-inches Ultra-Light Intel Evo 11th G...    4.5    98,999"
      ]
     },
     "execution_count": 275,
     "metadata": {},
     "output_type": "execute_result"
    }
   ],
   "source": [
    "# creating dataframe for the first 10 laptops data on amazon.com:\n",
    "\n",
    "amazon =pd.DataFrame({})\n",
    "amazon['Title']=Title[0:10]\n",
    "amazon['Rating']=rating[0:10]\n",
    "amazon['Price']=Price[0:10]\n",
    "\n",
    "print(\"The data for the first 10 laptops data on amazon.com:\\n\")\n",
    "amazon"
   ]
  },
  {
   "cell_type": "code",
   "execution_count": 276,
   "id": "cd1060ce",
   "metadata": {},
   "outputs": [],
   "source": [
    "#close the driver\n",
    "driver.close()"
   ]
  },
  {
   "cell_type": "markdown",
   "id": "7194f421",
   "metadata": {},
   "source": [
    "## Q9: Write a python program to scrape data for first 10 job results for Data Scientist Designation in Noida location. You have to scrape company name, No. of days ago when job was posted, Rating of the company. \n",
    "#### This task will be done in following steps: \n",
    "#### 1. First get the webpage https://www.ambitionbox.com/\n",
    "#### 2. Click on the Job option\n",
    "#### 3. After reaching to the next webpage, In place of “Search by Designations, Companies, Skills” enter “Data Scientist” and click on search button. \n",
    "#### 4. You will reach to the following web page click on location and in place of “Search location” enter “Noida” and select location “Noida”. \n",
    "##### 5. Then scrape the data for the first 10 jobs results you get on the above shown page. \n",
    "#### 6. Finally create a dataframe of the scraped data. \n",
    "#### Note: All the steps required during scraping should be done through code only and not manually."
   ]
  },
  {
   "cell_type": "code",
   "execution_count": 277,
   "id": "ac50c2b7",
   "metadata": {
    "scrolled": true
   },
   "outputs": [
    {
     "name": "stderr",
     "output_type": "stream",
     "text": [
      "<ipython-input-277-0332561c3a91>:2: DeprecationWarning: executable_path has been deprecated, please pass in a Service object\n",
      "  driver = webdriver.Chrome(r\"C:/Users/DELL/Downloads/chromedriver_win32/chromedriver.exe\")\n"
     ]
    }
   ],
   "source": [
    "# connect to webdriver\n",
    "driver = webdriver.Chrome(r\"C:/Users/DELL/Downloads/chromedriver_win32/chromedriver.exe\")\n",
    "\n",
    "# get webpage\n",
    "driver.get(\" https://www.ambitionbox.com//\")"
   ]
  },
  {
   "cell_type": "code",
   "execution_count": 278,
   "id": "ba379619",
   "metadata": {
    "scrolled": true
   },
   "outputs": [
    {
     "name": "stderr",
     "output_type": "stream",
     "text": [
      "<ipython-input-278-fe0b672c7a0c>:2: DeprecationWarning: find_element_by_* commands are deprecated. Please use find_element() instead\n",
      "  cl_job = driver.find_element_by_xpath(\"//a[@class='link jobs']\")\n"
     ]
    }
   ],
   "source": [
    "# click the \"Jobs\" webpage\n",
    "cl_job = driver.find_element_by_xpath(\"//a[@class='link jobs']\")\n",
    "cl_job.click()"
   ]
  },
  {
   "cell_type": "code",
   "execution_count": 279,
   "id": "63bd9546",
   "metadata": {
    "scrolled": true
   },
   "outputs": [
    {
     "name": "stderr",
     "output_type": "stream",
     "text": [
      "<ipython-input-279-876819e2d806>:3: DeprecationWarning: find_element_by_* commands are deprecated. Please use find_element() instead\n",
      "  search_title = driver.find_element_by_xpath(\"//span[@class='twitter-typeahead']/input\")\n",
      "<ipython-input-279-876819e2d806>:7: DeprecationWarning: find_element_by_* commands are deprecated. Please use find_element() instead\n",
      "  search_btn = driver.find_element_by_xpath(\"//button[@class='ab_btn search-btn round']\")\n"
     ]
    }
   ],
   "source": [
    "#In place of “Search by Designations, Companies, Skills” enter “Data Scientist” \n",
    "\n",
    "search_title = driver.find_element_by_xpath(\"//span[@class='twitter-typeahead']/input\")\n",
    "search_title.send_keys(\"Data Scientist\")\n",
    "\n",
    "#click on search button.\n",
    "search_btn = driver.find_element_by_xpath(\"//button[@class='ab_btn search-btn round']\")\n",
    "search_btn.click()"
   ]
  },
  {
   "cell_type": "code",
   "execution_count": 280,
   "id": "9f2f47b1",
   "metadata": {
    "scrolled": false
   },
   "outputs": [
    {
     "name": "stderr",
     "output_type": "stream",
     "text": [
      "<ipython-input-280-6868a65195eb>:3: DeprecationWarning: find_element_by_* commands are deprecated. Please use find_element() instead\n",
      "  cl_loc = driver.find_element_by_xpath(\"//div[@class='show-flex']/div[2]\") # Location dropdown\n",
      "<ipython-input-280-6868a65195eb>:5: DeprecationWarning: find_element_by_* commands are deprecated. Please use find_element() instead\n",
      "  driver.find_element_by_id(\"location_Noida\").click() # Select Noida\n"
     ]
    }
   ],
   "source": [
    "#click on location and in place of “Search location” enter “Noida” and select location “Noida”.\n",
    "\n",
    "cl_loc = driver.find_element_by_xpath(\"//div[@class='show-flex']/div[2]\") # Location dropdown\n",
    "cl_loc.click()    \n",
    "driver.find_element_by_id(\"location_Noida\").click() # Select Noida"
   ]
  },
  {
   "cell_type": "code",
   "execution_count": 281,
   "id": "7979d77c",
   "metadata": {
    "scrolled": false
   },
   "outputs": [
    {
     "name": "stderr",
     "output_type": "stream",
     "text": [
      "<ipython-input-281-6518c2ac8fbb>:10: DeprecationWarning: find_elements_by_* commands are deprecated. Please use find_elements() instead\n",
      "  company=driver.find_elements_by_xpath(\"//div[@class='company-info']\")\n",
      "<ipython-input-281-6518c2ac8fbb>:15: DeprecationWarning: find_elements_by_* commands are deprecated. Please use find_elements() instead\n",
      "  posted=driver.find_elements_by_xpath(\"//span[@class='body-small-l']\")\n"
     ]
    }
   ],
   "source": [
    "#scraping company name, No. of days ago when job was posted, Rating of the company\n",
    "\n",
    "#creating empty list\n",
    "company_name = []\n",
    "job_posted = []\n",
    "rating = []\n",
    "\n",
    "#Scraing all tags\n",
    "\n",
    "company=driver.find_elements_by_xpath(\"//div[@class='company-info']\")\n",
    "for i in company:\n",
    "    company_name.append(i.text.split(\"\\n\")[0])\n",
    "    rating.append(i.text.split(\"\\n\")[1])\n",
    "    \n",
    "posted=driver.find_elements_by_xpath(\"//span[@class='body-small-l']\")\n",
    "for i in posted:\n",
    "    job_posted.append(i.text)\n",
    "    \n",
    "# extratcing job posted days from the unorganised job posted tag\n",
    "\n",
    "posted=[]\n",
    "for i in range(0,len(job_posted)):\n",
    "    if i == 0 or  i/2 == i//2:\n",
    "        posted.append(job_posted[i])"
   ]
  },
  {
   "cell_type": "code",
   "execution_count": 282,
   "id": "43c4daa4",
   "metadata": {
    "scrolled": true
   },
   "outputs": [
    {
     "name": "stdout",
     "output_type": "stream",
     "text": [
      "The data for the first 10 jobs results in ambitionbox.com :\n",
      " \n"
     ]
    },
    {
     "data": {
      "text/html": [
       "<div>\n",
       "<style scoped>\n",
       "    .dataframe tbody tr th:only-of-type {\n",
       "        vertical-align: middle;\n",
       "    }\n",
       "\n",
       "    .dataframe tbody tr th {\n",
       "        vertical-align: top;\n",
       "    }\n",
       "\n",
       "    .dataframe thead th {\n",
       "        text-align: right;\n",
       "    }\n",
       "</style>\n",
       "<table border=\"1\" class=\"dataframe\">\n",
       "  <thead>\n",
       "    <tr style=\"text-align: right;\">\n",
       "      <th></th>\n",
       "      <th>Company_name</th>\n",
       "      <th>Job_Posted</th>\n",
       "      <th>Rating</th>\n",
       "    </tr>\n",
       "  </thead>\n",
       "  <tbody>\n",
       "    <tr>\n",
       "      <th>0</th>\n",
       "      <td>LG Electronics India Pvt. Ltd.</td>\n",
       "      <td>3d ago</td>\n",
       "      <td>4.1</td>\n",
       "    </tr>\n",
       "    <tr>\n",
       "      <th>1</th>\n",
       "      <td>GENPACT India Private Limited</td>\n",
       "      <td>10d ago</td>\n",
       "      <td>4.0</td>\n",
       "    </tr>\n",
       "    <tr>\n",
       "      <th>2</th>\n",
       "      <td>GENPACT India Private Limited</td>\n",
       "      <td>10d ago</td>\n",
       "      <td>4.0</td>\n",
       "    </tr>\n",
       "    <tr>\n",
       "      <th>3</th>\n",
       "      <td>NTT Data Business Solutions Pvt Ltd</td>\n",
       "      <td>11d ago</td>\n",
       "      <td>3.8</td>\n",
       "    </tr>\n",
       "    <tr>\n",
       "      <th>4</th>\n",
       "      <td>GENPACT India Private Limited</td>\n",
       "      <td>12d ago</td>\n",
       "      <td>4.0</td>\n",
       "    </tr>\n",
       "    <tr>\n",
       "      <th>5</th>\n",
       "      <td>GI Group</td>\n",
       "      <td>4d ago</td>\n",
       "      <td>4.0</td>\n",
       "    </tr>\n",
       "    <tr>\n",
       "      <th>6</th>\n",
       "      <td>GI Group</td>\n",
       "      <td>4d ago</td>\n",
       "      <td>4.0</td>\n",
       "    </tr>\n",
       "    <tr>\n",
       "      <th>7</th>\n",
       "      <td>GI Group</td>\n",
       "      <td>8d ago</td>\n",
       "      <td>4.0</td>\n",
       "    </tr>\n",
       "    <tr>\n",
       "      <th>8</th>\n",
       "      <td>Steria India Ltd</td>\n",
       "      <td>1mon ago</td>\n",
       "      <td>4.1</td>\n",
       "    </tr>\n",
       "    <tr>\n",
       "      <th>9</th>\n",
       "      <td>Zyoin</td>\n",
       "      <td>5d ago</td>\n",
       "      <td>4.1</td>\n",
       "    </tr>\n",
       "  </tbody>\n",
       "</table>\n",
       "</div>"
      ],
      "text/plain": [
       "                          Company_name Job_Posted Rating\n",
       "0       LG Electronics India Pvt. Ltd.     3d ago    4.1\n",
       "1        GENPACT India Private Limited    10d ago    4.0\n",
       "2        GENPACT India Private Limited    10d ago    4.0\n",
       "3  NTT Data Business Solutions Pvt Ltd    11d ago    3.8\n",
       "4        GENPACT India Private Limited    12d ago    4.0\n",
       "5                             GI Group     4d ago    4.0\n",
       "6                             GI Group     4d ago    4.0\n",
       "7                             GI Group     8d ago    4.0\n",
       "8                     Steria India Ltd   1mon ago    4.1\n",
       "9                                Zyoin     5d ago    4.1"
      ]
     },
     "execution_count": 282,
     "metadata": {},
     "output_type": "execute_result"
    }
   ],
   "source": [
    "# creating Dataframe \n",
    "\n",
    "ambition = pd.DataFrame({})\n",
    "ambition[\"Company_name\"] = company_name[1:]\n",
    "ambition[\"Job_Posted\"] = posted\n",
    "ambition[\"Rating\"] = rating[1:]\n",
    "\n",
    "print(\"The data for the first 10 jobs results in ambitionbox.com :\\n \")\n",
    "ambition"
   ]
  },
  {
   "cell_type": "markdown",
   "id": "d412095e",
   "metadata": {},
   "source": [
    "## Q10: Write a python program to scrape the salary data for Data Scientist designation. You have to scrape Company name, Number of salaries, Average salary, Min salary, Max Salary. \n",
    "#### The above task will be, done as shown in the below steps: \n",
    "#### 1. First get the webpage https://www.ambitionbox.com/\n",
    "#### 2. Click on the salaries option\n",
    "#### 3. After reaching to the following webpage, In place of “Search Job Profile” enters “Data Scientist” and then click on “Data Scientist”. \n",
    "#### 4. Scrape the data for the first 10 companies. Scrape the company name, total salary record, average salary, minimum salary, maximum salary, experience required. \n",
    "#### 5. Store the data in a dataframe. \n",
    "#### Note: All the steps required during scraping should be done through code only and not manually."
   ]
  },
  {
   "cell_type": "code",
   "execution_count": 291,
   "id": "6fbb64db",
   "metadata": {},
   "outputs": [
    {
     "name": "stderr",
     "output_type": "stream",
     "text": [
      "<ipython-input-291-0332561c3a91>:2: DeprecationWarning: executable_path has been deprecated, please pass in a Service object\n",
      "  driver = webdriver.Chrome(r\"C:/Users/DELL/Downloads/chromedriver_win32/chromedriver.exe\")\n"
     ]
    }
   ],
   "source": [
    "# connect to webdriver\n",
    "driver = webdriver.Chrome(r\"C:/Users/DELL/Downloads/chromedriver_win32/chromedriver.exe\")\n",
    "\n",
    "# get webpage\n",
    "driver.get(\" https://www.ambitionbox.com//\")"
   ]
  },
  {
   "cell_type": "code",
   "execution_count": 292,
   "id": "80bde9f6",
   "metadata": {
    "scrolled": false
   },
   "outputs": [
    {
     "name": "stderr",
     "output_type": "stream",
     "text": [
      "<ipython-input-292-6cc32887b557>:2: DeprecationWarning: find_element_by_* commands are deprecated. Please use find_element() instead\n",
      "  driver.find_element_by_xpath(\"//a[@class='link salaries']\").click() #Salaries\n"
     ]
    }
   ],
   "source": [
    "# click on Salary webpage\n",
    "driver.find_element_by_xpath(\"//a[@class='link salaries']\").click() #Salaries"
   ]
  },
  {
   "cell_type": "code",
   "execution_count": 293,
   "id": "08393027",
   "metadata": {
    "scrolled": true
   },
   "outputs": [
    {
     "name": "stderr",
     "output_type": "stream",
     "text": [
      "<ipython-input-293-f8a0e068b6b9>:2: DeprecationWarning: find_element_by_* commands are deprecated. Please use find_element() instead\n",
      "  search_job = driver.find_element_by_id(\"jobProfileSearchbox\")\n",
      "<ipython-input-293-f8a0e068b6b9>:5: DeprecationWarning: find_elements_by_* commands are deprecated. Please use find_elements() instead\n",
      "  clk=driver.find_elements_by_xpath(\"//div[@class='suggestion_wrap tt-suggestion tt-selectable']\")\n"
     ]
    }
   ],
   "source": [
    "# In place of “Search Job Profile” enters “Data Scientist” and then click on “Data Scientist”.\n",
    "search_job = driver.find_element_by_id(\"jobProfileSearchbox\")\n",
    "search_job.send_keys(\"Data Scientist\")\n",
    "\n",
    "clk=driver.find_elements_by_xpath(\"//div[@class='suggestion_wrap tt-suggestion tt-selectable']\")\n",
    "for i in clk:\n",
    "    if i.text == 'Data Scientist':   \n",
    "        i.click() # click on “Data Scientist”\n",
    "        break  "
   ]
  },
  {
   "cell_type": "code",
   "execution_count": 294,
   "id": "6974d294",
   "metadata": {
    "scrolled": true
   },
   "outputs": [
    {
     "name": "stderr",
     "output_type": "stream",
     "text": [
      "<ipython-input-294-d3184fc44bb1>:12: DeprecationWarning: find_elements_by_* commands are deprecated. Please use find_elements() instead\n",
      "  company=driver.find_elements_by_xpath(\"//div[@class='company-info']\")\n",
      "<ipython-input-294-d3184fc44bb1>:18: DeprecationWarning: find_elements_by_* commands are deprecated. Please use find_elements() instead\n",
      "  avg_salary=driver.find_elements_by_xpath(\"//div[@class='average-indicator-wrapper']\")\n",
      "<ipython-input-294-d3184fc44bb1>:22: DeprecationWarning: find_elements_by_* commands are deprecated. Please use find_elements() instead\n",
      "  salary=driver.find_elements_by_xpath(\"//div[@class='salary-values']\")\n"
     ]
    }
   ],
   "source": [
    "#scrape Company name, Number of salaries, Average salary, Min salary, Max Salary, experience required.\n",
    "\n",
    "company_name = []\n",
    "salary_record = []\n",
    "average_salary = []\n",
    "min_salary = []\n",
    "max_salary = []\n",
    "exp = []\n",
    "\n",
    "#Scraing all tags\n",
    "\n",
    "company=driver.find_elements_by_xpath(\"//div[@class='company-info']\")\n",
    "for i in company:\n",
    "    company_name.append(i.text.split(\"\\n\")[0])                              #company name\n",
    "    salary_record.append(i.text.replace(\"based on\", \" \").replace(\"salaries\",\"\").split(\"\\n\")[1:2]) #Total Salary Record\n",
    "    exp.append(i.text.replace(\"yrs exp\",\"\").replace(\"yr exp\",\"\").split(\"\\n\")[-1])                # Experience required\n",
    "    \n",
    "avg_salary=driver.find_elements_by_xpath(\"//div[@class='average-indicator-wrapper']\")\n",
    "for i in avg_salary:\n",
    "    average_salary.append(i.text.replace(\"₹\",\"\").replace(\"L\",\"\"))            # average salary\n",
    "\n",
    "salary=driver.find_elements_by_xpath(\"//div[@class='salary-values']\")\n",
    "for i in salary:\n",
    "    min_salary.append(i.text.replace(\"₹\",\"\").replace(\"L\",\"\").split(\"\\n\")[0])  # minimum salary\n",
    "    max_salary.append(i.text.replace(\"₹\",\"\").replace(\"L\",\"\").split(\"\\n\")[1])  # maximum salary\n"
   ]
  },
  {
   "cell_type": "code",
   "execution_count": 297,
   "id": "ccb95961",
   "metadata": {
    "scrolled": true
   },
   "outputs": [
    {
     "name": "stdout",
     "output_type": "stream",
     "text": [
      "The data for the first 10 Companies results in ambitionbox.com :\n",
      " \n"
     ]
    },
    {
     "data": {
      "text/html": [
       "<div>\n",
       "<style scoped>\n",
       "    .dataframe tbody tr th:only-of-type {\n",
       "        vertical-align: middle;\n",
       "    }\n",
       "\n",
       "    .dataframe tbody tr th {\n",
       "        vertical-align: top;\n",
       "    }\n",
       "\n",
       "    .dataframe thead th {\n",
       "        text-align: right;\n",
       "    }\n",
       "</style>\n",
       "<table border=\"1\" class=\"dataframe\">\n",
       "  <thead>\n",
       "    <tr style=\"text-align: right;\">\n",
       "      <th></th>\n",
       "      <th>Company_Name</th>\n",
       "      <th>Total_Salary_Record</th>\n",
       "      <th>Experience_Required</th>\n",
       "      <th>Average_Salary_L</th>\n",
       "      <th>Minimum_Salary_L</th>\n",
       "      <th>Maximum_Salary_L</th>\n",
       "    </tr>\n",
       "  </thead>\n",
       "  <tbody>\n",
       "    <tr>\n",
       "      <th>0</th>\n",
       "      <td>Tekion</td>\n",
       "      <td>[  10 ]</td>\n",
       "      <td>4</td>\n",
       "      <td>23.3</td>\n",
       "      <td>14.0</td>\n",
       "      <td>32.0</td>\n",
       "    </tr>\n",
       "    <tr>\n",
       "      <th>1</th>\n",
       "      <td>Microsoft Corporation</td>\n",
       "      <td>[  218 ]</td>\n",
       "      <td>1-4</td>\n",
       "      <td>22.4</td>\n",
       "      <td>12.0</td>\n",
       "      <td>45.0</td>\n",
       "    </tr>\n",
       "    <tr>\n",
       "      <th>2</th>\n",
       "      <td>Goldman Sachs</td>\n",
       "      <td>[  11 ]</td>\n",
       "      <td>2</td>\n",
       "      <td>21.9</td>\n",
       "      <td>16.0</td>\n",
       "      <td>30.0</td>\n",
       "    </tr>\n",
       "    <tr>\n",
       "      <th>3</th>\n",
       "      <td>Flipkart</td>\n",
       "      <td>[  53 ]</td>\n",
       "      <td>1-4</td>\n",
       "      <td>20.6</td>\n",
       "      <td>7.0</td>\n",
       "      <td>30.0</td>\n",
       "    </tr>\n",
       "    <tr>\n",
       "      <th>4</th>\n",
       "      <td>Amazon</td>\n",
       "      <td>[  80 ]</td>\n",
       "      <td>1-4</td>\n",
       "      <td>19.1</td>\n",
       "      <td>8.0</td>\n",
       "      <td>40.0</td>\n",
       "    </tr>\n",
       "    <tr>\n",
       "      <th>5</th>\n",
       "      <td>Arcesium</td>\n",
       "      <td>[  35 ]</td>\n",
       "      <td>1</td>\n",
       "      <td>18.4</td>\n",
       "      <td>12.0</td>\n",
       "      <td>30.0</td>\n",
       "    </tr>\n",
       "    <tr>\n",
       "      <th>6</th>\n",
       "      <td>Servicenow Software Development India</td>\n",
       "      <td>[  27 ]</td>\n",
       "      <td>2-3</td>\n",
       "      <td>18.2</td>\n",
       "      <td>12.0</td>\n",
       "      <td>25.0</td>\n",
       "    </tr>\n",
       "    <tr>\n",
       "      <th>7</th>\n",
       "      <td>ServiceNow</td>\n",
       "      <td>[  15 ]</td>\n",
       "      <td>3</td>\n",
       "      <td>18.2</td>\n",
       "      <td>12.7</td>\n",
       "      <td>23.0</td>\n",
       "    </tr>\n",
       "    <tr>\n",
       "      <th>8</th>\n",
       "      <td>Walmart</td>\n",
       "      <td>[  77 ]</td>\n",
       "      <td>1-4</td>\n",
       "      <td>17.9</td>\n",
       "      <td>10.0</td>\n",
       "      <td>32.0</td>\n",
       "    </tr>\n",
       "    <tr>\n",
       "      <th>9</th>\n",
       "      <td>PayPal</td>\n",
       "      <td>[  12 ]</td>\n",
       "      <td>1</td>\n",
       "      <td>17.6</td>\n",
       "      <td>12.0</td>\n",
       "      <td>23.0</td>\n",
       "    </tr>\n",
       "  </tbody>\n",
       "</table>\n",
       "</div>"
      ],
      "text/plain": [
       "                            Company_Name Total_Salary_Record  \\\n",
       "0                                 Tekion             [  10 ]   \n",
       "1                  Microsoft Corporation            [  218 ]   \n",
       "2                          Goldman Sachs             [  11 ]   \n",
       "3                               Flipkart             [  53 ]   \n",
       "4                                 Amazon             [  80 ]   \n",
       "5                               Arcesium             [  35 ]   \n",
       "6  Servicenow Software Development India             [  27 ]   \n",
       "7                             ServiceNow             [  15 ]   \n",
       "8                                Walmart             [  77 ]   \n",
       "9                                 PayPal             [  12 ]   \n",
       "\n",
       "  Experience_Required Average_Salary_L Minimum_Salary_L Maximum_Salary_L  \n",
       "0                  4              23.3             14.0             32.0  \n",
       "1                1-4              22.4             12.0             45.0  \n",
       "2                  2              21.9             16.0             30.0  \n",
       "3                1-4              20.6              7.0             30.0  \n",
       "4                1-4              19.1              8.0             40.0  \n",
       "5                  1              18.4             12.0             30.0  \n",
       "6                2-3              18.2             12.0             25.0  \n",
       "7                  3              18.2             12.7             23.0  \n",
       "8                1-4              17.9             10.0             32.0  \n",
       "9                  1              17.6             12.0             23.0  "
      ]
     },
     "execution_count": 297,
     "metadata": {},
     "output_type": "execute_result"
    }
   ],
   "source": [
    "# creating Dataframe for the company name, total salary record, average salary, minimum salary, maximum salary, experience required.\n",
    "\n",
    "ambition =pd.DataFrame({})\n",
    "ambition[\"Company_Name\"] = company_name[:10]\n",
    "ambition[\"Total_Salary_Record\"] = salary_record[:10]\n",
    "ambition[\"Experience_Required\"] = exp[:10]\n",
    "ambition[\"Average_Salary_L\"] = average_salary[:10]\n",
    "ambition[\"Minimum_Salary_L\"] = min_salary\n",
    "ambition[\"Maximum_Salary_L\"] = max_salary\n",
    "\n",
    "print(\"The data for the first 10 Companies results in ambitionbox.com :\\n \")\n",
    "ambition"
   ]
  },
  {
   "cell_type": "code",
   "execution_count": 298,
   "id": "d29cc5c2",
   "metadata": {},
   "outputs": [],
   "source": [
    "# close the driver\n",
    "driver.close()"
   ]
  }
 ],
 "metadata": {
  "kernelspec": {
   "display_name": "Python 3",
   "language": "python",
   "name": "python3"
  },
  "language_info": {
   "codemirror_mode": {
    "name": "ipython",
    "version": 3
   },
   "file_extension": ".py",
   "mimetype": "text/x-python",
   "name": "python",
   "nbconvert_exporter": "python",
   "pygments_lexer": "ipython3",
   "version": "3.8.8"
  }
 },
 "nbformat": 4,
 "nbformat_minor": 5
}
