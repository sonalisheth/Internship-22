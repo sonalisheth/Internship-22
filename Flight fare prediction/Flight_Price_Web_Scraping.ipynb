{
 "cells": [
  {
   "cell_type": "code",
   "execution_count": 1,
   "id": "bb91be3f",
   "metadata": {},
   "outputs": [
    {
     "name": "stdout",
     "output_type": "stream",
     "text": [
      "Requirement already satisfied: requests in c:\\programdata\\anaconda3\\lib\\site-packages (2.25.1)\n",
      "Collecting requests\n",
      "  Using cached requests-2.27.1-py2.py3-none-any.whl (63 kB)\n",
      "Requirement already satisfied: certifi>=2017.4.17 in c:\\programdata\\anaconda3\\lib\\site-packages (from requests) (2020.12.5)\n",
      "Requirement already satisfied: idna<4,>=2.5 in c:\\programdata\\anaconda3\\lib\\site-packages (from requests) (2.10)\n",
      "Requirement already satisfied: urllib3<1.27,>=1.21.1 in c:\\programdata\\anaconda3\\lib\\site-packages (from requests) (1.26.4)\n",
      "Requirement already satisfied: charset-normalizer~=2.0.0 in c:\\programdata\\anaconda3\\lib\\site-packages (from requests) (2.0.12)\n",
      "Installing collected packages: requests\n",
      "  Attempting uninstall: requests\n",
      "    Found existing installation: requests 2.25.1\n",
      "    Uninstalling requests-2.25.1:\n"
     ]
    },
    {
     "name": "stderr",
     "output_type": "stream",
     "text": [
      "ERROR: Could not install packages due to an OSError: [WinError 5] Access is denied: 'c:\\\\programdata\\\\anaconda3\\\\lib\\\\site-packages\\\\requests-2.25.1.dist-info\\\\direct_url.json'\n",
      "Consider using the `--user` option or check the permissions.\n",
      "\n"
     ]
    }
   ],
   "source": [
    "!pip install --upgrade requests"
   ]
  },
  {
   "cell_type": "code",
   "execution_count": 17,
   "id": "cc51344a",
   "metadata": {},
   "outputs": [],
   "source": [
    "#Importing all necessary Libraries\n",
    "import selenium\n",
    "import pandas as pd\n",
    "import numpy as np\n",
    "from selenium import webdriver\n",
    "from bs4 import BeautifulSoup\n",
    "import requests\n",
    "import time\n",
    "from selenium.common.exceptions import NoSuchElementException,ElementNotInteractableException,ElementNotVisibleException\n",
    "import re\n",
    "import warnings\n",
    "warnings.filterwarnings('ignore')"
   ]
  },
  {
   "cell_type": "code",
   "execution_count": 23,
   "id": "d759d38b",
   "metadata": {},
   "outputs": [],
   "source": [
    "# connect to webdriver\n",
    "driver = webdriver.Chrome(r\"C:\\Users\\DELL\\Downloads\\chromedriver_win32 (1)\\chromedriver.exe\")\n",
    "\n",
    "# get webpage\n",
    "driver.get(\"https://www.yatra.com/\")\n",
    "driver.maximize_window()\n",
    "\n",
    "i=0\n",
    "while(i<10):\n",
    "    driver.execute_script(\"window.scrollBy(0,100)\") # scroll down to get access to data for scraping\n",
    "    i+=1"
   ]
  },
  {
   "cell_type": "code",
   "execution_count": 24,
   "id": "9ed4b4de",
   "metadata": {},
   "outputs": [],
   "source": [
    "flturl =[] #creating an empty list which would contain all the scraped url "
   ]
  },
  {
   "cell_type": "code",
   "execution_count": 31,
   "id": "b94fc91e",
   "metadata": {},
   "outputs": [
    {
     "ename": "ElementClickInterceptedException",
     "evalue": "Message: element click intercepted: Element <li href=\"https://www.yatra.com/seo-source/top-routes-services-with-lowest-fare-date?fromCityCode=\" class=\"dest\">...</li> is not clickable at point (656, 682). Other element would receive the click: <div class=\"gdpr-headerWrapper\">...</div>\n  (Session info: chrome=99.0.4844.74)\nStacktrace:\nBacktrace:\n\tOrdinal0 [0x010D9943+2595139]\n\tOrdinal0 [0x0106C9F1+2148849]\n\tOrdinal0 [0x00F64528+1066280]\n\tOrdinal0 [0x00F97621+1275425]\n\tOrdinal0 [0x00F95657+1267287]\n\tOrdinal0 [0x00F9333B+1258299]\n\tOrdinal0 [0x00F9207D+1253501]\n\tOrdinal0 [0x00F87AB3+1211059]\n\tOrdinal0 [0x00FAB9EC+1358316]\n\tOrdinal0 [0x00F87474+1209460]\n\tOrdinal0 [0x00FABC04+1358852]\n\tOrdinal0 [0x00FBBAF2+1424114]\n\tOrdinal0 [0x00FAB806+1357830]\n\tOrdinal0 [0x00F86086+1204358]\n\tOrdinal0 [0x00F86F96+1208214]\n\tGetHandleVerifier [0x0127B232+1658114]\n\tGetHandleVerifier [0x0133312C+2411516]\n\tGetHandleVerifier [0x0116F261+560433]\n\tGetHandleVerifier [0x0116E366+556598]\n\tOrdinal0 [0x0107286B+2173035]\n\tOrdinal0 [0x010775F8+2192888]\n\tOrdinal0 [0x010776E5+2193125]\n\tOrdinal0 [0x010811FC+2232828]\n\tBaseThreadInitThunk [0x75AD6739+25]\n\tRtlGetFullPathName_UEx [0x77098E7F+1215]\n\tRtlGetFullPathName_UEx [0x77098E4D+1165]\n",
     "output_type": "error",
     "traceback": [
      "\u001b[1;31m---------------------------------------------------------------------------\u001b[0m",
      "\u001b[1;31mElementClickInterceptedException\u001b[0m          Traceback (most recent call last)",
      "\u001b[1;32m<ipython-input-31-8f90e0f11991>\u001b[0m in \u001b[0;36m<module>\u001b[1;34m\u001b[0m\n\u001b[0;32m     10\u001b[0m \u001b[1;33m\u001b[0m\u001b[0m\n\u001b[0;32m     11\u001b[0m \u001b[0mlocbtn1\u001b[0m \u001b[1;33m=\u001b[0m \u001b[0mdriver\u001b[0m\u001b[1;33m.\u001b[0m\u001b[0mfind_element_by_xpath\u001b[0m\u001b[1;33m(\u001b[0m\u001b[1;34m'/html/body/div[2]/div/section/div[2]/div[2]/ul/li[2]'\u001b[0m\u001b[1;33m)\u001b[0m\u001b[1;33m\u001b[0m\u001b[1;33m\u001b[0m\u001b[0m\n\u001b[1;32m---> 12\u001b[1;33m \u001b[0mlocbtn1\u001b[0m\u001b[1;33m.\u001b[0m\u001b[0mclick\u001b[0m\u001b[1;33m(\u001b[0m\u001b[1;33m)\u001b[0m\u001b[1;33m\u001b[0m\u001b[1;33m\u001b[0m\u001b[0m\n\u001b[0m\u001b[0;32m     13\u001b[0m \u001b[1;33m\u001b[0m\u001b[0m\n\u001b[0;32m     14\u001b[0m \u001b[1;32mfor\u001b[0m \u001b[0mu\u001b[0m \u001b[1;32min\u001b[0m \u001b[0mflturl_tag\u001b[0m\u001b[1;33m:\u001b[0m\u001b[1;33m\u001b[0m\u001b[1;33m\u001b[0m\u001b[0m\n",
      "\u001b[1;32mC:\\ProgramData\\Anaconda3\\lib\\site-packages\\selenium\\webdriver\\remote\\webelement.py\u001b[0m in \u001b[0;36mclick\u001b[1;34m(self)\u001b[0m\n\u001b[0;32m     79\u001b[0m     \u001b[1;32mdef\u001b[0m \u001b[0mclick\u001b[0m\u001b[1;33m(\u001b[0m\u001b[0mself\u001b[0m\u001b[1;33m)\u001b[0m \u001b[1;33m->\u001b[0m \u001b[1;32mNone\u001b[0m\u001b[1;33m:\u001b[0m\u001b[1;33m\u001b[0m\u001b[1;33m\u001b[0m\u001b[0m\n\u001b[0;32m     80\u001b[0m         \u001b[1;34m\"\"\"Clicks the element.\"\"\"\u001b[0m\u001b[1;33m\u001b[0m\u001b[1;33m\u001b[0m\u001b[0m\n\u001b[1;32m---> 81\u001b[1;33m         \u001b[0mself\u001b[0m\u001b[1;33m.\u001b[0m\u001b[0m_execute\u001b[0m\u001b[1;33m(\u001b[0m\u001b[0mCommand\u001b[0m\u001b[1;33m.\u001b[0m\u001b[0mCLICK_ELEMENT\u001b[0m\u001b[1;33m)\u001b[0m\u001b[1;33m\u001b[0m\u001b[1;33m\u001b[0m\u001b[0m\n\u001b[0m\u001b[0;32m     82\u001b[0m \u001b[1;33m\u001b[0m\u001b[0m\n\u001b[0;32m     83\u001b[0m     \u001b[1;32mdef\u001b[0m \u001b[0msubmit\u001b[0m\u001b[1;33m(\u001b[0m\u001b[0mself\u001b[0m\u001b[1;33m)\u001b[0m\u001b[1;33m:\u001b[0m\u001b[1;33m\u001b[0m\u001b[1;33m\u001b[0m\u001b[0m\n",
      "\u001b[1;32mC:\\ProgramData\\Anaconda3\\lib\\site-packages\\selenium\\webdriver\\remote\\webelement.py\u001b[0m in \u001b[0;36m_execute\u001b[1;34m(self, command, params)\u001b[0m\n\u001b[0;32m    708\u001b[0m             \u001b[0mparams\u001b[0m \u001b[1;33m=\u001b[0m \u001b[1;33m{\u001b[0m\u001b[1;33m}\u001b[0m\u001b[1;33m\u001b[0m\u001b[1;33m\u001b[0m\u001b[0m\n\u001b[0;32m    709\u001b[0m         \u001b[0mparams\u001b[0m\u001b[1;33m[\u001b[0m\u001b[1;34m'id'\u001b[0m\u001b[1;33m]\u001b[0m \u001b[1;33m=\u001b[0m \u001b[0mself\u001b[0m\u001b[1;33m.\u001b[0m\u001b[0m_id\u001b[0m\u001b[1;33m\u001b[0m\u001b[1;33m\u001b[0m\u001b[0m\n\u001b[1;32m--> 710\u001b[1;33m         \u001b[1;32mreturn\u001b[0m \u001b[0mself\u001b[0m\u001b[1;33m.\u001b[0m\u001b[0m_parent\u001b[0m\u001b[1;33m.\u001b[0m\u001b[0mexecute\u001b[0m\u001b[1;33m(\u001b[0m\u001b[0mcommand\u001b[0m\u001b[1;33m,\u001b[0m \u001b[0mparams\u001b[0m\u001b[1;33m)\u001b[0m\u001b[1;33m\u001b[0m\u001b[1;33m\u001b[0m\u001b[0m\n\u001b[0m\u001b[0;32m    711\u001b[0m \u001b[1;33m\u001b[0m\u001b[0m\n\u001b[0;32m    712\u001b[0m     \u001b[1;32mdef\u001b[0m \u001b[0mfind_element\u001b[0m\u001b[1;33m(\u001b[0m\u001b[0mself\u001b[0m\u001b[1;33m,\u001b[0m \u001b[0mby\u001b[0m\u001b[1;33m=\u001b[0m\u001b[0mBy\u001b[0m\u001b[1;33m.\u001b[0m\u001b[0mID\u001b[0m\u001b[1;33m,\u001b[0m \u001b[0mvalue\u001b[0m\u001b[1;33m=\u001b[0m\u001b[1;32mNone\u001b[0m\u001b[1;33m)\u001b[0m\u001b[1;33m:\u001b[0m\u001b[1;33m\u001b[0m\u001b[1;33m\u001b[0m\u001b[0m\n",
      "\u001b[1;32mC:\\ProgramData\\Anaconda3\\lib\\site-packages\\selenium\\webdriver\\remote\\webdriver.py\u001b[0m in \u001b[0;36mexecute\u001b[1;34m(self, driver_command, params)\u001b[0m\n\u001b[0;32m    422\u001b[0m         \u001b[0mresponse\u001b[0m \u001b[1;33m=\u001b[0m \u001b[0mself\u001b[0m\u001b[1;33m.\u001b[0m\u001b[0mcommand_executor\u001b[0m\u001b[1;33m.\u001b[0m\u001b[0mexecute\u001b[0m\u001b[1;33m(\u001b[0m\u001b[0mdriver_command\u001b[0m\u001b[1;33m,\u001b[0m \u001b[0mparams\u001b[0m\u001b[1;33m)\u001b[0m\u001b[1;33m\u001b[0m\u001b[1;33m\u001b[0m\u001b[0m\n\u001b[0;32m    423\u001b[0m         \u001b[1;32mif\u001b[0m \u001b[0mresponse\u001b[0m\u001b[1;33m:\u001b[0m\u001b[1;33m\u001b[0m\u001b[1;33m\u001b[0m\u001b[0m\n\u001b[1;32m--> 424\u001b[1;33m             \u001b[0mself\u001b[0m\u001b[1;33m.\u001b[0m\u001b[0merror_handler\u001b[0m\u001b[1;33m.\u001b[0m\u001b[0mcheck_response\u001b[0m\u001b[1;33m(\u001b[0m\u001b[0mresponse\u001b[0m\u001b[1;33m)\u001b[0m\u001b[1;33m\u001b[0m\u001b[1;33m\u001b[0m\u001b[0m\n\u001b[0m\u001b[0;32m    425\u001b[0m             response['value'] = self._unwrap_value(\n\u001b[0;32m    426\u001b[0m                 response.get('value', None))\n",
      "\u001b[1;32mC:\\ProgramData\\Anaconda3\\lib\\site-packages\\selenium\\webdriver\\remote\\errorhandler.py\u001b[0m in \u001b[0;36mcheck_response\u001b[1;34m(self, response)\u001b[0m\n\u001b[0;32m    245\u001b[0m                 \u001b[0malert_text\u001b[0m \u001b[1;33m=\u001b[0m \u001b[0mvalue\u001b[0m\u001b[1;33m[\u001b[0m\u001b[1;34m'alert'\u001b[0m\u001b[1;33m]\u001b[0m\u001b[1;33m.\u001b[0m\u001b[0mget\u001b[0m\u001b[1;33m(\u001b[0m\u001b[1;34m'text'\u001b[0m\u001b[1;33m)\u001b[0m\u001b[1;33m\u001b[0m\u001b[1;33m\u001b[0m\u001b[0m\n\u001b[0;32m    246\u001b[0m             \u001b[1;32mraise\u001b[0m \u001b[0mexception_class\u001b[0m\u001b[1;33m(\u001b[0m\u001b[0mmessage\u001b[0m\u001b[1;33m,\u001b[0m \u001b[0mscreen\u001b[0m\u001b[1;33m,\u001b[0m \u001b[0mstacktrace\u001b[0m\u001b[1;33m,\u001b[0m \u001b[0malert_text\u001b[0m\u001b[1;33m)\u001b[0m  \u001b[1;31m# type: ignore[call-arg]  # mypy is not smart enough here\u001b[0m\u001b[1;33m\u001b[0m\u001b[1;33m\u001b[0m\u001b[0m\n\u001b[1;32m--> 247\u001b[1;33m         \u001b[1;32mraise\u001b[0m \u001b[0mexception_class\u001b[0m\u001b[1;33m(\u001b[0m\u001b[0mmessage\u001b[0m\u001b[1;33m,\u001b[0m \u001b[0mscreen\u001b[0m\u001b[1;33m,\u001b[0m \u001b[0mstacktrace\u001b[0m\u001b[1;33m)\u001b[0m\u001b[1;33m\u001b[0m\u001b[1;33m\u001b[0m\u001b[0m\n\u001b[0m\u001b[0;32m    248\u001b[0m \u001b[1;33m\u001b[0m\u001b[0m\n\u001b[0;32m    249\u001b[0m     \u001b[1;32mdef\u001b[0m \u001b[0m_value_or_default\u001b[0m\u001b[1;33m(\u001b[0m\u001b[0mself\u001b[0m\u001b[1;33m,\u001b[0m \u001b[0mobj\u001b[0m\u001b[1;33m:\u001b[0m \u001b[0mMapping\u001b[0m\u001b[1;33m[\u001b[0m\u001b[0m_KT\u001b[0m\u001b[1;33m,\u001b[0m \u001b[0m_VT\u001b[0m\u001b[1;33m]\u001b[0m\u001b[1;33m,\u001b[0m \u001b[0mkey\u001b[0m\u001b[1;33m:\u001b[0m \u001b[0m_KT\u001b[0m\u001b[1;33m,\u001b[0m \u001b[0mdefault\u001b[0m\u001b[1;33m:\u001b[0m \u001b[0m_VT\u001b[0m\u001b[1;33m)\u001b[0m \u001b[1;33m->\u001b[0m \u001b[0m_VT\u001b[0m\u001b[1;33m:\u001b[0m\u001b[1;33m\u001b[0m\u001b[1;33m\u001b[0m\u001b[0m\n",
      "\u001b[1;31mElementClickInterceptedException\u001b[0m: Message: element click intercepted: Element <li href=\"https://www.yatra.com/seo-source/top-routes-services-with-lowest-fare-date?fromCityCode=\" class=\"dest\">...</li> is not clickable at point (656, 682). Other element would receive the click: <div class=\"gdpr-headerWrapper\">...</div>\n  (Session info: chrome=99.0.4844.74)\nStacktrace:\nBacktrace:\n\tOrdinal0 [0x010D9943+2595139]\n\tOrdinal0 [0x0106C9F1+2148849]\n\tOrdinal0 [0x00F64528+1066280]\n\tOrdinal0 [0x00F97621+1275425]\n\tOrdinal0 [0x00F95657+1267287]\n\tOrdinal0 [0x00F9333B+1258299]\n\tOrdinal0 [0x00F9207D+1253501]\n\tOrdinal0 [0x00F87AB3+1211059]\n\tOrdinal0 [0x00FAB9EC+1358316]\n\tOrdinal0 [0x00F87474+1209460]\n\tOrdinal0 [0x00FABC04+1358852]\n\tOrdinal0 [0x00FBBAF2+1424114]\n\tOrdinal0 [0x00FAB806+1357830]\n\tOrdinal0 [0x00F86086+1204358]\n\tOrdinal0 [0x00F86F96+1208214]\n\tGetHandleVerifier [0x0127B232+1658114]\n\tGetHandleVerifier [0x0133312C+2411516]\n\tGetHandleVerifier [0x0116F261+560433]\n\tGetHandleVerifier [0x0116E366+556598]\n\tOrdinal0 [0x0107286B+2173035]\n\tOrdinal0 [0x010775F8+2192888]\n\tOrdinal0 [0x010776E5+2193125]\n\tOrdinal0 [0x010811FC+2232828]\n\tBaseThreadInitThunk [0x75AD6739+25]\n\tRtlGetFullPathName_UEx [0x77098E7F+1215]\n\tRtlGetFullPathName_UEx [0x77098E4D+1165]\n"
     ]
    }
   ],
   "source": [
    "#Scraping all the necessary url data from which to scrape the required air fare data\n",
    "flturl_tag = driver.find_elements_by_xpath(\"//a[@class='VueCarousel-slide items']\")\n",
    "\n",
    "for u in flturl_tag:\n",
    "    try: \n",
    "        flturl.append(u.get_attribute(\"href\"))\n",
    "    except:\n",
    "        flturl.append('-')\n",
    "    time.sleep(1)\n",
    "        \n",
    "locbtn1 = driver.find_element_by_xpath('/html/body/div[2]/div/section/div[2]/div[2]/ul/li[2]')\n",
    "locbtn1.click()\n",
    "\n",
    "for u in flturl_tag:\n",
    "    try:\n",
    "        flturl.append(u.get_attribute(\"href\"))\n",
    "    except:\n",
    "        flturl.append('-')\n",
    "    time.sleep(1)\n",
    "    \n",
    "locbtn2 = driver.find_element_by_xpath('/html/body/div[2]/div/section/div[2]/div[2]/ul/li[3]')\n",
    "locbtn2.click()\n",
    "    \n",
    "for u in flturl_tag:\n",
    "    try:\n",
    "        flturl.append(u.get_attribute(\"href\"))\n",
    "    except:\n",
    "        flturl.append('-')\n",
    "    time.sleep(1)\n",
    "    \n",
    "locbtn3 = driver.find_element_by_xpath('/html/body/div[2]/div/section/div[2]/div[2]/ul/li[4]')\n",
    "locbtn3.click()\n",
    "    \n",
    "for u in flturl_tag:\n",
    "    try:\n",
    "        flturl.append(u.get_attribute(\"href\"))\n",
    "    except:\n",
    "        flturl.append('-')\n",
    "    time.sleep(1)\n",
    "    \n",
    "locbtn4 = driver.find_element_by_xpath('/html/body/div[2]/div/section/div[2]/div[2]/ul/li[5]')\n",
    "locbtn4.click()\n",
    "    \n",
    "for u in flturl_tag:\n",
    "    try:\n",
    "        flturl.append(u.get_attribute(\"href\"))\n",
    "    except:\n",
    "        flturl.append('-')\n",
    "    time.sleep(1)\n",
    "    \n",
    "locbtn5 = driver.find_element_by_xpath('/html/body/div[2]/div/section/div[2]/div[2]/ul/li[6]')\n",
    "locbtn5.click()\n",
    "    \n",
    "for u in flturl_tag:\n",
    "    try:\n",
    "        flturl.append(u.get_attribute(\"href\"))\n",
    "    except:\n",
    "        flturl.append('-')\n",
    "    time.sleep(1)\n",
    "    \n",
    "    "
   ]
  },
  {
   "cell_type": "code",
   "execution_count": null,
   "id": "97ccd8f7",
   "metadata": {},
   "outputs": [],
   "source": [
    "len(flturl)"
   ]
  },
  {
   "cell_type": "code",
   "execution_count": null,
   "id": "9cc39223",
   "metadata": {},
   "outputs": [],
   "source": [
    "flturl = [ x for x in flturl if \"https://www.yatra.com/international-flights/\" not in x ] #removing foreign flight links"
   ]
  },
  {
   "cell_type": "code",
   "execution_count": null,
   "id": "9e23bb38",
   "metadata": {
    "scrolled": true
   },
   "outputs": [],
   "source": [
    "len(flturl) #the list contains all important url data for web scraping"
   ]
  },
  {
   "cell_type": "code",
   "execution_count": null,
   "id": "55f63fe5",
   "metadata": {},
   "outputs": [],
   "source": [
    "airline = [] #empty list to contain all the scraped airline names\n",
    "fltnum= []  #empty list to contain all the scraped airline flight numbers\n",
    "src= [] #empty list to contain all the scraped airline flight route data\n",
    "deptdate = [] #empty list to contain all the scraped airline flight departure dates\n",
    "stops= [] #empty list to contain all the scraped airline flight total stops\n",
    "duration= []  #empty list to contain all the scraped airline flight duration\n",
    "price= [] #empty list to contain all the scraped airline flight ticket price\n",
    "n = [] #empty list to contain all the scraped url data for return flights"
   ]
  },
  {
   "cell_type": "code",
   "execution_count": null,
   "id": "786adde7",
   "metadata": {},
   "outputs": [],
   "source": [
    "for l in flturl:\n",
    "    driver.get(l) #loading the url on web driver\n",
    "    time.sleep(4) # giving the webpage 4 seconds to load\n",
    "    ltag= driver.find_elements_by_xpath(\"/html/body/div[3]/div[2]/div[3]/div[1]/div[1]/article/div[2]/strong[5]/a\")\n",
    "    for u in ltag:\n",
    "        try: \n",
    "         n.append(u.get_attribute(\"href\")) \n",
    "        except:\n",
    "         n.append('-') #finds all url elements of return flights and appends them to the empty list\n",
    "    try:\n",
    "        airlinetag = driver.find_elements_by_xpath(\"//span[@class='i-b text ellipsis']\")\n",
    "        for i in airlinetag:\n",
    "            airline.append(i.text) #finds all airline name elements and appends them to airline list\n",
    "    except:\n",
    "        airline.append('-')\n",
    "        \n",
    "    try:\n",
    "        fltnumtag = driver.find_elements_by_xpath(\"//p[@class ='normal fs-11 font-lightestgrey no-wrap fl-no']/span\")\n",
    "        for i in fltnumtag: \n",
    "          fltnum.append(i.text) #finds all airline flightnumber elements and appends them to flightnumber list\n",
    "    except:\n",
    "        fltnum.append('-')   \n",
    "    try:\n",
    "        srctag = driver.find_elements_by_xpath(\"//p[@class ='fs-10 font-lightgrey no-wrap city ellipsis']\")\n",
    "        for i in srctag:\n",
    "            src.append(i.text) #finds all airline route elements and appends them to src list\n",
    "    except:\n",
    "        src.append('-')\n",
    "        \n",
    "    try:\n",
    "        stopstag = driver.find_elements_by_xpath(\"//span[@class='dotted-borderbtm' or @class='cursor-default']\")\n",
    "        for i in stopstag:\n",
    "            stops.append(i.text) #finds all airline flight total stops elements and appends them to stops list\n",
    "    except:\n",
    "        stops.append('-')\n",
    "    try:\n",
    "        durationtag = driver.find_elements_by_xpath(\"//p[@class ='fs-12 bold du mb-2']\")\n",
    "        for i in durationtag:\n",
    "            duration.append(i.text) #finds all airline flight duration elements and appends them to duration list\n",
    "    except:\n",
    "        duration.append('-')\n",
    "    \n",
    "    try:\n",
    "        pricetag = driver.find_elements_by_xpath(\"//div[@class ='i-b tipsy fare-summary-tooltip fs-18']\")\n",
    "        for i in pricetag:\n",
    "            price.append(i.text) #finds all airline flight ticket price elements and appends them to price list\n",
    "    except:\n",
    "        price.append('-')\n",
    "      \n",
    "    try:\n",
    "        deptdatetag = driver.find_element_by_xpath(\"//span[@class ='lowestDate']\")\n",
    "        for i in range(0,10):\n",
    "            deptdate.append(deptdatetag.text) \"\"\"Appends the flight date element of the current url \n",
    "                                                 web page for 10 times to deptdate list and repeats for every url webpage\"\"\" \n",
    "    except:\n",
    "        deptdate.append('-')\n",
    "    "
   ]
  },
  {
   "cell_type": "code",
   "execution_count": null,
   "id": "6fcc639b",
   "metadata": {},
   "outputs": [],
   "source": [
    "#Extracting Air Fare Data from URL webpages of return flights, program functions exactly same as above\n",
    "\n",
    "for l in n:\n",
    "    driver.get(l)\n",
    "    time.sleep(4)\n",
    "    \n",
    "    try:\n",
    "        airlinetag = driver.find_elements_by_xpath(\"//span[@class='i-b text ellipsis']\")\n",
    "        for i in airlinetag:\n",
    "            airline.append(i.text)\n",
    "    except:\n",
    "        airline.append('-')\n",
    "        \n",
    "    try:\n",
    "        fltnumtag = driver.find_elements_by_xpath(\"//p[@class ='normal fs-11 font-lightestgrey no-wrap fl-no']/span\")\n",
    "        for i in fltnumtag:\n",
    "          fltnum.append(i.text)\n",
    "    except:\n",
    "        fltnum.append('-')   \n",
    "    try:\n",
    "        srctag = driver.find_elements_by_xpath(\"//p[@class ='fs-10 font-lightgrey no-wrap city ellipsis']\")\n",
    "        for i in srctag:\n",
    "            src.append(i.text)\n",
    "    except:\n",
    "        src.append('-')\n",
    "        \n",
    "    try:\n",
    "        stopstag = driver.find_elements_by_xpath(\"//span[@class='dotted-borderbtm' or @class='cursor-default']\")\n",
    "        for i in stopstag:\n",
    "            stops.append(i.text)\n",
    "    except:\n",
    "        stops.append('-')\n",
    "    try:\n",
    "        durationtag = driver.find_elements_by_xpath(\"//p[@class ='fs-12 bold du mb-2']\")\n",
    "        for i in durationtag:\n",
    "            duration.append(i.text)\n",
    "    except:\n",
    "        duration.append('-')\n",
    "    \n",
    "    try:\n",
    "        pricetag = driver.find_elements_by_xpath(\"//div[@class ='i-b tipsy fare-summary-tooltip fs-18']\")\n",
    "        for i in pricetag:\n",
    "            price.append(i.text)\n",
    "    except:\n",
    "        price.append('-')\n",
    "      \n",
    "    try:\n",
    "        deptdatetag = driver.find_element_by_xpath(\"//span[@class ='lowestDate']\")\n",
    "        for i in range(0,10):\n",
    "            deptdate.append(deptdatetag.text)\n",
    "    except:\n",
    "        deptdate.append('-')\n",
    "    "
   ]
  },
  {
   "cell_type": "code",
   "execution_count": null,
   "id": "f48f93d7",
   "metadata": {},
   "outputs": [],
   "source": [
    "dest=[] #empty list to contain destination location data\n",
    "source=[]   #empty list to contain source location data\n",
    "for i in range(0,len(src),2):  \n",
    "    source.append(src[i])\n",
    "for i in range(1,len(src),2):\n",
    "    dest.append(src[i]) \"\"\"splits the data elements in src list into source and destination data elements \n",
    "                           and appends them to source and destination lists respectively.\"\"\""
   ]
  },
  {
   "cell_type": "code",
   "execution_count": null,
   "id": "7219a285",
   "metadata": {},
   "outputs": [],
   "source": [
    "#Creating FlightDF Data Frame with the scraped data\n",
    "FlightDF= pd.DataFrame({'Airline':airline,'Flight Number':fltnum,'Date of Departure':deptdate[0:1175],'From':source,'To':dest,'Duration':duration,'Total Stops':stops,'Price':price})"
   ]
  },
  {
   "cell_type": "code",
   "execution_count": null,
   "id": "8f033b57",
   "metadata": {},
   "outputs": [],
   "source": [
    "FlightDF"
   ]
  },
  {
   "cell_type": "code",
   "execution_count": null,
   "id": "91597bdf",
   "metadata": {},
   "outputs": [],
   "source": [
    "FlightDF.to_csv('FlightDatascrape.csv') # Saving as .csv file"
   ]
  },
  {
   "cell_type": "markdown",
   "id": "0dfeb4a0",
   "metadata": {},
   "source": [
    "### Scraping Data from EaseMyTrip"
   ]
  },
  {
   "cell_type": "code",
   "execution_count": null,
   "id": "26123e0e",
   "metadata": {},
   "outputs": [],
   "source": [
    "url =  'https://www.easemytrip.com/?utm_source=google&utm_medium=cpc&utm_campaign=14425253924&utm_content=128139253602&utm_term=easemytrip&utm_campaign=14425253924&utm_source=g_c&utm_medium=cpc&utm_term=e_easemytrip&adgroupid=128139253602&gclid=CjwKCAiAqIKNBhAIEiwAu_ZLDlT5YOtVqr_cBvopvRV97poc_Qf54b5aTshxY-ho9drT4c4ICLdOLBoC8YcQAvD_BwE'\n",
    "driver = webdriver.Edge(service = s)\n",
    "driver.maximize_window() \n",
    "driver.get(url) #accessing the url on web driver\n"
   ]
  },
  {
   "cell_type": "code",
   "execution_count": null,
   "id": "9ec2b7da",
   "metadata": {},
   "outputs": [],
   "source": [
    "#Storing the required urls for web scraping in a list\n",
    "n = ['https://flight.easemytrip.com/FlightList/Index?org=DEL-Delhi,%20India%20,&dept=BOM-Mumbai,%20India%20,&adt=1&chd=0&inf=0&cabin=0&airline=Any&deptDT=28/11/2021&arrDT=&isOneway=true&isDomestic=true&CouponCode=&lang=&ompAff=&bc=&ISWL=','https://flight.easemytrip.com/FlightList/Index?org=BOM-Mumbai,%20India%20,&dept=DEL-Delhi,%20India%20,&adt=1&chd=0&inf=0&cabin=0&airline=Any&deptDT=29/11/2021&arrDT=&isOneway=true&isDomestic=true&CouponCode=&lang=&ompAff=&bc=&ISWL=','https://flight.easemytrip.com/FlightList/Index?org=DEL-Delhi,%20India%20,&dept=GOI-Goa,%20India%20,&adt=1&chd=0&inf=0&cabin=0&airline=Any&deptDT=30/11/2021&arrDT=&isOneway=true&isDomestic=true&CouponCode=&lang=&ompAff=&bc=&ISWL=','https://flight.easemytrip.com/FlightList/Index?org=DEL-Delhi,%20India%20,&dept=BLR-Bangalore,%20India%20,&adt=1&chd=0&inf=0&cabin=0&airline=Any&deptDT=01/12/2021&arrDT=&isOneway=true&isDomestic=true&CouponCode=&lang=&ompAff=&bc=&ISWL=','https://flight.easemytrip.com/FlightList/Index?org=BOM-Mumbai,%20India%20,&dept=GOI-Goa,%20India%20,&adt=1&chd=0&inf=0&cabin=0&airline=Any&deptDT=02/12/2021&arrDT=&isOneway=true&isDomestic=true&CouponCode=&lang=&ompAff=&bc=&ISWL=','https://flight.easemytrip.com/FlightList/Index?org=DEL-Delhi,%20India%20,&dept=PAT-Patna,%20India%20,&adt=1&chd=0&inf=0&cabin=0&airline=Any&deptDT=03/12/2021&arrDT=&isOneway=true&isDomestic=true&CouponCode=&lang=&ompAff=&bc=&ISWL=','https://flight.easemytrip.com/FlightList/Index?org=DEL-Delhi,%20India%20,&dept=CCU-Kolkata,%20India%20,&adt=1&chd=0&inf=0&cabin=0&airline=Any&deptDT=04/12/2021&arrDT=&isOneway=true&isDomestic=true&CouponCode=&lang=&ompAff=&bc=&ISWL=','https://flight.easemytrip.com/FlightList/Index?org=DEL-Delhi,%20India%20,&dept=PNQ-Pune,%20India%20,&adt=1&chd=0&inf=0&cabin=0&airline=Any&deptDT=05/12/2021&arrDT=&isOneway=true&isDomestic=true&CouponCode=&lang=&ompAff=&bc=&ISWL=','https://flight.easemytrip.com/FlightList/Index?org=CCU-Kolkata,%20India%20,&dept=DEL-Delhi,%20India%20,&adt=1&chd=0&inf=0&cabin=0&airline=Any&deptDT=06/12/2021&arrDT=&isOneway=true&isDomestic=true&CouponCode=&lang=&ompAff=&bc=&ISWL=','https://flight.easemytrip.com/FlightList/Index?org=BOM-Mumbai,%20India%20,&dept=BLR-Bangalore,%20India%20,&adt=1&chd=0&inf=0&cabin=0&airline=Any&deptDT=07/12/2021&arrDT=&isOneway=true&isDomestic=true&CouponCode=&lang=&ompAff=&bc=&ISWL=']"
   ]
  },
  {
   "cell_type": "code",
   "execution_count": null,
   "id": "a92cabbd",
   "metadata": {},
   "outputs": [],
   "source": [
    "airline = [] #empty list to contain all the scraped airline names\n",
    "fltnum= []  #empty list to contain all the scraped airline flight numbers\n",
    "src= [] #empty list to contain all the scraped airline flight route data\n",
    "deptdate = [] #empty list to contain all the scraped airline flight departure dates\n",
    "stops= [] #empty list to contain all the scraped airline flight total stops\n",
    "duration= [] #empty list to contain all the scraped airline flight duration\n",
    "price= [] #empty list to contain all the scraped airline flight ticket price"
   ]
  },
  {
   "cell_type": "code",
   "execution_count": null,
   "id": "9598f5ad",
   "metadata": {},
   "outputs": [],
   "source": [
    "for l in n:\n",
    "    driver.get(l)#loading the url on web driver\n",
    "    time.sleep(4) # giving the webpage 4 seconds to load\n",
    "    \n",
    "    try:\n",
    "        airlinetag = driver.find_elements_by_xpath(\"//span[@class='txt-r4 ng-binding']\")\n",
    "        for i in airlinetag:\n",
    "            airline.append(i.text)#finds all airline name elements and appends them to airline list\n",
    "            \n",
    "    except:\n",
    "        airline.append('-')\n",
    "        al.append('-')\n",
    "    try:\n",
    "        fltnumtag = driver.find_elements_by_xpath(\"//span[@class ='txt-r5']\")\n",
    "        for i in fltnumtag:   #finds all airline flightnumber elements and appends them to flightnumber list\n",
    "          fltnum.append(i.text)\n",
    "    except:\n",
    "        fltnum.append('-')   \n",
    "    try:\n",
    "        srctag = driver.find_elements_by_xpath(\"//span[@class ='txt-r3-n ng-binding']\")\n",
    "        for i in srctag:\n",
    "            src.append(i.text) #finds all airline route elements and appends them to src list\n",
    "    except:\n",
    "        src.append('-')\n",
    "        \n",
    "    try:\n",
    "        stopstag = driver.find_elements_by_xpath(\"//span[@class='dura_md2 ng-scope']\")\n",
    "        for i in stopstag:\n",
    "            stops.append(i.text) #finds all airline flight total stops elements and appends them to stops list\n",
    "    except:\n",
    "        stops.append('-')\n",
    "    try:\n",
    "        durationtag = driver.find_elements_by_xpath(\"//span[@class ='dura_md ng-binding']\")\n",
    "        for i in durationtag:\n",
    "            duration.append(i.text) #finds all airline flight duration elements and appends them to duration list\n",
    "    except:\n",
    "        duration.append('-')\n",
    "    \n",
    "    try:\n",
    "        pricetag = driver.find_elements_by_xpath(\"//div[@class ='col-md-8 col-sm-8 col-xs-9 txt-r6-n ng-binding']\")\n",
    "        for i in pricetag:\n",
    "            price.append(i.text) #finds all airline flight ticket price elements and appends them to price list\n",
    "    except:\n",
    "        price.append('-')"
   ]
  },
  {
   "cell_type": "code",
   "execution_count": null,
   "id": "c02806d3",
   "metadata": {},
   "outputs": [],
   "source": [
    "for l in n:\n",
    "    driver.get(l)\n",
    "    time.sleep(4)\n",
    "    al=[] # an empty list to append airline names to be used later for scraping Date data\n",
    "    try:\n",
    "        airlinetag = driver.find_elements_by_xpath(\"//span[@class='txt-r4 ng-binding']\")\n",
    "        for i in airlinetag:\n",
    "            al.append(i.text)#finds all airline name elements and appends them to al list\n",
    "            \n",
    "    except:\n",
    "        \n",
    "        al.append('-')\n",
    "    try:\n",
    "        deptdatetag = driver.find_element_by_xpath(\"//*[@id='jssor_1']/div/div/div/div/div[2]/div[6]/div[1]/div[1]/div[1]\")\n",
    "        for i in range(0,len(al)):\n",
    "            deptdate.append(deptdatetag.text) \n",
    "    except:\n",
    "        deptdate.append('-') \"\"\"Appends the flight date element of the current url \n",
    "                                                 web page for total number of airline names on the webpage\n",
    "                                                 to deptdate list and repeats for every url webpage\"\"\""
   ]
  },
  {
   "cell_type": "code",
   "execution_count": null,
   "id": "f9805127",
   "metadata": {},
   "outputs": [],
   "source": [
    "Price = list(filter(None, price))#removing blank elements from list"
   ]
  },
  {
   "cell_type": "code",
   "execution_count": null,
   "id": "1edac6d4",
   "metadata": {},
   "outputs": [],
   "source": [
    "dest=[] #empty list to contain destination location data\n",
    "source=[]#empty list to contain source location data\n",
    "for i in range(0,len(src),2):\n",
    "    source.append(src[i])\n",
    "for i in range(1,len(src),2):\n",
    "    dest.append(src[i])\"\"\"splits the data elements in src list into source and destination data elements \n",
    "                           and appends them to source and destination lists respectively.\"\"\""
   ]
  },
  {
   "cell_type": "code",
   "execution_count": null,
   "id": "e9d2798b",
   "metadata": {},
   "outputs": [],
   "source": [
    "#Creating FlightDF Data Frame with the scraped data\n",
    "FlightDF2= pd.DataFrame({'Airline':airline,'Flight Number':fltnum,'Date of Departure':deptdate[0:1410],'From':source,'To':dest,'Duration':duration,'Total Stops':stops,'Price':Price})"
   ]
  },
  {
   "cell_type": "code",
   "execution_count": null,
   "id": "392b1d75",
   "metadata": {},
   "outputs": [],
   "source": [
    "FlightDF2"
   ]
  },
  {
   "cell_type": "markdown",
   "id": "41038bec",
   "metadata": {},
   "source": [
    "### Combining the 2 DataFrames"
   ]
  },
  {
   "cell_type": "code",
   "execution_count": null,
   "id": "bac3b1f9",
   "metadata": {},
   "outputs": [],
   "source": [
    "FlightDF =  pd.read_csv('FlightDatascrape.csv')"
   ]
  },
  {
   "cell_type": "code",
   "execution_count": null,
   "id": "b50f9b5d",
   "metadata": {},
   "outputs": [],
   "source": [
    "FlightDF"
   ]
  },
  {
   "cell_type": "code",
   "execution_count": null,
   "id": "c499b8fd",
   "metadata": {},
   "outputs": [],
   "source": [
    "FlightData = pd.concat([FlightDF,FlightDF2],ignore_index=True)"
   ]
  },
  {
   "cell_type": "code",
   "execution_count": null,
   "id": "f252c497",
   "metadata": {},
   "outputs": [],
   "source": [
    "FlightData"
   ]
  },
  {
   "cell_type": "code",
   "execution_count": null,
   "id": "a7062e68",
   "metadata": {},
   "outputs": [],
   "source": [
    "FlightData.drop(columns=['Unnamed: 0'],inplace=True) #dropping Unnamed: 0 column"
   ]
  },
  {
   "cell_type": "code",
   "execution_count": null,
   "id": "86ed2269",
   "metadata": {},
   "outputs": [],
   "source": [
    "FlightData.to_csv('FlightDataWebscrape.csv') # Saving as .csv file"
   ]
  },
  {
   "cell_type": "code",
   "execution_count": null,
   "id": "b2b866d0",
   "metadata": {},
   "outputs": [],
   "source": [
    "FlightData"
   ]
  },
  {
   "cell_type": "code",
   "execution_count": null,
   "id": "cce91049",
   "metadata": {},
   "outputs": [],
   "source": []
  }
 ],
 "metadata": {
  "kernelspec": {
   "display_name": "Python 3",
   "language": "python",
   "name": "python3"
  },
  "language_info": {
   "codemirror_mode": {
    "name": "ipython",
    "version": 3
   },
   "file_extension": ".py",
   "mimetype": "text/x-python",
   "name": "python",
   "nbconvert_exporter": "python",
   "pygments_lexer": "ipython3",
   "version": "3.8.8"
  }
 },
 "nbformat": 4,
 "nbformat_minor": 5
}
