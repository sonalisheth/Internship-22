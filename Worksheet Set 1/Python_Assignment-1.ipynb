{
 "cells": [
  {
   "cell_type": "markdown",
   "id": "6d49dab0",
   "metadata": {},
   "source": [
    "# Python Assignment"
   ]
  },
  {
   "cell_type": "markdown",
   "id": "6835ab38",
   "metadata": {},
   "source": [
    "### Q11 to Q15 are programming questions. Answer them in Jupyter Notebook."
   ]
  },
  {
   "cell_type": "markdown",
   "id": "ffc96f61",
   "metadata": {},
   "source": [
    "#### 11. Write a python program to find the factorial of a number."
   ]
  },
  {
   "cell_type": "code",
   "execution_count": 1,
   "id": "a20a5117",
   "metadata": {},
   "outputs": [
    {
     "name": "stdout",
     "output_type": "stream",
     "text": [
      "Enter a number:\t5\n",
      "\n",
      "Factorial of 5 = 120\n"
     ]
    }
   ],
   "source": [
    "input1 =int(input('Enter a number:\\t'))\n",
    "f=1\n",
    "for i in range(1, input1+1):\n",
    "  f=f*i\n",
    "print ('\\nFactorial of', input1, '=',f)"
   ]
  },
  {
   "cell_type": "markdown",
   "id": "6b812810",
   "metadata": {},
   "source": [
    "#### 12. Write a python program to find whether a number is prime or composite."
   ]
  },
  {
   "cell_type": "code",
   "execution_count": 17,
   "id": "4d811ce3",
   "metadata": {},
   "outputs": [
    {
     "name": "stdout",
     "output_type": "stream",
     "text": [
      "Enter a number :7\n",
      "7 is a neither Prime Nor Composite number!!\n"
     ]
    }
   ],
   "source": [
    "a = int(input(\"Enter a number :\"))\n",
    "\n",
    "if a== 0 or 1:\n",
    "        print(a, \"is a neither Prime Nor Composite number!!\")\n",
    "\n",
    "elif  a > 1:\n",
    "        for i in range(2, a):\n",
    "            if (a % i) == 0:\n",
    "                print(a, \"is Not a Prime number!!\")\n",
    "                break\n",
    "        else:\n",
    "            print(a, \"is a Prime number!!\")\n",
    "else:\n",
    "        print(a, \"is a Composite number!!\")\n"
   ]
  },
  {
   "cell_type": "markdown",
   "id": "fe8757ad",
   "metadata": {},
   "source": [
    "#### 13. Write a python program to check whether a given string is palindrome or not.\n"
   ]
  },
  {
   "cell_type": "code",
   "execution_count": 26,
   "id": "cfaeaa0d",
   "metadata": {},
   "outputs": [
    {
     "name": "stdout",
     "output_type": "stream",
     "text": [
      "Please enter your String : madam\n",
      "String in reverse Order :   madam\n",
      "This is a Palindrome String\n"
     ]
    }
   ],
   "source": [
    "string = input(\"Please enter your String : \")\n",
    "\n",
    "str1 = \"\"\n",
    "\n",
    "for i in string:\n",
    "    str1 = i + str1  \n",
    "print(\"String in reverse Order :  \", str1)\n",
    "\n",
    "if(string == str1):\n",
    "       print(\"This is a Palindrome String\")\n",
    "else:\n",
    "       print(\"This is Not a Palindrome String\")"
   ]
  },
  {
   "cell_type": "markdown",
   "id": "898ad3e3",
   "metadata": {},
   "source": [
    "#### 14. Write a Python program to get the third side of right-angled triangle from two given sides.\n"
   ]
  },
  {
   "cell_type": "code",
   "execution_count": 27,
   "id": "1d7d9a01",
   "metadata": {},
   "outputs": [
    {
     "name": "stdout",
     "output_type": "stream",
     "text": [
      "Enter base: 45\n",
      "Enter height: 58\n",
      "Hypotenuse = 73.40980860893181\n"
     ]
    }
   ],
   "source": [
    "import math\n",
    "\n",
    "base= float(input(\"Enter base: \"))\n",
    "\n",
    "height= float(input(\"Enter height: \"))\n",
    "\n",
    "\n",
    "c = math.sqrt(base ** 2 + height ** 2)\n",
    "\n",
    "print(\"Hypotenuse =\", c)"
   ]
  },
  {
   "cell_type": "code",
   "execution_count": null,
   "id": "189f22d4",
   "metadata": {},
   "outputs": [],
   "source": []
  }
 ],
 "metadata": {
  "kernelspec": {
   "display_name": "Python 3",
   "language": "python",
   "name": "python3"
  },
  "language_info": {
   "codemirror_mode": {
    "name": "ipython",
    "version": 3
   },
   "file_extension": ".py",
   "mimetype": "text/x-python",
   "name": "python",
   "nbconvert_exporter": "python",
   "pygments_lexer": "ipython3",
   "version": "3.8.8"
  }
 },
 "nbformat": 4,
 "nbformat_minor": 5
}
